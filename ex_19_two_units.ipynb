{
 "cells": [
  {
   "cell_type": "code",
   "execution_count": 1,
   "metadata": {
    "collapsed": false,
    "deletable": true,
    "editable": true,
    "execution": {
     "iopub.execute_input": "2022-06-02T20:25:20.957433Z",
     "iopub.status.busy": "2022-06-02T20:25:20.956796Z",
     "iopub.status.idle": "2022-06-02T20:25:22.160738Z",
     "shell.execute_reply": "2022-06-02T20:25:22.159470Z"
    },
    "jupyter": {
     "outputs_hidden": false
    },
    "tags": []
   },
   "outputs": [],
   "source": [
    "import numpy as np\n",
    "import matplotlib as mpl\n",
    "import matplotlib.pyplot as plt\n",
    "from matplotlib.patches import Rectangle\n",
    "from matplotlib.gridspec import GridSpec\n",
    "import matplotlib.ticker as ticker\n",
    "from cycler import cycle\n",
    "\n",
    "%matplotlib inline"
   ]
  },
  {
   "cell_type": "markdown",
   "metadata": {
    "deletable": true,
    "editable": true
   },
   "source": [
    "This example uses matplotlib 2.0"
   ]
  },
  {
   "cell_type": "code",
   "execution_count": 2,
   "metadata": {
    "collapsed": false,
    "deletable": true,
    "editable": true,
    "execution": {
     "iopub.execute_input": "2022-06-02T20:25:22.164886Z",
     "iopub.status.busy": "2022-06-02T20:25:22.164542Z",
     "iopub.status.idle": "2022-06-02T20:25:22.171775Z",
     "shell.execute_reply": "2022-06-02T20:25:22.170875Z"
    },
    "jupyter": {
     "outputs_hidden": false
    },
    "tags": []
   },
   "outputs": [
    {
     "name": "stdout",
     "output_type": "stream",
     "text": [
      "Python version is 3.9.10 | packaged by conda-forge | (main, Feb  1 2022, 21:24:11) \n",
      "[GCC 9.4.0] \n",
      "\n",
      "Matplotlib version is 3.5.1 \n",
      "\n",
      "Matplotlibrc file is matplotlibrc\n",
      "\n"
     ]
    }
   ],
   "source": [
    "#%matplotlib widget\n",
    "import sys\n",
    "print(\"Python version is {} \\n\".format(sys.version))\n",
    "print(\"Matplotlib version is {} \\n\".format(mpl.__version__))\n",
    "print(\"Matplotlibrc file is {}\\n\".format(mpl.matplotlib_fname()))"
   ]
  },
  {
   "cell_type": "markdown",
   "metadata": {
    "deletable": true,
    "editable": true
   },
   "source": [
    "and the matplotlibrc file from \n",
    "https://github.com/mpmdean/matplotlibrc\n",
    "please suggest improvements"
   ]
  },
  {
   "cell_type": "markdown",
   "metadata": {
    "deletable": true,
    "editable": true
   },
   "source": [
    "## A few notes"
   ]
  },
  {
   "cell_type": "markdown",
   "metadata": {
    "deletable": true,
    "editable": true
   },
   "source": [
    "* All fields are using latex by default -- this avoid non-uniformity when using latex in some labels. \n",
    "\n",
    "* Using a uniform style is very important for an attractive manuscript. Try to avoid ad-hoc changes to the settings. \n",
    "\n",
    "* If you feel that there is a desirable change, consider applying it to the whole manuscript, preferably by setting some edits to the rc file right at the start of the script/notebook. e.g. mpl.rc('font', size=10). "
   ]
  },
  {
   "cell_type": "markdown",
   "metadata": {
    "deletable": true,
    "editable": true
   },
   "source": [
    "## Create figure"
   ]
  },
  {
   "cell_type": "markdown",
   "metadata": {
    "deletable": true,
    "editable": true
   },
   "source": [
    "* The width of a figure should always be set to the real physical column width. e.g. 3+3/8 inches for a PRL column. This will mean that fonts appear on the page in the correct size.\n",
    "\n",
    "* Gridspec and subplots_adjust are useful to set the precise location of panels.\n",
    "\n",
    "* Including 2-4 minor ticks per major tick is usually good.\n",
    "\n",
    "* Putting the colorbar on separate axes facilities better control over its location. \n",
    "\n",
    "* Saving in pdf creates vector graphics and fast performance within pdflatex."
   ]
  },
  {
   "cell_type": "code",
   "execution_count": 3,
   "metadata": {
    "execution": {
     "iopub.execute_input": "2022-06-02T20:25:22.175526Z",
     "iopub.status.busy": "2022-06-02T20:25:22.174680Z",
     "iopub.status.idle": "2022-06-02T20:25:22.182971Z",
     "shell.execute_reply": "2022-06-02T20:25:22.181707Z"
    },
    "tags": []
   },
   "outputs": [],
   "source": [
    "q_c  = np.linspace(0, 1)\n",
    "I = np.sin(q_c*np.pi)**2\n",
    "\n",
    "c = 20.88\n",
    "d = 4.07\n",
    "\n",
    "\n",
    "def q_c_to_L(q_c):\n",
    "    L = (q_c + 5.)*c/d\n",
    "    return L\n",
    "\n",
    "\n",
    "def convert_ax_q_L(ax_q_c):\n",
    "    \"\"\"\n",
    "    Update second axis according with first axis.\n",
    "    \"\"\"\n",
    "    x1, x2 = ax_q_c.get_xlim()\n",
    "    ax_L.set_xlim(q_c_to_L(x1), q_c_to_L(x2))\n",
    "    ax_L.figure.canvas.draw()"
   ]
  },
  {
   "cell_type": "code",
   "execution_count": 4,
   "metadata": {
    "execution": {
     "iopub.execute_input": "2022-06-02T20:25:22.187009Z",
     "iopub.status.busy": "2022-06-02T20:25:22.186045Z",
     "iopub.status.idle": "2022-06-02T20:25:23.679726Z",
     "shell.execute_reply": "2022-06-02T20:25:23.678885Z"
    },
    "tags": []
   },
   "outputs": [
    {
     "data": {
      "image/png": "[encoded data removed]",
      "text/plain": [
       "<Figure size 243x201.6 with 2 Axes>"
      ]
     },
     "metadata": {
      "needs_background": "light"
     },
     "output_type": "display_data"
    }
   ],
   "source": [
    "fig, ax_q_c = plt.subplots(figsize=(3+3/8, 2.8))\n",
    "ax_L = ax_q_c.twiny()\n",
    "\n",
    "ax_q_c.callbacks.connect(\"xlim_changed\", convert_ax_q_L)\n",
    "\n",
    "ax_q_c.plot(q_c, I)\n",
    "ax_q_c.set_xlim(0, 1)\n",
    "\n",
    "ax_q_c.set_xlabel(r'$q_c$')\n",
    "ax_q_c.set_ylabel('Quasi-elastic intensity')\n",
    "ax_L.set_xlabel('L')\n",
    "\n",
    "for ax in [ax_q_c, ax_L]:\n",
    "    ax.xaxis.set_minor_locator(ticker.AutoMinorLocator(2))\n",
    "    ax.yaxis.set_minor_locator(ticker.AutoMinorLocator(2))\n",
    "\n",
    "ax_L.axvline(27, color='k', linestyle=':')\n",
    "ax_L.axvline(29, color='k', linestyle=':')\n",
    "\n",
    "fig.savefig('ex_19_two_units.pdf', dpi=1200)"
   ]
  }
 ],
 "metadata": {
  "kernelspec": {
   "display_name": "Python 3 (ipykernel)",
   "language": "python",
   "name": "python3"
  },
  "language_info": {
   "codemirror_mode": {
    "name": "ipython",
    "version": 3
   },
   "file_extension": ".py",
   "mimetype": "text/x-python",
   "name": "python",
   "nbconvert_exporter": "python",
   "pygments_lexer": "ipython3",
   "version": "3.9.10"
  }
 },
 "nbformat": 4,
 "nbformat_minor": 4
}
