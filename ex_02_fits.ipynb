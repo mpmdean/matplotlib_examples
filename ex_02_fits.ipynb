{
 "cells": [
  {
   "cell_type": "code",
   "execution_count": 1,
   "metadata": {
    "collapsed": false,
    "deletable": true,
    "editable": true,
    "jupyter": {
     "outputs_hidden": false
    }
   },
   "outputs": [],
   "source": [
    "import numpy as np\n",
    "import matplotlib as mpl\n",
    "import matplotlib.pyplot as plt\n",
    "from matplotlib.gridspec import GridSpec\n",
    "import matplotlib.ticker as ticker\n",
    "from cycler import cycle\n",
    "\n",
    "from gradient_fill import gradient_fill\n",
    "\n",
    "%matplotlib widget"
   ]
  },
  {
   "cell_type": "markdown",
   "metadata": {
    "deletable": true,
    "editable": true
   },
   "source": [
    "Ths using matplotlibrc file from \n",
    "https://github.com/mpmdean/matplotlibrc\n",
    "All fields are using latex by default -- this avoid non-uniformity when using latex in some labels. "
   ]
  },
  {
   "cell_type": "code",
   "execution_count": 2,
   "metadata": {
    "collapsed": false,
    "deletable": true,
    "editable": true,
    "jupyter": {
     "outputs_hidden": false
    }
   },
   "outputs": [
    {
     "name": "stdout",
     "output_type": "stream",
     "text": [
      "Python version is 3.7.6 | packaged by conda-forge | (default, Mar  5 2020, 15:27:18) \n",
      "[GCC 7.3.0] \n",
      "\n",
      "Matplotlib version is 3.1.3 \n",
      "\n",
      "Matplotlibrc file is /home/jovyan/matplotlibrc\n",
      "\n"
     ]
    }
   ],
   "source": [
    "import sys\n",
    "print(\"Python version is {} \\n\".format(sys.version))\n",
    "print(\"Matplotlib version is {} \\n\".format(mpl.__version__))\n",
    "print(\"Matplotlibrc file is {}\\n\".format(mpl.matplotlib_fname()))"
   ]
  },
  {
   "cell_type": "markdown",
   "metadata": {
    "deletable": true,
    "editable": true
   },
   "source": [
    "In this case, I think smaller markers are better. So set this at the top and copy this between scripts for other figures. \n"
   ]
  },
  {
   "cell_type": "code",
   "execution_count": 3,
   "metadata": {
    "collapsed": false,
    "deletable": true,
    "editable": true,
    "jupyter": {
     "outputs_hidden": false
    }
   },
   "outputs": [],
   "source": [
    "mpl.rc('lines', markersize=4)"
   ]
  },
  {
   "cell_type": "markdown",
   "metadata": {
    "deletable": true,
    "editable": true
   },
   "source": [
    "## Make fake data"
   ]
  },
  {
   "cell_type": "code",
   "execution_count": 4,
   "metadata": {
    "collapsed": false,
    "deletable": true,
    "editable": true,
    "jupyter": {
     "outputs_hidden": false
    }
   },
   "outputs": [],
   "source": [
    "def p0(x, h):\n",
    "    return 2*np.exp(-(x**2)/0.3)\n",
    "\n",
    "def p1(x, h):\n",
    "    return np.exp(-((x-h*6)**2)/0.5)\n",
    "\n",
    "\n",
    "hs = np.linspace(0, 0.5, 6)\n",
    "Qs = ['({:.1f}, {:.1f})'.format(h,h) for h in hs]\n",
    "ms = [0.03*np.random.rand(1) for _ in hs]\n",
    "cs = [0.2 + 0.1*np.random.rand(1) for _ in hs]\n",
    "\n",
    "x = np.linspace(-1.5, 5, 25)\n",
    "xfit = np.linspace(-1, 5, 1000)\n",
    "peak0s = [p0(xfit, h) for h, m, c in zip(hs, ms, cs)]\n",
    "peak1s = [p1(xfit, h) for h, m, c in zip(hs, ms, cs)]\n",
    "bgs = [m*xfit +c for m, c in zip(ms, cs)]\n",
    "\n",
    "ys = [p0(x, h) + p1(x, h) + (np.random.rand(x.size)-0.5)*0.2 + m*x + c\n",
    "      for h, m, c in zip(hs, ms, cs)]\n"
   ]
  },
  {
   "cell_type": "markdown",
   "metadata": {
    "deletable": true,
    "editable": true
   },
   "source": [
    "## Create a set of colors and a cyler of markers\n",
    "The default matplotlib colors are often nice to use and can be accessed via"
   ]
  },
  {
   "cell_type": "code",
   "execution_count": 5,
   "metadata": {
    "deletable": true,
    "editable": true
   },
   "outputs": [],
   "source": [
    "colors = [f'C{i}' for i in range(10)]"
   ]
  },
  {
   "cell_type": "markdown",
   "metadata": {
    "deletable": true,
    "editable": true
   },
   "source": [
    "## Create figure"
   ]
  },
  {
   "cell_type": "code",
   "execution_count": 6,
   "metadata": {
    "collapsed": false,
    "deletable": true,
    "editable": true,
    "jupyter": {
     "outputs_hidden": false
    }
   },
   "outputs": [
    {
     "data": {
      "application/vnd.jupyter.widget-view+json": {
       "model_id": "97b65d1a4826483caafe7139c7db88e8",
       "version_major": 2,
       "version_minor": 0
      },
      "text/plain": [
       "Canvas(toolbar=Toolbar(toolitems=[('Home', 'Reset original view', 'home', 'home'), ('Back', 'Back to previous …"
      ]
     },
     "metadata": {},
     "output_type": "display_data"
    }
   ],
   "source": [
    "fig, axs = plt.subplots(2, 3, figsize=(6+3/4, 3))\n",
    "\n",
    "color = 'k'\n",
    "for ax, y, peak0, peak1, bg, Q in zip(axs.ravel(), ys, peak0s, peak1s, bgs, Qs):\n",
    "    gradient_fill(xfit, peak0+bg, fill_color=colors[0], ax=ax, zorder=1)\n",
    "    gradient_fill(xfit, peak1+bg, fill_color=colors[1], ax=ax, zorder=2)\n",
    "    #poly = ax.fill_between(xfit, peak0+bg, bg, color='#1f77b4', lw=0, alpha=0.3)\n",
    "    #ax.fill_between(xfit, peak1+bg, bg, color='#ff7f0e', lw=0, alpha=0.3)\n",
    "    ax.plot(xfit, peak0+peak1+bg, '-', alpha=0.5, color=[0.2]*3)\n",
    "    ax.errorbar(x, y, y*0.1+0.1, fmt='o', color='k', zorder=3, markerfacecolor='w', markeredgecolor='k', alpha=0.9)\n",
    "    ax.axis([-1.5, 4.5, 0, 3.9])\n",
    "    ax.text(2.5, 3, Q)\n",
    "    ax.xaxis.set_major_locator(ticker.MultipleLocator(1))\n",
    "    ax.xaxis.set_minor_locator(ticker.MultipleLocator(0.5))\n",
    "    ax.yaxis.set_major_locator(ticker.MultipleLocator(1))\n",
    "    ax.yaxis.set_minor_locator(ticker.MultipleLocator(0.5))\n",
    "\n",
    "[ax.set_yticklabels('') for ax in axs[:,1:].ravel()]\n",
    "[ax.set_xlabel('Energy loss (eV)') for ax in axs[1].ravel()]\n",
    "[ax.set_ylabel('I (Arb. units)') for ax in axs[:,0].ravel()]\n",
    "\n",
    "    \n",
    "fig.subplots_adjust(wspace=0, hspace=0, left=0.05, right=0.97, bottom=0.15, top=0.95)\n",
    "\n",
    "fig.savefig('ex_02_fits.pdf', dpi=600)"
   ]
  },
  {
   "cell_type": "code",
   "execution_count": null,
   "metadata": {
    "deletable": true,
    "editable": true
   },
   "outputs": [],
   "source": []
  }
 ],
 "metadata": {
  "kernelspec": {
   "display_name": "Python 3",
   "language": "python",
   "name": "python3"
  },
  "language_info": {
   "codemirror_mode": {
    "name": "ipython",
    "version": 3
   },
   "file_extension": ".py",
   "mimetype": "text/x-python",
   "name": "python",
   "nbconvert_exporter": "python",
   "pygments_lexer": "ipython3",
   "version": "3.7.6"
  }
 },
 "nbformat": 4,
 "nbformat_minor": 4
}
