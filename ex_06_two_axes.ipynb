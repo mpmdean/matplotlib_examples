{
 "cells": [
  {
   "cell_type": "code",
   "execution_count": 1,
   "metadata": {
    "collapsed": false,
    "deletable": true,
    "editable": true,
    "execution": {
     "iopub.execute_input": "2021-10-12T17:55:40.340374Z",
     "iopub.status.busy": "2021-10-12T17:55:40.339772Z",
     "iopub.status.idle": "2021-10-12T17:55:40.672539Z",
     "shell.execute_reply": "2021-10-12T17:55:40.672026Z"
    },
    "jupyter": {
     "outputs_hidden": false
    }
   },
   "outputs": [],
   "source": [
    "import numpy as np\n",
    "from scipy.special import erf\n",
    "import matplotlib as mpl\n",
    "import matplotlib.pyplot as plt\n",
    "import matplotlib.ticker as ticker\n",
    "import matplotlib.patches as patches\n",
    "\n",
    "%matplotlib inline"
   ]
  },
  {
   "cell_type": "markdown",
   "metadata": {
    "deletable": true,
    "editable": true
   },
   "source": [
    "Using matplotlibrc file from \n",
    "https://github.com/mpmdean/matplotlibrc\n",
    "All fields are using latex by default -- this avoid non-uniformity when using latex in some labels. "
   ]
  },
  {
   "cell_type": "code",
   "execution_count": 2,
   "metadata": {
    "collapsed": false,
    "deletable": true,
    "editable": true,
    "execution": {
     "iopub.execute_input": "2021-10-12T17:55:40.679164Z",
     "iopub.status.busy": "2021-10-12T17:55:40.678634Z",
     "iopub.status.idle": "2021-10-12T17:55:40.681474Z",
     "shell.execute_reply": "2021-10-12T17:55:40.681090Z"
    },
    "jupyter": {
     "outputs_hidden": false
    }
   },
   "outputs": [
    {
     "name": "stdout",
     "output_type": "stream",
     "text": [
      "Python version is 3.9.2 | packaged by conda-forge | (default, Feb 21 2021, 05:02:46) \n",
      "[GCC 9.3.0] \n",
      "\n",
      "Matplotlib version is 3.4.2 \n",
      "\n",
      "Matplotlibrc file is matplotlibrc\n",
      "\n"
     ]
    }
   ],
   "source": [
    "import sys\n",
    "print(\"Python version is {} \\n\".format(sys.version))\n",
    "print(\"Matplotlib version is {} \\n\".format(mpl.__version__))\n",
    "print(\"Matplotlibrc file is {}\\n\".format(mpl.matplotlib_fname()))"
   ]
  },
  {
   "cell_type": "markdown",
   "metadata": {},
   "source": [
    "## Use matlotlib colors"
   ]
  },
  {
   "cell_type": "code",
   "execution_count": 3,
   "metadata": {
    "collapsed": false,
    "execution": {
     "iopub.execute_input": "2021-10-12T17:55:40.685746Z",
     "iopub.status.busy": "2021-10-12T17:55:40.685110Z",
     "iopub.status.idle": "2021-10-12T17:55:40.687968Z",
     "shell.execute_reply": "2021-10-12T17:55:40.687305Z"
    },
    "jupyter": {
     "outputs_hidden": false
    }
   },
   "outputs": [],
   "source": [
    "colors = [f'C{i}' for i in range(10)]"
   ]
  },
  {
   "cell_type": "markdown",
   "metadata": {
    "deletable": true,
    "editable": true
   },
   "source": [
    "## Make fake data"
   ]
  },
  {
   "cell_type": "code",
   "execution_count": 4,
   "metadata": {
    "collapsed": false,
    "deletable": true,
    "editable": true,
    "execution": {
     "iopub.execute_input": "2021-10-12T17:55:40.694121Z",
     "iopub.status.busy": "2021-10-12T17:55:40.693416Z",
     "iopub.status.idle": "2021-10-12T17:55:40.696482Z",
     "shell.execute_reply": "2021-10-12T17:55:40.695984Z"
    },
    "jupyter": {
     "outputs_hidden": false
    }
   },
   "outputs": [],
   "source": [
    "T = np.arange(10, 65+1, 5)\n",
    "Tc = 55\n",
    "t = (Tc-T)/Tc\n",
    "t[t<0] = 0\n",
    "r = 0.7*np.sqrt(t)\n",
    "r[np.isnan(r)] = 0\n",
    "r += 0.05*np.random.rand(T.size)\n",
    "\n",
    "r_error = 0.03 + 0.01*np.random.rand(T.size)\n",
    "\n",
    "fwhm = 0.04*erf( (T-Tc)/10 ) + 0.002*np.random.rand(T.size)\n",
    "\n",
    "fwhm_error = 0.005 + 0.001*np.random.rand(T.size)\n"
   ]
  },
  {
   "cell_type": "markdown",
   "metadata": {
    "deletable": true,
    "editable": true
   },
   "source": [
    "## Create figure"
   ]
  },
  {
   "cell_type": "code",
   "execution_count": 5,
   "metadata": {
    "collapsed": false,
    "deletable": true,
    "editable": true,
    "execution": {
     "iopub.execute_input": "2021-10-12T17:55:40.724899Z",
     "iopub.status.busy": "2021-10-12T17:55:40.724248Z",
     "iopub.status.idle": "2021-10-12T17:55:41.889833Z",
     "shell.execute_reply": "2021-10-12T17:55:41.889124Z"
    },
    "jupyter": {
     "outputs_hidden": false
    }
   },
   "outputs": [
    {
     "data": {
      "image/png": "[encoded data removed]",
      "text/plain": [
       "<Figure size 243x165.6 with 2 Axes>"
      ]
     },
     "metadata": {},
     "output_type": "display_data"
    }
   ],
   "source": [
    "fig, axl = plt.subplots(figsize=(3+3/8, 2.3))\n",
    "\n",
    "axl.errorbar(T, r, r_error, fmt='o', color=colors[0])\n",
    "\n",
    "axr = axl.twinx()\n",
    "axr.errorbar(T, fwhm, fwhm_error, fmt='s', color=colors[1])\n",
    "\n",
    "axl.set_xlabel('T (K)')\n",
    "axl.set_ylabel('r', color=colors[0])\n",
    "axr.set_ylabel(r'$\\xi$ (\\AA{}$^{-1}$) FWHM', color=colors[1])\n",
    "\n",
    "for ax, color in zip([axl, axr], colors):\n",
    "    for t in ax.get_yticklabels():\n",
    "        t.set_color(color)\n",
    "\n",
    "fig.subplots_adjust(right=0.8, bottom=0.18)\n",
    "axl.xaxis.set_major_locator(ticker.MultipleLocator(10))\n",
    "axl.xaxis.set_minor_locator(ticker.AutoMinorLocator(2))\n",
    "axl.yaxis.set_minor_locator(ticker.AutoMinorLocator(2))\n",
    "axr.yaxis.set_minor_locator(ticker.AutoMinorLocator(2))\n",
    "\n",
    "\n",
    "arrow_l = patches.FancyArrowPatch(\n",
    "        (20, 0.52),\n",
    "        (7, 0.3),\n",
    "        connectionstyle='arc3, rad=-0.3',\n",
    "        mutation_scale=20, \n",
    "    facecolor=colors[0],\n",
    "    edgecolor='w', \n",
    "    )\n",
    "\n",
    "arrow_r = patches.FancyArrowPatch(\n",
    "        (56, 0.31),\n",
    "        (67, 0.2),\n",
    "        connectionstyle='arc3, rad=0.3',\n",
    "        mutation_scale=20, \n",
    "    facecolor=colors[1],\n",
    "    edgecolor='w', \n",
    "    )\n",
    "\n",
    "[axl.add_patch(arr) for arr in [arrow_l, arrow_r]]\n",
    "fig.savefig('ex_06_two_axes.pdf', dpi=600)"
   ]
  }
 ],
 "metadata": {
  "kernelspec": {
   "display_name": "Python 3",
   "language": "python",
   "name": "python3"
  },
  "language_info": {
   "codemirror_mode": {
    "name": "ipython",
    "version": 3
   },
   "file_extension": ".py",
   "mimetype": "text/x-python",
   "name": "python",
   "nbconvert_exporter": "python",
   "pygments_lexer": "ipython3",
   "version": "3.9.2"
  }
 },
 "nbformat": 4,
 "nbformat_minor": 4
}
