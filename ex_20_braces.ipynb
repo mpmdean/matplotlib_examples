{
 "cells": [
  {
   "cell_type": "code",
   "execution_count": 1,
   "metadata": {
    "collapsed": false,
    "deletable": true,
    "editable": true,
    "execution": {
     "iopub.execute_input": "2022-12-13T17:58:29.910438Z",
     "iopub.status.busy": "2022-12-13T17:58:29.909558Z",
     "iopub.status.idle": "2022-12-13T17:58:30.340311Z",
     "shell.execute_reply": "2022-12-13T17:58:30.339310Z"
    },
    "jupyter": {
     "outputs_hidden": false
    },
    "tags": []
   },
   "outputs": [],
   "source": [
    "import numpy as np\n",
    "import matplotlib as mpl\n",
    "import matplotlib.pyplot as plt\n",
    "import matplotlib.ticker as ticker\n",
    "\n",
    "%matplotlib inline"
   ]
  },
  {
   "cell_type": "markdown",
   "metadata": {
    "deletable": true,
    "editable": true
   },
   "source": [
    "This example uses matplotlib 2.0"
   ]
  },
  {
   "cell_type": "code",
   "execution_count": 2,
   "metadata": {
    "collapsed": false,
    "deletable": true,
    "editable": true,
    "execution": {
     "iopub.execute_input": "2022-12-13T17:58:30.344042Z",
     "iopub.status.busy": "2022-12-13T17:58:30.343593Z",
     "iopub.status.idle": "2022-12-13T17:58:30.349513Z",
     "shell.execute_reply": "2022-12-13T17:58:30.348639Z"
    },
    "jupyter": {
     "outputs_hidden": false
    },
    "tags": []
   },
   "outputs": [
    {
     "name": "stdout",
     "output_type": "stream",
     "text": [
      "Python version is 3.10.6 | packaged by conda-forge | (main, Aug 22 2022, 20:36:39) [GCC 10.4.0] \n",
      "\n",
      "Matplotlib version is 3.6.0 \n",
      "\n",
      "Matplotlibrc file is matplotlibrc\n",
      "\n"
     ]
    }
   ],
   "source": [
    "#%matplotlib widget\n",
    "import sys\n",
    "print(\"Python version is {} \\n\".format(sys.version))\n",
    "print(\"Matplotlib version is {} \\n\".format(mpl.__version__))\n",
    "print(\"Matplotlibrc file is {}\\n\".format(mpl.matplotlib_fname()))"
   ]
  },
  {
   "cell_type": "markdown",
   "metadata": {
    "deletable": true,
    "editable": true
   },
   "source": [
    "and the matplotlibrc file from \n",
    "https://github.com/mpmdean/matplotlibrc\n",
    "please suggest improvements"
   ]
  },
  {
   "cell_type": "markdown",
   "metadata": {
    "deletable": true,
    "editable": true
   },
   "source": [
    "## A few notes"
   ]
  },
  {
   "cell_type": "markdown",
   "metadata": {
    "deletable": true,
    "editable": true
   },
   "source": [
    "* All fields are using latex by default -- this avoid non-uniformity when using latex in some labels. \n",
    "\n",
    "* Using a uniform style is very important for an attractive manuscript. Try to avoid ad-hoc changes to the settings. \n",
    "\n",
    "* If you feel that there is a desirable change, consider applying it to the whole manuscript, preferably by setting some edits to the rc file right at the start of the script/notebook. e.g. mpl.rc('font', size=10). "
   ]
  },
  {
   "cell_type": "markdown",
   "metadata": {
    "deletable": true,
    "editable": true
   },
   "source": [
    "## Create figure"
   ]
  },
  {
   "cell_type": "markdown",
   "metadata": {
    "deletable": true,
    "editable": true
   },
   "source": [
    "* The width of a figure should always be set to the real physical column width. e.g. 3+3/8 inches for a PRL column. This will mean that fonts appear on the page in the correct size.\n",
    "\n",
    "* Gridspec and subplots_adjust are useful to set the precise location of panels.\n",
    "\n",
    "* Including 2-4 minor ticks per major tick is usually good.\n",
    "\n",
    "* Putting the colorbar on separate axes facilities better control over its location. \n",
    "\n",
    "* Saving in pdf creates vector graphics and fast performance within pdflatex."
   ]
  },
  {
   "cell_type": "code",
   "execution_count": 3,
   "metadata": {
    "execution": {
     "iopub.execute_input": "2022-12-13T17:58:30.354889Z",
     "iopub.status.busy": "2022-12-13T17:58:30.354596Z",
     "iopub.status.idle": "2022-12-13T17:58:32.983704Z",
     "shell.execute_reply": "2022-12-13T17:58:32.982935Z"
    },
    "tags": []
   },
   "outputs": [
    {
     "data": {
      "image/png": "[encoded data removed]",
      "text/plain": [
       "<Figure size 675x300 with 2 Axes>"
      ]
     },
     "metadata": {},
     "output_type": "display_data"
    }
   ],
   "source": [
    "X, Y = np.meshgrid(np.linspace(-2, 12, 60),\n",
    "                   np.linspace(-2, 11, 80))\n",
    "\n",
    "s2pi = np.sqrt(2*np.pi)\n",
    "tiny = 1.0e-15\n",
    "\n",
    "def gaussian(x, amplitude=1.0, center=0.0, sigma=1.0):\n",
    "    return ((amplitude/(max(tiny, s2pi*sigma)))\n",
    "            * np.exp(-(1.0*x-center)**2 / max(tiny, (2*sigma**2))))\n",
    "\n",
    "def gaussian2d(x, y, amplitude=1.0, centerx=0.0, centery=0.0, sigmax=1.0,\n",
    "               sigmay=1.0):\n",
    "    z = amplitude*(gaussian(x, amplitude=1, center=centerx, sigma=sigmax) *\n",
    "                   gaussian(y, amplitude=1, center=centery, sigma=sigmay))\n",
    "    return z\n",
    "\n",
    "Z = (gaussian2d(X, Y, centerx=2.0, centery=1.0)\n",
    "     + gaussian2d(X, Y, centerx=2.0, centery=5.0)\n",
    "     + gaussian2d(X, Y, centerx=2.0, centery=7.0)\n",
    "     \n",
    "     + gaussian2d(X, Y, centerx=9.0, centery=2.0)\n",
    "     + gaussian2d(X, Y, centerx=9.0, centery=4.0)\n",
    "     + gaussian2d(X, Y, centerx=9.0, centery=6.0)\n",
    "     + gaussian2d(X, Y, centerx=5.0, centery=8.0, sigmax=2)\n",
    "    )\n",
    "\n",
    "fig, ax = plt.subplots(figsize=(6+3/4, 3))\n",
    "\n",
    "art = ax.pcolor(X, Y, Z, shading='auto', cmap='terrain', vmin=0,\n",
    "               alpha=1, linewidth=0, rasterized=True)\n",
    "cb = plt.colorbar(art, ax=ax)\n",
    "\n",
    "ax.set_xlabel('Incident energy (eV)')\n",
    "ax.set_ylabel('Energy loss (eV)')\n",
    "cb.set_label('Intensity')\n",
    "\n",
    "ax.xaxis.set_major_locator(ticker.MultipleLocator(2))\n",
    "ax.xaxis.set_minor_locator(ticker.AutoMinorLocator(2))\n",
    "ax.yaxis.set_minor_locator(ticker.AutoMinorLocator(2))\n",
    "cb.set_ticks(ticker.MultipleLocator(0.05))\n",
    "cb.ax.yaxis.set_minor_locator(ticker.AutoMinorLocator(2))\n",
    "\n",
    "from curlyBrace import curlyBrace\n",
    "fontdict = dict(color='red')\n",
    "\n",
    "p1 = [0, 0.0]\n",
    "p2 = [0, 2]\n",
    "_ = curlyBrace(fig, ax, p1, p2, 0.05, str_text='A',\n",
    "               color='r', fontdict=fontdict)\n",
    "\n",
    "p1 = [0, 3]\n",
    "p2 = [0, 8]\n",
    "_ = curlyBrace(fig, ax, p1, p2, 0.05, str_text='B',\n",
    "               color='r', fontdict=fontdict)\n",
    "\n",
    "p1 = [7, 1]\n",
    "p2 = [7, 7]\n",
    "_ = curlyBrace(fig, ax, p1, p2, 0.05, str_text='A + B',\n",
    "               color='r', fontdict=fontdict)\n",
    "\n",
    "p1 = [4, 9]\n",
    "p2 = [7, 9]\n",
    "_ = curlyBrace(fig, ax, p1, p2, 0.05, str_text='FL',\n",
    "               color='r', fontdict=fontdict)\n",
    "\n",
    "fig.savefig('ex_20_braces.pdf', dpi=1200)"
   ]
  },
  {
   "cell_type": "code",
   "execution_count": null,
   "metadata": {},
   "outputs": [],
   "source": []
  }
 ],
 "metadata": {
  "kernelspec": {
   "display_name": "Python 3 (ipykernel)",
   "language": "python",
   "name": "python3"
  },
  "language_info": {
   "codemirror_mode": {
    "name": "ipython",
    "version": 3
   },
   "file_extension": ".py",
   "mimetype": "text/x-python",
   "name": "python",
   "nbconvert_exporter": "python",
   "pygments_lexer": "ipython3",
   "version": "3.10.6"
  }
 },
 "nbformat": 4,
 "nbformat_minor": 4
}
