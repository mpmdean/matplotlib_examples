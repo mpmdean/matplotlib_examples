{
 "cells": [
  {
   "cell_type": "code",
   "execution_count": 1,
   "metadata": {
    "deletable": true,
    "editable": true,
    "execution": {
     "iopub.execute_input": "2022-08-17T18:41:21.210991Z",
     "iopub.status.busy": "2022-08-17T18:41:21.209874Z",
     "iopub.status.idle": "2022-08-17T18:41:22.073391Z",
     "shell.execute_reply": "2022-08-17T18:41:22.072382Z"
    },
    "tags": []
   },
   "outputs": [],
   "source": [
    "import numpy as np\n",
    "import matplotlib as mpl\n",
    "import matplotlib.pyplot as plt\n",
    "from matplotlib.collections import LineCollection\n",
    "import matplotlib.ticker as ticker\n",
    "\n",
    "%matplotlib inline"
   ]
  },
  {
   "cell_type": "code",
   "execution_count": 2,
   "metadata": {
    "collapsed": false,
    "deletable": true,
    "editable": true,
    "execution": {
     "iopub.execute_input": "2022-08-17T18:41:22.077490Z",
     "iopub.status.busy": "2022-08-17T18:41:22.076947Z",
     "iopub.status.idle": "2022-08-17T18:41:22.087202Z",
     "shell.execute_reply": "2022-08-17T18:41:22.086505Z"
    },
    "jupyter": {
     "outputs_hidden": false
    }
   },
   "outputs": [],
   "source": [
    "x = np.linspace(0, 4*np.pi, 10000)\n",
    "y = np.cos(x)\n",
    "points = np.array([x, y]).T.reshape(-1, 1, 2)\n",
    "segments = np.concatenate([points[:-1], points[1:]], axis=1)\n",
    "\n",
    "I = np.linspace(0, 1, x.size)\n",
    "linewidths = I*4\n",
    "\n",
    "# Get default color\n",
    "color = mpl.colors.to_rgba(plt.rcParams['axes.prop_cycle'].by_key()['color'][0])\n",
    "colors = [list(color[0:3])+[i] for i in I]"
   ]
  },
  {
   "cell_type": "code",
   "execution_count": 3,
   "metadata": {
    "collapsed": false,
    "deletable": true,
    "editable": true,
    "execution": {
     "iopub.execute_input": "2022-08-17T18:41:22.090297Z",
     "iopub.status.busy": "2022-08-17T18:41:22.090012Z",
     "iopub.status.idle": "2022-08-17T18:41:22.503268Z",
     "shell.execute_reply": "2022-08-17T18:41:22.502277Z"
    },
    "jupyter": {
     "outputs_hidden": false
    }
   },
   "outputs": [
    {
     "data": {
      "image/png": "[encoded data removed]",
      "text/plain": [
       "<Figure size 432x288 with 1 Axes>"
      ]
     },
     "metadata": {
      "needs_background": "light"
     },
     "output_type": "display_data"
    }
   ],
   "source": [
    "fig, ax = plt.subplots()\n",
    "\n",
    "lc = LineCollection(segments, linewidths=linewidths, colors=colors)\n",
    "ax.add_collection(lc)\n",
    "ax.set_xlim(0,4*np.pi)\n",
    "ax.set_ylim(-1.1, 1.1)\n",
    "ax.set_xlabel('x')\n",
    "ax.set_ylabel('y')\n",
    "ax.xaxis.set_minor_locator(ticker.AutoMinorLocator(2))\n",
    "ax.yaxis.set_major_locator(ticker.MultipleLocator(0.5))\n",
    "ax.yaxis.set_minor_locator(ticker.AutoMinorLocator(2))\n",
    "\n"
   ]
  },
  {
   "cell_type": "code",
   "execution_count": 4,
   "metadata": {
    "collapsed": false,
    "deletable": true,
    "editable": true,
    "execution": {
     "iopub.execute_input": "2022-08-17T18:41:22.508868Z",
     "iopub.status.busy": "2022-08-17T18:41:22.508552Z",
     "iopub.status.idle": "2022-08-17T18:41:24.005555Z",
     "shell.execute_reply": "2022-08-17T18:41:24.004530Z"
    },
    "jupyter": {
     "outputs_hidden": false
    }
   },
   "outputs": [],
   "source": [
    "fig.savefig('ex_10_vary_line.pdf', dpi=1200)"
   ]
  },
  {
   "cell_type": "code",
   "execution_count": null,
   "metadata": {},
   "outputs": [],
   "source": []
  }
 ],
 "metadata": {
  "kernelspec": {
   "display_name": "Python 3",
   "language": "python",
   "name": "python3"
  },
  "language_info": {
   "codemirror_mode": {
    "name": "ipython",
    "version": 3
   },
   "file_extension": ".py",
   "mimetype": "text/x-python",
   "name": "python",
   "nbconvert_exporter": "python",
   "pygments_lexer": "ipython3",
   "version": "3.10.5"
  }
 },
 "nbformat": 4,
 "nbformat_minor": 4
}
