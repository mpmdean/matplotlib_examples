{
 "cells": [
  {
   "cell_type": "code",
   "execution_count": 1,
   "metadata": {
    "collapsed": false,
    "deletable": true,
    "editable": true,
    "execution": {
     "iopub.execute_input": "2021-08-01T18:25:50.316213Z",
     "iopub.status.busy": "2021-08-01T18:25:50.315421Z",
     "iopub.status.idle": "2021-08-01T18:25:50.720918Z",
     "shell.execute_reply": "2021-08-01T18:25:50.720185Z"
    },
    "jupyter": {
     "outputs_hidden": false
    }
   },
   "outputs": [],
   "source": [
    "import numpy as np\n",
    "import matplotlib as mpl\n",
    "import matplotlib.pyplot as plt\n",
    "from matplotlib.patches import Rectangle\n",
    "from matplotlib.gridspec import GridSpec\n",
    "import matplotlib.ticker as ticker\n",
    "from cycler import cycle\n",
    "\n",
    "%matplotlib inline"
   ]
  },
  {
   "cell_type": "markdown",
   "metadata": {
    "deletable": true,
    "editable": true
   },
   "source": [
    "This example uses matplotlib 2.0"
   ]
  },
  {
   "cell_type": "code",
   "execution_count": 2,
   "metadata": {
    "collapsed": false,
    "deletable": true,
    "editable": true,
    "execution": {
     "iopub.execute_input": "2021-08-01T18:25:50.731501Z",
     "iopub.status.busy": "2021-08-01T18:25:50.730724Z",
     "iopub.status.idle": "2021-08-01T18:25:50.818725Z",
     "shell.execute_reply": "2021-08-01T18:25:50.817730Z"
    },
    "jupyter": {
     "outputs_hidden": false
    }
   },
   "outputs": [
    {
     "name": "stdout",
     "output_type": "stream",
     "text": [
      "Python version is 3.9.2 | packaged by conda-forge | (default, Feb 21 2021, 05:02:46) \n",
      "[GCC 9.3.0] \n",
      "\n",
      "Matplotlib version is 3.4.2 \n",
      "\n",
      "Matplotlibrc file is matplotlibrc\n",
      "\n"
     ]
    }
   ],
   "source": [
    "%matplotlib widget\n",
    "import sys\n",
    "print(\"Python version is {} \\n\".format(sys.version))\n",
    "print(\"Matplotlib version is {} \\n\".format(mpl.__version__))\n",
    "print(\"Matplotlibrc file is {}\\n\".format(mpl.matplotlib_fname()))"
   ]
  },
  {
   "cell_type": "markdown",
   "metadata": {
    "deletable": true,
    "editable": true
   },
   "source": [
    "and the matplotlibrc file from \n",
    "https://github.com/mpmdean/matplotlibrc\n",
    "please suggest improvements"
   ]
  },
  {
   "cell_type": "markdown",
   "metadata": {
    "deletable": true,
    "editable": true
   },
   "source": [
    "## A few notes"
   ]
  },
  {
   "cell_type": "markdown",
   "metadata": {
    "deletable": true,
    "editable": true
   },
   "source": [
    "* All fields are using latex by default -- this avoid non-uniformity when using latex in some labels. \n",
    "\n",
    "* Using a uniform style is very important for an attractive manuscript. Try to avoid ad-hoc changes to the settings. \n",
    "\n",
    "* If you feel that there is a desirable change, consider applying it to the whole manuscript, preferably by setting some edits to the rc file right at the start of the script/notebook. e.g. mpl.rc('font', size=10). "
   ]
  },
  {
   "cell_type": "markdown",
   "metadata": {
    "deletable": true,
    "editable": true
   },
   "source": [
    "## Create figure"
   ]
  },
  {
   "cell_type": "markdown",
   "metadata": {
    "deletable": true,
    "editable": true
   },
   "source": [
    "* The width of a figure should always be set to the real physical column width. e.g. 3+3/8 inches for a PRL column. This will mean that fonts appear on the page in the correct size.\n",
    "\n",
    "* Gridspec and subplots_adjust are useful to set the precise location of panels.\n",
    "\n",
    "* Including 2-4 minor ticks per major tick is usually good.\n",
    "\n",
    "* Putting the colorbar on separate axes facilities better control over its location. \n",
    "\n",
    "* Saving in pdf creates vector graphics and fast performance within pdflatex."
   ]
  },
  {
   "cell_type": "code",
   "execution_count": 3,
   "metadata": {
    "execution": {
     "iopub.execute_input": "2021-08-01T18:25:50.830722Z",
     "iopub.status.busy": "2021-08-01T18:25:50.829396Z",
     "iopub.status.idle": "2021-08-01T18:25:50.835928Z",
     "shell.execute_reply": "2021-08-01T18:25:50.834439Z"
    }
   },
   "outputs": [],
   "source": [
    "def make_gs():\n",
    "    gs = GridSpec(2, 5, left=0.02, right=.98, bottom=0.2, top=.93,\n",
    "                  wspace=0., hspace=0.1, width_ratios=[.8, .05, .8, .8, 1])\n",
    "    return gs\n",
    "\n",
    "def set_minors(ax):\n",
    "    ax.xaxis.set_minor_locator(ticker.AutoMinorLocator(2))\n",
    "    ax.yaxis.set_minor_locator(ticker.AutoMinorLocator(2))\n",
    "    \n",
    "def add_label(ax, label, pos='out'):\n",
    "    if pos == 'out':\n",
    "        ax.text(-0.05, 1.15, label, transform=ax.transAxes, va='top', ha='right')\n",
    "    else:\n",
    "        ax.text(0.08, 0.85, label, transform=ax.transAxes, va='top', ha='left')\n",
    "\n",
    "markers = cycle(['o', 's', '^', 'v', '>', '<'])"
   ]
  },
  {
   "cell_type": "code",
   "execution_count": 4,
   "metadata": {
    "execution": {
     "iopub.execute_input": "2021-08-01T18:25:50.850727Z",
     "iopub.status.busy": "2021-08-01T18:25:50.845466Z",
     "iopub.status.idle": "2021-08-01T18:25:52.539540Z",
     "shell.execute_reply": "2021-08-01T18:25:52.538951Z"
    }
   },
   "outputs": [
    {
     "data": {
      "application/vnd.jupyter.widget-view+json": {
       "model_id": "a72f0e2a54cb4f4bb13e140f82845296",
       "version_major": 2,
       "version_minor": 0
      },
      "text/plain": [
       "Canvas(toolbar=Toolbar(toolitems=[('Home', 'Reset original view', 'home', 'home'), ('Back', 'Back to previous …"
      ]
     },
     "metadata": {},
     "output_type": "display_data"
    }
   ],
   "source": [
    "fig = plt.figure(figsize=(6.75, 2.2))\n",
    "\n",
    "gs0 = make_gs()\n",
    "\n",
    "image = np.random.random((100, 100))\n",
    "vmin, vmax = 0, 1\n",
    "\n",
    "ax0 = plt.subplot(gs0[0, 0])\n",
    "ax0.imshow(image, vmin=vmin, vmax=vmax)\n",
    "ax1 = plt.subplot(gs0[1, 0])\n",
    "art = ax1.imshow(image, vmin=vmin, vmax=vmax)\n",
    "\n",
    "#gs0 = make_gs()\n",
    "#gs0.update(left=0, wspace=0)\n",
    "axcolorbar = plt.subplot(gs0[:, 1])\n",
    "pos = axcolorbar.get_position()\n",
    "axcolorbar.set_position([pos.x0-0.02, pos.y0, pos.width, pos.height])\n",
    "cb = plt.colorbar(art, cax=axcolorbar)\n",
    "cb.set_label('Photon/s')\n",
    "cb.ax.yaxis.set_minor_locator(ticker.AutoMinorLocator(2))\n",
    "\n",
    "axs_images = []\n",
    "for ax in [ax0, ax1]:\n",
    "    ax.set_xticks([])\n",
    "    ax.set_yticks([])\n",
    "    height = 4\n",
    "    pos = (ax.get_xlim()[0] + 4, ax.get_ylim()[0] - 4 - height)\n",
    "    ax.add_patch(Rectangle(pos, 20, height, color='w'))\n",
    "    axs_images.append(ax)\n",
    "\n",
    "gs1 = make_gs()\n",
    "gs1.update(left=0.18, wspace=0, hspace=0)\n",
    "\n",
    "datas = [np.random.rand(10)*.7 for _ in range(4)]\n",
    "coords = [(i, j) for i in range(2) for j in range(2, 4)]\n",
    "\n",
    "axs_c = []\n",
    "for data, coord in zip(datas, coords):\n",
    "    ax = plt.subplot(gs1[coord[0], coord[1]])\n",
    "    ax.plot(data, marker=next(markers))\n",
    "    set_minors(ax)\n",
    "    ax.set_ylim([0, 1])\n",
    "    ax.yaxis.set_major_locator(ticker.MaxNLocator(3))\n",
    "    ax.xaxis.set_major_locator(ticker.MaxNLocator(3))\n",
    "    ax.set_xlim([-.5, 5.5])\n",
    "    axs_c.append(ax)\n",
    "\n",
    "    \n",
    "[ax.set_xticks([]) for ax in [axs_c[0], axs_c[1]]]\n",
    "[ax.set_xlabel('Delay (ps)') for ax in [axs_c[2], axs_c[3]]]\n",
    "[ax.set_yticks([]) for ax in [axs_c[1], axs_c[3]]]\n",
    "[ax.set_ylabel(r'$I_{\\textrm{on}}/I_\\textrm{off}$')\n",
    " for ax in [axs_c[0], axs_c[2]]]\n",
    "\n",
    "gs2 = make_gs()\n",
    "gs2.update(hspace=0, left=0.43)\n",
    "\n",
    "axsr = []\n",
    "for rowind in range(2):\n",
    "    ax = plt.subplot(gs2[rowind, 4])\n",
    "    ax.plot([.5, 3.5], [3, 4])\n",
    "    set_minors(ax)\n",
    "    ax.set_ylim([2.5, 4.5])\n",
    "    axsr.append(ax)\n",
    "    \n",
    "\n",
    "axsr[1].set_xlabel('Fluence (mJ/cm$^2$)')\n",
    "axsr[0].set_ylabel(r'$\\tau_\\textrm{decay}$ (ps)')\n",
    "axsr[1].set_ylabel(r'$\\tau_\\textrm{el}$ (ps)')\n",
    "\n",
    "\n",
    "add_label(axs_images[0], '(a)')\n",
    "add_label(axs_images[1], '(b)')\n",
    "add_label(axs_c[0], '(c)', pos='in')\n",
    "add_label(axs_c[1], '(d)', pos='in')\n",
    "add_label(axs_c[2], '(e)', pos='in')\n",
    "add_label(axs_c[3], '(f)', pos='in')\n",
    "add_label(axsr[0], '(g)', pos='in')\n",
    "add_label(axsr[1], '(h)', pos='in')\n",
    "\n",
    "fig.savefig('ex_13_multipanel_tr.pdf', dpi=1200)"
   ]
  },
  {
   "cell_type": "code",
   "execution_count": null,
   "metadata": {},
   "outputs": [],
   "source": []
  },
  {
   "cell_type": "code",
   "execution_count": null,
   "metadata": {},
   "outputs": [],
   "source": []
  }
 ],
 "metadata": {
  "kernelspec": {
   "display_name": "Python 3",
   "language": "python",
   "name": "python3"
  },
  "language_info": {
   "codemirror_mode": {
    "name": "ipython",
    "version": 3
   },
   "file_extension": ".py",
   "mimetype": "text/x-python",
   "name": "python",
   "nbconvert_exporter": "python",
   "pygments_lexer": "ipython3",
   "version": "3.9.2"
  },
  "widgets": {
   "application/vnd.jupyter.widget-state+json": {
    "state": {
     "3ffa5cb63e0a4001a58f8d2a63c01319": {
      "model_module": "jupyter-matplotlib",
      "model_module_version": "^0.9.0",
      "model_name": "ToolbarModel",
      "state": {
       "_current_action": "",
       "_dom_classes": [],
       "_model_module": "jupyter-matplotlib",
       "_model_module_version": "^0.9.0",
       "_model_name": "ToolbarModel",
       "_view_count": null,
       "_view_module": "jupyter-matplotlib",
       "_view_module_version": "^0.9.0",
       "_view_name": "ToolbarView",
       "button_style": "",
       "collapsed": true,
       "layout": "IPY_MODEL_47489b77d9b24932a9e6ddb6f8d28d50",
       "orientation": "vertical",
       "toolitems": [
        [
         "Home",
         "Reset original view",
         "home",
         "home"
        ],
        [
         "Back",
         "Back to previous view",
         "arrow-left",
         "back"
        ],
        [
         "Forward",
         "Forward to next view",
         "arrow-right",
         "forward"
        ],
        [
         "Pan",
         "Left button pans, Right button zooms\nx/y fixes axis, CTRL fixes aspect",
         "arrows",
         "pan"
        ],
        [
         "Zoom",
         "Zoom to rectangle\nx/y fixes axis, CTRL fixes aspect",
         "square-o",
         "zoom"
        ],
        [
         "Download",
         "Download plot",
         "floppy-o",
         "save_figure"
        ]
       ]
      }
     },
     "47489b77d9b24932a9e6ddb6f8d28d50": {
      "model_module": "@jupyter-widgets/base",
      "model_module_version": "1.2.0",
      "model_name": "LayoutModel",
      "state": {
       "_model_module": "@jupyter-widgets/base",
       "_model_module_version": "1.2.0",
       "_model_name": "LayoutModel",
       "_view_count": null,
       "_view_module": "@jupyter-widgets/base",
       "_view_module_version": "1.2.0",
       "_view_name": "LayoutView",
       "align_content": null,
       "align_items": null,
       "align_self": null,
       "border": null,
       "bottom": null,
       "display": null,
       "flex": null,
       "flex_flow": null,
       "grid_area": null,
       "grid_auto_columns": null,
       "grid_auto_flow": null,
       "grid_auto_rows": null,
       "grid_column": null,
       "grid_gap": null,
       "grid_row": null,
       "grid_template_areas": null,
       "grid_template_columns": null,
       "grid_template_rows": null,
       "height": null,
       "justify_content": null,
       "justify_items": null,
       "left": null,
       "margin": null,
       "max_height": null,
       "max_width": null,
       "min_height": null,
       "min_width": null,
       "object_fit": null,
       "object_position": null,
       "order": null,
       "overflow": null,
       "overflow_x": null,
       "overflow_y": null,
       "padding": null,
       "right": null,
       "top": null,
       "visibility": null,
       "width": null
      }
     },
     "a72f0e2a54cb4f4bb13e140f82845296": {
      "model_module": "jupyter-matplotlib",
      "model_module_version": "^0.9.0",
      "model_name": "MPLCanvasModel",
      "state": {
       "_cursor": "pointer",
       "_dom_classes": [],
       "_figure_label": "Figure",
       "_height": 0,
       "_image_mode": "full",
       "_message": "",
       "_model_module": "jupyter-matplotlib",
       "_model_module_version": "^0.9.0",
       "_model_name": "MPLCanvasModel",
       "_rubberband_height": 0,
       "_rubberband_width": 0,
       "_rubberband_x": 0,
       "_rubberband_y": 0,
       "_view_count": null,
       "_view_module": "jupyter-matplotlib",
       "_view_module_version": "^0.9.0",
       "_view_name": "MPLCanvasView",
       "_width": 0,
       "capture_scroll": false,
       "footer_visible": true,
       "header_visible": true,
       "layout": "IPY_MODEL_ad7766a4f49d408ca13d863aa44ea009",
       "resizable": true,
       "toolbar": "IPY_MODEL_3ffa5cb63e0a4001a58f8d2a63c01319",
       "toolbar_position": "left",
       "toolbar_visible": true
      }
     },
     "ad7766a4f49d408ca13d863aa44ea009": {
      "model_module": "@jupyter-widgets/base",
      "model_module_version": "1.2.0",
      "model_name": "LayoutModel",
      "state": {
       "_model_module": "@jupyter-widgets/base",
       "_model_module_version": "1.2.0",
       "_model_name": "LayoutModel",
       "_view_count": null,
       "_view_module": "@jupyter-widgets/base",
       "_view_module_version": "1.2.0",
       "_view_name": "LayoutView",
       "align_content": null,
       "align_items": null,
       "align_self": null,
       "border": null,
       "bottom": null,
       "display": null,
       "flex": null,
       "flex_flow": null,
       "grid_area": null,
       "grid_auto_columns": null,
       "grid_auto_flow": null,
       "grid_auto_rows": null,
       "grid_column": null,
       "grid_gap": null,
       "grid_row": null,
       "grid_template_areas": null,
       "grid_template_columns": null,
       "grid_template_rows": null,
       "height": null,
       "justify_content": null,
       "justify_items": null,
       "left": null,
       "margin": null,
       "max_height": null,
       "max_width": null,
       "min_height": null,
       "min_width": null,
       "object_fit": null,
       "object_position": null,
       "order": null,
       "overflow": null,
       "overflow_x": null,
       "overflow_y": null,
       "padding": null,
       "right": null,
       "top": null,
       "visibility": null,
       "width": null
      }
     }
    },
    "version_major": 2,
    "version_minor": 0
   }
  }
 },
 "nbformat": 4,
 "nbformat_minor": 4
}
