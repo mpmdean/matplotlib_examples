{
 "cells": [
  {
   "cell_type": "code",
   "execution_count": 1,
   "metadata": {
    "collapsed": false,
    "deletable": true,
    "editable": true,
    "execution": {
     "iopub.execute_input": "2025-10-23T13:42:01.618170Z",
     "iopub.status.busy": "2025-10-23T13:42:01.617796Z",
     "iopub.status.idle": "2025-10-23T13:42:01.970950Z",
     "shell.execute_reply": "2025-10-23T13:42:01.970544Z"
    },
    "jupyter": {
     "outputs_hidden": false
    }
   },
   "outputs": [],
   "source": [
    "import numpy as np\n",
    "import matplotlib as mpl\n",
    "import matplotlib.pyplot as plt\n",
    "\n",
    "%matplotlib inline"
   ]
  },
  {
   "cell_type": "markdown",
   "metadata": {},
   "source": [
    "## Function to make a single semicircle pair"
   ]
  },
  {
   "cell_type": "code",
   "execution_count": 2,
   "metadata": {
    "execution": {
     "iopub.execute_input": "2025-10-23T13:42:01.973450Z",
     "iopub.status.busy": "2025-10-23T13:42:01.973297Z",
     "iopub.status.idle": "2025-10-23T13:42:01.976888Z",
     "shell.execute_reply": "2025-10-23T13:42:01.976536Z"
    },
    "tags": []
   },
   "outputs": [],
   "source": [
    "def plot_semicircles(ax, x, y, i0, i1, scale=1):\n",
    "    HalfA = mpl.patches.Wedge((x, y), i0*scale, theta1=-90, theta2=90, color='C0', linewidth=0)\n",
    "    HalfB = mpl.patches.Wedge((x, y), i1*scale, theta1=90,theta2=-90, color='C1', linewidth=0)\n",
    "    ax.add_artist(HalfA)\n",
    "    ax.add_artist(HalfB)"
   ]
  },
  {
   "cell_type": "markdown",
   "metadata": {},
   "source": [
    "## Make a plot"
   ]
  },
  {
   "cell_type": "code",
   "execution_count": 3,
   "metadata": {
    "collapsed": false,
    "deletable": true,
    "editable": true,
    "execution": {
     "iopub.execute_input": "2025-10-23T13:42:01.978391Z",
     "iopub.status.busy": "2025-10-23T13:42:01.978289Z",
     "iopub.status.idle": "2025-10-23T13:42:02.169939Z",
     "shell.execute_reply": "2025-10-23T13:42:02.169399Z"
    },
    "jupyter": {
     "outputs_hidden": false
    },
    "tags": []
   },
   "outputs": [
    {
     "data": {
      "image/png": "[encoded data removed]",
      "text/plain": [
       "<Figure size 337.5x337.5 with 1 Axes>"
      ]
     },
     "metadata": {},
     "output_type": "display_data"
    }
   ],
   "source": [
    "fig, ax = plt.subplots(figsize=(3 + 3/8, 3 + 3/8))\n",
    "\n",
    "X, Y = np.meshgrid(np.arange(3), np.arange(3))\n",
    "I0 = np.random.rand(9) + .1\n",
    "I1 = np.random.rand(9) + .1\n",
    "\n",
    "for x, y, i0, i1 in zip(X.ravel(), Y.ravel(), I0, I1):\n",
    "    plot_semicircles(ax, x, y, i0, i1, scale=.3)\n",
    "\n",
    "\n",
    "ax.axis([-1, 3, -1, 3])\n",
    "\n",
    "ax.xaxis.set_major_locator(mpl.ticker.MultipleLocator(1))\n",
    "ax.yaxis.set_major_locator(mpl.ticker.MultipleLocator(1))\n",
    "\n",
    "ax.xaxis.set_minor_locator(mpl.ticker.AutoMinorLocator(2))\n",
    "ax.yaxis.set_minor_locator(mpl.ticker.AutoMinorLocator(2))\n",
    "\n",
    "ax.set_xlabel('$H$')\n",
    "ax.set_ylabel('$K$')\n",
    "\n",
    "fig.savefig('ex_17_semi_circles.pdf', dpi=1200)"
   ]
  },
  {
   "cell_type": "code",
   "execution_count": null,
   "metadata": {},
   "outputs": [],
   "source": []
  },
  {
   "cell_type": "code",
   "execution_count": null,
   "metadata": {},
   "outputs": [],
   "source": []
  }
 ],
 "metadata": {
  "kernelspec": {
   "display_name": "Python 3 (ipykernel)",
   "language": "python",
   "name": "python3"
  },
  "language_info": {
   "codemirror_mode": {
    "name": "ipython",
    "version": 3
   },
   "file_extension": ".py",
   "mimetype": "text/x-python",
   "name": "python",
   "nbconvert_exporter": "python",
   "pygments_lexer": "ipython3",
   "version": "3.10.6"
  }
 },
 "nbformat": 4,
 "nbformat_minor": 4
}
