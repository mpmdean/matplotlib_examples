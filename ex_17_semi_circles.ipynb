{
 "cells": [
  {
   "cell_type": "code",
   "execution_count": 1,
   "metadata": {
    "collapsed": false,
    "deletable": true,
    "editable": true,
    "execution": {
     "iopub.execute_input": "2022-11-17T20:24:14.361123Z",
     "iopub.status.busy": "2022-11-17T20:24:14.360804Z",
     "iopub.status.idle": "2022-11-17T20:24:15.114604Z",
     "shell.execute_reply": "2022-11-17T20:24:15.113587Z"
    },
    "jupyter": {
     "outputs_hidden": false
    }
   },
   "outputs": [],
   "source": [
    "import numpy as np\n",
    "import matplotlib as mpl\n",
    "import matplotlib.pyplot as plt\n",
    "\n",
    "%matplotlib inline"
   ]
  },
  {
   "cell_type": "markdown",
   "metadata": {
    "deletable": true,
    "editable": true
   },
   "source": [
    "Ths using matplotlibrc file from \n",
    "https://github.com/mpmdean/matplotlibrc\n",
    "All fields are using latex by default -- this avoid non-uniformity when using latex in some labels. "
   ]
  },
  {
   "cell_type": "code",
   "execution_count": 2,
   "metadata": {
    "collapsed": false,
    "deletable": true,
    "editable": true,
    "execution": {
     "iopub.execute_input": "2022-11-17T20:24:15.118263Z",
     "iopub.status.busy": "2022-11-17T20:24:15.117976Z",
     "iopub.status.idle": "2022-11-17T20:24:15.123300Z",
     "shell.execute_reply": "2022-11-17T20:24:15.122437Z"
    },
    "jupyter": {
     "outputs_hidden": false
    }
   },
   "outputs": [
    {
     "name": "stdout",
     "output_type": "stream",
     "text": [
      "Python version is 3.10.5 | packaged by conda-forge | (main, Jun 14 2022, 07:04:59) [GCC 10.3.0] \n",
      "\n",
      "Matplotlib version is 3.5.2 \n",
      "\n",
      "Matplotlibrc file is matplotlibrc\n",
      "\n"
     ]
    }
   ],
   "source": [
    "import sys\n",
    "print(\"Python version is {} \\n\".format(sys.version))\n",
    "print(\"Matplotlib version is {} \\n\".format(mpl.__version__))\n",
    "print(\"Matplotlibrc file is {}\\n\".format(mpl.matplotlib_fname()))"
   ]
  },
  {
   "cell_type": "markdown",
   "metadata": {},
   "source": [
    "## Function to make a single semicircle pair"
   ]
  },
  {
   "cell_type": "code",
   "execution_count": 3,
   "metadata": {
    "execution": {
     "iopub.execute_input": "2022-11-17T20:24:15.126561Z",
     "iopub.status.busy": "2022-11-17T20:24:15.126309Z",
     "iopub.status.idle": "2022-11-17T20:24:15.130981Z",
     "shell.execute_reply": "2022-11-17T20:24:15.129925Z"
    }
   },
   "outputs": [],
   "source": [
    "def plot_semicircles(ax, x, y, i0, i1, scale=1):\n",
    "    HalfA = mpl.patches.Wedge((x, y), i0*scale, theta1=-90, theta2=90, color='C0', linewidth=0)\n",
    "    HalfB = mpl.patches.Wedge((x, y), i1*scale, theta1=90,theta2=-90, color='C1', linewidth=0)\n",
    "    ax.add_artist(HalfA)\n",
    "    ax.add_artist(HalfB)"
   ]
  },
  {
   "cell_type": "markdown",
   "metadata": {},
   "source": [
    "## Make a plot"
   ]
  },
  {
   "cell_type": "code",
   "execution_count": 4,
   "metadata": {
    "collapsed": false,
    "deletable": true,
    "editable": true,
    "execution": {
     "iopub.execute_input": "2022-11-17T20:24:15.134425Z",
     "iopub.status.busy": "2022-11-17T20:24:15.134196Z",
     "iopub.status.idle": "2022-11-17T20:24:15.673567Z",
     "shell.execute_reply": "2022-11-17T20:24:15.671733Z"
    },
    "jupyter": {
     "outputs_hidden": false
    }
   },
   "outputs": [
    {
     "data": {
      "image/png": "[encoded data removed]",
      "text/plain": [
       "<Figure size 243x243 with 1 Axes>"
      ]
     },
     "metadata": {
      "needs_background": "light"
     },
     "output_type": "display_data"
    }
   ],
   "source": [
    "fig, ax = plt.subplots(figsize=(3 + 3/8, 3 + 3/8))\n",
    "\n",
    "X, Y = np.meshgrid(np.arange(3), np.arange(3))\n",
    "I0 = np.random.rand(9) + .1\n",
    "I1 = np.random.rand(9) + .1\n",
    "\n",
    "for x, y, i0, i1 in zip(X.ravel(), Y.ravel(), I0, I1):\n",
    "    plot_semicircles(ax, x, y, i0, i1, scale=.3)\n",
    "\n",
    "\n",
    "ax.axis([-1, 3, -1, 3])\n",
    "\n",
    "ax.xaxis.set_major_locator(mpl.ticker.MultipleLocator(1))\n",
    "ax.yaxis.set_major_locator(mpl.ticker.MultipleLocator(1))\n",
    "\n",
    "ax.xaxis.set_minor_locator(mpl.ticker.AutoMinorLocator(2))\n",
    "ax.yaxis.set_minor_locator(mpl.ticker.AutoMinorLocator(2))\n",
    "\n",
    "ax.set_xlabel('H')\n",
    "ax.set_ylabel('K')\n",
    "\n",
    "fig.savefig('ex_17_semi_circles.pdf', dpi=1200)"
   ]
  }
 ],
 "metadata": {
  "kernelspec": {
   "display_name": "Python 3",
   "language": "python",
   "name": "python3"
  },
  "language_info": {
   "codemirror_mode": {
    "name": "ipython",
    "version": 3
   },
   "file_extension": ".py",
   "mimetype": "text/x-python",
   "name": "python",
   "nbconvert_exporter": "python",
   "pygments_lexer": "ipython3",
   "version": "3.10.5"
  }
 },
 "nbformat": 4,
 "nbformat_minor": 4
}
