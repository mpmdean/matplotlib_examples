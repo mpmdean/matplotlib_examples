{
 "cells": [
  {
   "cell_type": "code",
   "execution_count": 1,
   "metadata": {
    "collapsed": false,
    "deletable": true,
    "editable": true,
    "execution": {
     "iopub.execute_input": "2021-10-12T17:56:26.831585Z",
     "iopub.status.busy": "2021-10-12T17:56:26.830935Z",
     "iopub.status.idle": "2021-10-12T17:56:27.115979Z",
     "shell.execute_reply": "2021-10-12T17:56:27.115398Z"
    },
    "jupyter": {
     "outputs_hidden": false
    }
   },
   "outputs": [],
   "source": [
    "import numpy as np\n",
    "import matplotlib as mpl\n",
    "import matplotlib.pyplot as plt\n",
    "\n",
    "%matplotlib inline"
   ]
  },
  {
   "cell_type": "markdown",
   "metadata": {
    "deletable": true,
    "editable": true
   },
   "source": [
    "Ths using matplotlibrc file from \n",
    "https://github.com/mpmdean/matplotlibrc\n",
    "All fields are using latex by default -- this avoid non-uniformity when using latex in some labels. "
   ]
  },
  {
   "cell_type": "code",
   "execution_count": 2,
   "metadata": {
    "collapsed": false,
    "deletable": true,
    "editable": true,
    "execution": {
     "iopub.execute_input": "2021-10-12T17:56:27.122203Z",
     "iopub.status.busy": "2021-10-12T17:56:27.121238Z",
     "iopub.status.idle": "2021-10-12T17:56:27.124883Z",
     "shell.execute_reply": "2021-10-12T17:56:27.124356Z"
    },
    "jupyter": {
     "outputs_hidden": false
    }
   },
   "outputs": [
    {
     "name": "stdout",
     "output_type": "stream",
     "text": [
      "Python version is 3.9.2 | packaged by conda-forge | (default, Feb 21 2021, 05:02:46) \n",
      "[GCC 9.3.0] \n",
      "\n",
      "Matplotlib version is 3.4.2 \n",
      "\n",
      "Matplotlibrc file is matplotlibrc\n",
      "\n"
     ]
    }
   ],
   "source": [
    "import sys\n",
    "print(\"Python version is {} \\n\".format(sys.version))\n",
    "print(\"Matplotlib version is {} \\n\".format(mpl.__version__))\n",
    "print(\"Matplotlibrc file is {}\\n\".format(mpl.matplotlib_fname()))"
   ]
  },
  {
   "cell_type": "markdown",
   "metadata": {},
   "source": [
    "## Function to make a single semicircle pair"
   ]
  },
  {
   "cell_type": "code",
   "execution_count": 3,
   "metadata": {
    "execution": {
     "iopub.execute_input": "2021-10-12T17:56:27.129764Z",
     "iopub.status.busy": "2021-10-12T17:56:27.129174Z",
     "iopub.status.idle": "2021-10-12T17:56:27.132174Z",
     "shell.execute_reply": "2021-10-12T17:56:27.131631Z"
    }
   },
   "outputs": [],
   "source": [
    "def plot_semicircles(ax, x, y, i0, i1, scale=1):\n",
    "    HalfA = mpl.patches.Wedge((x, y), i0*scale, theta1=-90, theta2=90, color='C0', linewidth=0)\n",
    "    HalfB = mpl.patches.Wedge((x, y), i1*scale, theta1=90,theta2=-90, color='C1', linewidth=0)\n",
    "    ax.add_artist(HalfA)\n",
    "    ax.add_artist(HalfB)"
   ]
  },
  {
   "cell_type": "markdown",
   "metadata": {},
   "source": [
    "## Make a plot"
   ]
  },
  {
   "cell_type": "code",
   "execution_count": 4,
   "metadata": {
    "collapsed": false,
    "deletable": true,
    "editable": true,
    "execution": {
     "iopub.execute_input": "2021-10-12T17:56:27.159534Z",
     "iopub.status.busy": "2021-10-12T17:56:27.158942Z",
     "iopub.status.idle": "2021-10-12T17:56:27.816597Z",
     "shell.execute_reply": "2021-10-12T17:56:27.815956Z"
    },
    "jupyter": {
     "outputs_hidden": false
    }
   },
   "outputs": [
    {
     "data": {
      "image/png": "[encoded data removed]",
      "text/plain": [
       "<Figure size 243x243 with 1 Axes>"
      ]
     },
     "metadata": {
      "needs_background": "light"
     },
     "output_type": "display_data"
    }
   ],
   "source": [
    "fig, ax = plt.subplots(figsize=(3 + 3/8, 3 + 3/8))\n",
    "\n",
    "X, Y = np.meshgrid(np.arange(3), np.arange(3))\n",
    "I0 = np.random.rand(9) + .1\n",
    "I1 = np.random.rand(9) + .1\n",
    "\n",
    "for x, y, i0, i1 in zip(X.ravel(), Y.ravel(), I0, I1):\n",
    "    plot_semicircles(ax, x, y, i0, i1, scale=.3)\n",
    "\n",
    "\n",
    "ax.axis([-1, 3, -1, 3])\n",
    "\n",
    "ax.xaxis.set_major_locator(mpl.ticker.MultipleLocator(1))\n",
    "ax.yaxis.set_major_locator(mpl.ticker.MultipleLocator(1))\n",
    "\n",
    "ax.xaxis.set_minor_locator(mpl.ticker.AutoMinorLocator(2))\n",
    "ax.yaxis.set_minor_locator(mpl.ticker.AutoMinorLocator(2))\n",
    "\n",
    "ax.set_xlabel('H')\n",
    "ax.set_ylabel('K')\n",
    "\n",
    "fig.savefig('ex_17_semi_circles.pdf', dpi=1200)"
   ]
  }
 ],
 "metadata": {
  "kernelspec": {
   "display_name": "Python 3",
   "language": "python",
   "name": "python3"
  },
  "language_info": {
   "codemirror_mode": {
    "name": "ipython",
    "version": 3
   },
   "file_extension": ".py",
   "mimetype": "text/x-python",
   "name": "python",
   "nbconvert_exporter": "python",
   "pygments_lexer": "ipython3",
   "version": "3.9.2"
  }
 },
 "nbformat": 4,
 "nbformat_minor": 4
}
