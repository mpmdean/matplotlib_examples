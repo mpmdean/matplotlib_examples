{
 "cells": [
  {
   "cell_type": "code",
   "execution_count": 1,
   "metadata": {
    "collapsed": false,
    "deletable": true,
    "editable": true,
    "execution": {
     "iopub.execute_input": "2022-11-17T20:23:55.349718Z",
     "iopub.status.busy": "2022-11-17T20:23:55.349228Z",
     "iopub.status.idle": "2022-11-17T20:23:56.105462Z",
     "shell.execute_reply": "2022-11-17T20:23:56.104295Z"
    },
    "jupyter": {
     "outputs_hidden": false
    }
   },
   "outputs": [],
   "source": [
    "import numpy as np\n",
    "import matplotlib as mpl\n",
    "import matplotlib.pyplot as plt\n",
    "from matplotlib.patches import Rectangle\n",
    "from matplotlib.gridspec import GridSpec\n",
    "import matplotlib.ticker as ticker\n",
    "from cycler import cycle\n",
    "from IPython.display import IFrame\n",
    "\n",
    "%matplotlib inline"
   ]
  },
  {
   "cell_type": "markdown",
   "metadata": {
    "deletable": true,
    "editable": true
   },
   "source": [
    "This example uses matplotlib 2.0"
   ]
  },
  {
   "cell_type": "code",
   "execution_count": 2,
   "metadata": {
    "collapsed": false,
    "deletable": true,
    "editable": true,
    "execution": {
     "iopub.execute_input": "2022-11-17T20:23:56.109940Z",
     "iopub.status.busy": "2022-11-17T20:23:56.109575Z",
     "iopub.status.idle": "2022-11-17T20:23:56.115449Z",
     "shell.execute_reply": "2022-11-17T20:23:56.114652Z"
    },
    "jupyter": {
     "outputs_hidden": false
    }
   },
   "outputs": [
    {
     "name": "stdout",
     "output_type": "stream",
     "text": [
      "Python version is 3.10.5 | packaged by conda-forge | (main, Jun 14 2022, 07:04:59) [GCC 10.3.0] \n",
      "\n",
      "Matplotlib version is 3.5.2 \n",
      "\n",
      "Matplotlibrc file is matplotlibrc\n",
      "\n"
     ]
    }
   ],
   "source": [
    "#%matplotlib widget\n",
    "import sys\n",
    "print(\"Python version is {} \\n\".format(sys.version))\n",
    "print(\"Matplotlib version is {} \\n\".format(mpl.__version__))\n",
    "print(\"Matplotlibrc file is {}\\n\".format(mpl.matplotlib_fname()))"
   ]
  },
  {
   "cell_type": "markdown",
   "metadata": {
    "deletable": true,
    "editable": true
   },
   "source": [
    "and the matplotlibrc file from \n",
    "https://github.com/mpmdean/matplotlibrc\n",
    "please suggest improvements"
   ]
  },
  {
   "cell_type": "markdown",
   "metadata": {
    "deletable": true,
    "editable": true
   },
   "source": [
    "## A few notes"
   ]
  },
  {
   "cell_type": "markdown",
   "metadata": {
    "deletable": true,
    "editable": true
   },
   "source": [
    "* All fields are using latex by default -- this avoid non-uniformity when using latex in some labels. \n",
    "\n",
    "* Using a uniform style is very important for an attractive manuscript. Try to avoid ad-hoc changes to the settings. \n",
    "\n",
    "* If you feel that there is a desirable change, consider applying it to the whole manuscript, preferably by setting some edits to the rc file right at the start of the script/notebook. e.g. mpl.rc('font', size=10). "
   ]
  },
  {
   "cell_type": "markdown",
   "metadata": {
    "deletable": true,
    "editable": true
   },
   "source": [
    "## Create figure"
   ]
  },
  {
   "cell_type": "markdown",
   "metadata": {
    "deletable": true,
    "editable": true
   },
   "source": [
    "* The width of a figure should always be set to the real physical column width. e.g. 3+3/8 inches for a PRL column. This will mean that fonts appear on the page in the correct size.\n",
    "\n",
    "* Gridspec and subplots_adjust are useful to set the precise location of panels.\n",
    "\n",
    "* Including 2-4 minor ticks per major tick is usually good.\n",
    "\n",
    "* Putting the colorbar on separate axes facilities better control over its location. \n",
    "\n",
    "* Saving in pdf creates vector graphics and fast performance within pdflatex."
   ]
  },
  {
   "cell_type": "code",
   "execution_count": 3,
   "metadata": {
    "execution": {
     "iopub.execute_input": "2022-11-17T20:23:56.119379Z",
     "iopub.status.busy": "2022-11-17T20:23:56.118574Z",
     "iopub.status.idle": "2022-11-17T20:23:56.124500Z",
     "shell.execute_reply": "2022-11-17T20:23:56.123466Z"
    }
   },
   "outputs": [],
   "source": [
    "disp214 = np.load('214_dispersion.npz')\n",
    "disp327 = disp214"
   ]
  },
  {
   "cell_type": "code",
   "execution_count": 4,
   "metadata": {
    "execution": {
     "iopub.execute_input": "2022-11-17T20:23:56.127990Z",
     "iopub.status.busy": "2022-11-17T20:23:56.127714Z",
     "iopub.status.idle": "2022-11-17T20:23:56.131666Z",
     "shell.execute_reply": "2022-11-17T20:23:56.130880Z"
    }
   },
   "outputs": [],
   "source": [
    "def set_minors(ax):\n",
    "    ax.xaxis.set_minor_locator(ticker.AutoMinorLocator(2))\n",
    "    ax.yaxis.set_minor_locator(ticker.AutoMinorLocator(2))\n",
    "    "
   ]
  },
  {
   "cell_type": "code",
   "execution_count": 5,
   "metadata": {
    "execution": {
     "iopub.execute_input": "2022-11-17T20:23:56.134861Z",
     "iopub.status.busy": "2022-11-17T20:23:56.134342Z",
     "iopub.status.idle": "2022-11-17T20:24:00.697407Z",
     "shell.execute_reply": "2022-11-17T20:24:00.696366Z"
    }
   },
   "outputs": [
    {
     "data": {
      "image/png": "[encoded data removed]",
      "text/plain": [
       "<Figure size 243x180 with 2 Axes>"
      ]
     },
     "metadata": {
      "needs_background": "light"
     },
     "output_type": "display_data"
    }
   ],
   "source": [
    "fig, ax = plt.subplots(figsize=(3+3/8, 2.5))\n",
    "\n",
    "I = disp214['I_smooth']\n",
    "I[I<0.01] = np.NaN\n",
    "\n",
    "art = ax.pcolorfast(disp214['x_axis'], disp214['omega_eval'], I, cmap='inferno_r',\n",
    "                    vmax=.6)\n",
    "cb = plt.colorbar(art, ax=ax)\n",
    "cb.set_label('Intensity')\n",
    "ax.set_xlabel('Q')\n",
    "ax.set_ylabel('Energy (meV)')\n",
    "_ = ax.set_xticks(disp214['ticks'])\n",
    "_ = ax.set_xticklabels(disp214['label_list'], fontsize=8) # try not to change fontsizes, but making an exception seems unavoidable here\n",
    "set_minors(ax)\n",
    "\n",
    "fig.subplots_adjust(bottom=0.2, left=.2)\n",
    "\n",
    "fig.savefig('ex_15_Faraday.pdf', dpi=2400)"
   ]
  },
  {
   "cell_type": "code",
   "execution_count": null,
   "metadata": {},
   "outputs": [],
   "source": []
  },
  {
   "cell_type": "code",
   "execution_count": null,
   "metadata": {},
   "outputs": [],
   "source": []
  }
 ],
 "metadata": {
  "kernelspec": {
   "display_name": "Python 3 (ipykernel)",
   "language": "python",
   "name": "python3"
  },
  "language_info": {
   "codemirror_mode": {
    "name": "ipython",
    "version": 3
   },
   "file_extension": ".py",
   "mimetype": "text/x-python",
   "name": "python",
   "nbconvert_exporter": "python",
   "pygments_lexer": "ipython3",
   "version": "3.10.5"
  }
 },
 "nbformat": 4,
 "nbformat_minor": 4
}
