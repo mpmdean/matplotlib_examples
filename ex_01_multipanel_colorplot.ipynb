{
 "cells": [
  {
   "cell_type": "code",
   "execution_count": 1,
   "metadata": {
    "collapsed": false,
    "deletable": true,
    "editable": true,
    "execution": {
     "iopub.execute_input": "2022-04-16T20:25:48.632162Z",
     "iopub.status.busy": "2022-04-16T20:25:48.631814Z",
     "iopub.status.idle": "2022-04-16T20:25:49.439230Z",
     "shell.execute_reply": "2022-04-16T20:25:49.438389Z"
    },
    "jupyter": {
     "outputs_hidden": false
    }
   },
   "outputs": [],
   "source": [
    "import numpy as np\n",
    "import matplotlib as mpl\n",
    "import matplotlib.pyplot as plt\n",
    "from matplotlib.gridspec import GridSpec\n",
    "import matplotlib.ticker as ticker\n",
    "from cycler import cycle\n",
    "\n",
    "%matplotlib widget"
   ]
  },
  {
   "cell_type": "markdown",
   "metadata": {
    "deletable": true,
    "editable": true
   },
   "source": [
    "This example uses matplotlib 2.0"
   ]
  },
  {
   "cell_type": "code",
   "execution_count": 2,
   "metadata": {
    "collapsed": false,
    "deletable": true,
    "editable": true,
    "execution": {
     "iopub.execute_input": "2022-04-16T20:25:49.443047Z",
     "iopub.status.busy": "2022-04-16T20:25:49.442769Z",
     "iopub.status.idle": "2022-04-16T20:25:49.449808Z",
     "shell.execute_reply": "2022-04-16T20:25:49.449083Z"
    },
    "jupyter": {
     "outputs_hidden": false
    }
   },
   "outputs": [
    {
     "name": "stdout",
     "output_type": "stream",
     "text": [
      "Python version is 3.9.10 | packaged by conda-forge | (main, Feb  1 2022, 21:24:11) \n",
      "[GCC 9.4.0] \n",
      "\n",
      "Matplotlib version is 3.5.1 \n",
      "\n",
      "Matplotlibrc file is matplotlibrc\n",
      "\n"
     ]
    }
   ],
   "source": [
    "%matplotlib widget\n",
    "import sys\n",
    "print(\"Python version is {} \\n\".format(sys.version))\n",
    "print(\"Matplotlib version is {} \\n\".format(mpl.__version__))\n",
    "print(\"Matplotlibrc file is {}\\n\".format(mpl.matplotlib_fname()))"
   ]
  },
  {
   "cell_type": "markdown",
   "metadata": {
    "deletable": true,
    "editable": true
   },
   "source": [
    "and the matplotlibrc file from \n",
    "https://github.com/mpmdean/matplotlibrc\n",
    "please suggest improvements"
   ]
  },
  {
   "cell_type": "markdown",
   "metadata": {
    "deletable": true,
    "editable": true
   },
   "source": [
    "## A few notes"
   ]
  },
  {
   "cell_type": "markdown",
   "metadata": {
    "deletable": true,
    "editable": true
   },
   "source": [
    "* All fields are using latex by default -- this avoid non-uniformity when using latex in some labels. \n",
    "\n",
    "* Using a uniform style is very important for an attractive manuscript. Try to avoid ad-hoc changes to the settings. \n",
    "\n",
    "* If you feel that there is a desirable change, consider applying it to the whole manuscript, preferably by setting some edits to the rc file right at the start of the script/notebook. e.g. mpl.rc('font', size=10). "
   ]
  },
  {
   "cell_type": "markdown",
   "metadata": {
    "deletable": true,
    "editable": true
   },
   "source": [
    "## Make fake data"
   ]
  },
  {
   "cell_type": "code",
   "execution_count": 3,
   "metadata": {
    "collapsed": false,
    "deletable": true,
    "editable": true,
    "execution": {
     "iopub.execute_input": "2022-04-16T20:25:49.475132Z",
     "iopub.status.busy": "2022-04-16T20:25:49.474825Z",
     "iopub.status.idle": "2022-04-16T20:25:49.483707Z",
     "shell.execute_reply": "2022-04-16T20:25:49.483038Z"
    },
    "jupyter": {
     "outputs_hidden": false
    }
   },
   "outputs": [],
   "source": [
    "Ts = np.linspace(20, 100, 5)\n",
    "x = np.linspace(0, 10, 10)\n",
    "ys = [np.exp(-(x-2)/3) + (np.random.rand(x.size)-0.5)*0.3 for T in Ts]\n",
    "fits = [np.exp(-(x-2)/3) for T in Ts]\n",
    "\n",
    "X, Y = np.meshgrid(x,x)\n",
    "M = np.exp(-np.sqrt((X-2)**2 + (Y-3)**2))\n",
    "M += np.random.rand(*M.shape)*0.1"
   ]
  },
  {
   "cell_type": "markdown",
   "metadata": {
    "deletable": true,
    "editable": true
   },
   "source": [
    "## Create a set of colors and a cyler of markers\n",
    "It's preferable to use color in a meaningful and consistent way throughout a manuscript. For example all data at 20 K is black etc. "
   ]
  },
  {
   "cell_type": "code",
   "execution_count": 4,
   "metadata": {
    "collapsed": false,
    "deletable": true,
    "editable": true,
    "execution": {
     "iopub.execute_input": "2022-04-16T20:25:49.487368Z",
     "iopub.status.busy": "2022-04-16T20:25:49.487138Z",
     "iopub.status.idle": "2022-04-16T20:25:49.493686Z",
     "shell.execute_reply": "2022-04-16T20:25:49.492885Z"
    },
    "jupyter": {
     "outputs_hidden": false
    }
   },
   "outputs": [],
   "source": [
    "colors = mpl.cm.inferno(np.linspace(0, 0.8, len(ys))) # avoid yellow due to visibility\n",
    "markers = cycle(['o', 's', '^', 'v', 'p', '<', '>', 'h'])"
   ]
  },
  {
   "cell_type": "markdown",
   "metadata": {
    "deletable": true,
    "editable": true
   },
   "source": [
    "## Create figure"
   ]
  },
  {
   "cell_type": "markdown",
   "metadata": {
    "deletable": true,
    "editable": true
   },
   "source": [
    "* The width of a figure should always be set to the real physical column width. e.g. 3+3/8 inches for a PRL column. This will mean that fonts appear on the page in the correct size.\n",
    "\n",
    "* Gridspec and subplots_adjust are useful to set the precise location of panels.\n",
    "\n",
    "* Including 2-4 minor ticks per major tick is usually good.\n",
    "\n",
    "* Putting the colorbar on separate axes facilities better control over its location. \n",
    "\n",
    "* Saving in pdf creates vector graphics and fast performance within pdflatex.\n",
    "\n",
    "* It sometimes makes sense to flip the order of legend entries to match the order if which they appear on the plot."
   ]
  },
  {
   "cell_type": "code",
   "execution_count": 5,
   "metadata": {
    "collapsed": false,
    "deletable": true,
    "editable": true,
    "execution": {
     "iopub.execute_input": "2022-04-16T20:25:49.496792Z",
     "iopub.status.busy": "2022-04-16T20:25:49.496608Z",
     "iopub.status.idle": "2022-04-16T20:25:52.606769Z",
     "shell.execute_reply": "2022-04-16T20:25:52.605899Z"
    },
    "jupyter": {
     "outputs_hidden": false
    }
   },
   "outputs": [
    {
     "data": {
      "application/vnd.jupyter.widget-view+json": {
       "model_id": "ceacfa30202f4405b60e537a83bbce75",
       "version_major": 2,
       "version_minor": 0
      },
      "image/png": "[encoded data removed]",
      "text/html": [
       "\n",
       "            <div style=\"display: inline-block;\">\n",
       "                <div class=\"jupyter-widgets widget-label\" style=\"text-align: center;\">\n",
       "                    Figure\n",
       "                </div>\n",
       "                <img src='data:image/png;base64,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' width=337.5/>\n",
       "            </div>\n",
       "        "
      ],
      "text/plain": [
       "Canvas(toolbar=Toolbar(toolitems=[('Home', 'Reset original view', 'home', 'home'), ('Back', 'Back to previous …"
      ]
     },
     "metadata": {},
     "output_type": "display_data"
    }
   ],
   "source": [
    "fig = plt.figure(figsize=(3+3/8, 4))\n",
    "\n",
    "gs = GridSpec(3,2, width_ratios=[1.2,0.8], height_ratios=[1,0.1,1])\n",
    "\n",
    "ax0 = plt.subplot(gs[:,0])\n",
    "\n",
    "offsets = np.arange(len(Ts)) * 1\n",
    "for y, fit, T, offset, color, marker in zip(ys, fits, Ts, offsets, colors, markers):\n",
    "    ax0.plot(x, fit + offset, '-', color=color, alpha=0.5)\n",
    "    ax0.plot(x, y + offset, color=color, marker=marker, linestyle='None', label=\"T = {:.0f} K\".format(T))\n",
    "    \n",
    "ax0.set_xlabel(r'$\\tau$ (s)')\n",
    "ax0.set_ylabel(r'$g_2(\\tau)$')\n",
    "\n",
    "ax0.xaxis.set_major_locator(ticker.MultipleLocator(2))\n",
    "ax0.xaxis.set_minor_locator(ticker.AutoMinorLocator(2))\n",
    "ax0.yaxis.set_minor_locator(ticker.AutoMinorLocator(2))\n",
    "\n",
    "\n",
    "ax1 = plt.subplot(gs[0,1])\n",
    "art = ax1.pcolormesh(X, Y, M, vmin=0, vmax=0.5, shading='auto')\n",
    "ax1.set_axis_off()\n",
    "ax1.xaxis.set_minor_locator(ticker.AutoMinorLocator(2))\n",
    "\n",
    "ax2 = plt.subplot(gs[1,1])\n",
    "cb = plt.colorbar(art, cax=ax2, orientation=\"horizontal\")\n",
    "cb.set_label('I  (ADU)')\n",
    "cb.set_ticks(ticker.MultipleLocator(0.2))\n",
    "\n",
    "\n",
    "ax3 = plt.subplot(gs[2,1])\n",
    "handles, labels = ax0.get_legend_handles_labels()\n",
    "ax3.axis('off')\n",
    "ax3.legend(handles[::-1], labels[::-1], bbox_to_anchor=(1.1,0.8))\n",
    "\n",
    "fig.text(0.1, 0.9, '(a)')\n",
    "fig.text(0.65, 0.9, '(b)')\n",
    "\n",
    "fig.subplots_adjust(wspace=0.1, hspace=0.1, left=0.1, right=0.97)\n",
    "\n",
    "fig.savefig('ex_01_multipanel_colorplot.pdf', dpi=1200)"
   ]
  },
  {
   "cell_type": "code",
   "execution_count": null,
   "metadata": {},
   "outputs": [],
   "source": []
  }
 ],
 "metadata": {
  "kernelspec": {
   "display_name": "Python 3",
   "language": "python",
   "name": "python3"
  },
  "language_info": {
   "codemirror_mode": {
    "name": "ipython",
    "version": 3
   },
   "file_extension": ".py",
   "mimetype": "text/x-python",
   "name": "python",
   "nbconvert_exporter": "python",
   "pygments_lexer": "ipython3",
   "version": "3.9.10"
  },
  "widgets": {
   "application/vnd.jupyter.widget-state+json": {
    "state": {
     "30d6c248bb914b27ab5e1df11e9f1b2f": {
      "model_module": "@jupyter-widgets/base",
      "model_module_version": "1.2.0",
      "model_name": "LayoutModel",
      "state": {
       "_model_module": "@jupyter-widgets/base",
       "_model_module_version": "1.2.0",
       "_model_name": "LayoutModel",
       "_view_count": null,
       "_view_module": "@jupyter-widgets/base",
       "_view_module_version": "1.2.0",
       "_view_name": "LayoutView",
       "align_content": null,
       "align_items": null,
       "align_self": null,
       "border": null,
       "bottom": null,
       "display": null,
       "flex": null,
       "flex_flow": null,
       "grid_area": null,
       "grid_auto_columns": null,
       "grid_auto_flow": null,
       "grid_auto_rows": null,
       "grid_column": null,
       "grid_gap": null,
       "grid_row": null,
       "grid_template_areas": null,
       "grid_template_columns": null,
       "grid_template_rows": null,
       "height": null,
       "justify_content": null,
       "justify_items": null,
       "left": null,
       "margin": null,
       "max_height": null,
       "max_width": null,
       "min_height": null,
       "min_width": null,
       "object_fit": null,
       "object_position": null,
       "order": null,
       "overflow": null,
       "overflow_x": null,
       "overflow_y": null,
       "padding": null,
       "right": null,
       "top": null,
       "visibility": null,
       "width": null
      }
     },
     "89668842daca45dc9e129d08199f92b5": {
      "model_module": "jupyter-matplotlib",
      "model_module_version": "^0.10.5",
      "model_name": "ToolbarModel",
      "state": {
       "_current_action": "",
       "_dom_classes": [],
       "_model_module": "jupyter-matplotlib",
       "_model_module_version": "^0.10.5",
       "_model_name": "ToolbarModel",
       "_view_count": null,
       "_view_module": "jupyter-matplotlib",
       "_view_module_version": "^0.10.5",
       "_view_name": "ToolbarView",
       "button_style": "",
       "collapsed": true,
       "layout": "IPY_MODEL_a828551149634ccfa15cae89de7cdba2",
       "orientation": "vertical",
       "toolitems": [
        [
         "Home",
         "Reset original view",
         "home",
         "home"
        ],
        [
         "Back",
         "Back to previous view",
         "arrow-left",
         "back"
        ],
        [
         "Forward",
         "Forward to next view",
         "arrow-right",
         "forward"
        ],
        [
         "Pan",
         "Left button pans, Right button zooms\nx/y fixes axis, CTRL fixes aspect",
         "arrows",
         "pan"
        ],
        [
         "Zoom",
         "Zoom to rectangle\nx/y fixes axis",
         "square-o",
         "zoom"
        ],
        [
         "Download",
         "Download plot",
         "floppy-o",
         "save_figure"
        ]
       ]
      }
     },
     "a828551149634ccfa15cae89de7cdba2": {
      "model_module": "@jupyter-widgets/base",
      "model_module_version": "1.2.0",
      "model_name": "LayoutModel",
      "state": {
       "_model_module": "@jupyter-widgets/base",
       "_model_module_version": "1.2.0",
       "_model_name": "LayoutModel",
       "_view_count": null,
       "_view_module": "@jupyter-widgets/base",
       "_view_module_version": "1.2.0",
       "_view_name": "LayoutView",
       "align_content": null,
       "align_items": null,
       "align_self": null,
       "border": null,
       "bottom": null,
       "display": null,
       "flex": null,
       "flex_flow": null,
       "grid_area": null,
       "grid_auto_columns": null,
       "grid_auto_flow": null,
       "grid_auto_rows": null,
       "grid_column": null,
       "grid_gap": null,
       "grid_row": null,
       "grid_template_areas": null,
       "grid_template_columns": null,
       "grid_template_rows": null,
       "height": null,
       "justify_content": null,
       "justify_items": null,
       "left": null,
       "margin": null,
       "max_height": null,
       "max_width": null,
       "min_height": null,
       "min_width": null,
       "object_fit": null,
       "object_position": null,
       "order": null,
       "overflow": null,
       "overflow_x": null,
       "overflow_y": null,
       "padding": null,
       "right": null,
       "top": null,
       "visibility": null,
       "width": null
      }
     },
     "ceacfa30202f4405b60e537a83bbce75": {
      "model_module": "jupyter-matplotlib",
      "model_module_version": "^0.10.5",
      "model_name": "MPLCanvasModel",
      "state": {
       "_cursor": "pointer",
       "_data_url": "data:image/png;base64,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",
       "_dom_classes": [],
       "_figure_label": "Figure",
       "_image_mode": "full",
       "_message": "",
       "_model_module": "jupyter-matplotlib",
       "_model_module_version": "^0.10.5",
       "_model_name": "MPLCanvasModel",
       "_rubberband_height": 0,
       "_rubberband_width": 0,
       "_rubberband_x": 0,
       "_rubberband_y": 0,
       "_size": [
        337.5,
        400.0
       ],
       "_view_count": null,
       "_view_module": "jupyter-matplotlib",
       "_view_module_version": "^0.10.5",
       "_view_name": "MPLCanvasView",
       "capture_scroll": false,
       "footer_visible": true,
       "header_visible": true,
       "layout": "IPY_MODEL_dc5b4801cf2b4b57957112b2809c195c",
       "pan_zoom_throttle": 33.0,
       "resizable": true,
       "toolbar": "IPY_MODEL_fa9c166e4d0e4b86afd8b4ffbf926997",
       "toolbar_position": "left",
       "toolbar_visible": "fade-in-fade-out"
      }
     },
     "dc5b4801cf2b4b57957112b2809c195c": {
      "model_module": "@jupyter-widgets/base",
      "model_module_version": "1.2.0",
      "model_name": "LayoutModel",
      "state": {
       "_model_module": "@jupyter-widgets/base",
       "_model_module_version": "1.2.0",
       "_model_name": "LayoutModel",
       "_view_count": null,
       "_view_module": "@jupyter-widgets/base",
       "_view_module_version": "1.2.0",
       "_view_name": "LayoutView",
       "align_content": null,
       "align_items": null,
       "align_self": null,
       "border": null,
       "bottom": null,
       "display": null,
       "flex": null,
       "flex_flow": null,
       "grid_area": null,
       "grid_auto_columns": null,
       "grid_auto_flow": null,
       "grid_auto_rows": null,
       "grid_column": null,
       "grid_gap": null,
       "grid_row": null,
       "grid_template_areas": null,
       "grid_template_columns": null,
       "grid_template_rows": null,
       "height": null,
       "justify_content": null,
       "justify_items": null,
       "left": null,
       "margin": null,
       "max_height": null,
       "max_width": null,
       "min_height": null,
       "min_width": null,
       "object_fit": null,
       "object_position": null,
       "order": null,
       "overflow": null,
       "overflow_x": null,
       "overflow_y": null,
       "padding": null,
       "right": null,
       "top": null,
       "visibility": null,
       "width": null
      }
     },
     "fa9c166e4d0e4b86afd8b4ffbf926997": {
      "model_module": "jupyter-matplotlib",
      "model_module_version": "^0.10.5",
      "model_name": "ToolbarModel",
      "state": {
       "_current_action": "",
       "_dom_classes": [],
       "_model_module": "jupyter-matplotlib",
       "_model_module_version": "^0.10.5",
       "_model_name": "ToolbarModel",
       "_view_count": null,
       "_view_module": "jupyter-matplotlib",
       "_view_module_version": "^0.10.5",
       "_view_name": "ToolbarView",
       "button_style": "",
       "collapsed": true,
       "layout": "IPY_MODEL_30d6c248bb914b27ab5e1df11e9f1b2f",
       "orientation": "vertical",
       "toolitems": [
        [
         "Home",
         "Reset original view",
         "home",
         "home"
        ],
        [
         "Back",
         "Back to previous view",
         "arrow-left",
         "back"
        ],
        [
         "Forward",
         "Forward to next view",
         "arrow-right",
         "forward"
        ],
        [
         "Pan",
         "Left button pans, Right button zooms\nx/y fixes axis, CTRL fixes aspect",
         "arrows",
         "pan"
        ],
        [
         "Zoom",
         "Zoom to rectangle\nx/y fixes axis",
         "square-o",
         "zoom"
        ],
        [
         "Download",
         "Download plot",
         "floppy-o",
         "save_figure"
        ]
       ]
      }
     }
    },
    "version_major": 2,
    "version_minor": 0
   }
  }
 },
 "nbformat": 4,
 "nbformat_minor": 4
}
