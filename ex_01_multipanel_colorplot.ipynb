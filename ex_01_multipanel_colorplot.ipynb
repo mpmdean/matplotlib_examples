{
 "cells": [
  {
   "cell_type": "code",
   "execution_count": 1,
   "metadata": {
    "collapsed": false,
    "deletable": true,
    "editable": true,
    "execution": {
     "iopub.execute_input": "2022-08-23T08:21:41.768970Z",
     "iopub.status.busy": "2022-08-23T08:21:41.768569Z",
     "iopub.status.idle": "2022-08-23T08:21:42.588213Z",
     "shell.execute_reply": "2022-08-23T08:21:42.586897Z"
    },
    "jupyter": {
     "outputs_hidden": false
    }
   },
   "outputs": [],
   "source": [
    "import numpy as np\n",
    "import matplotlib as mpl\n",
    "import matplotlib.pyplot as plt\n",
    "from matplotlib.gridspec import GridSpec\n",
    "import matplotlib.ticker as ticker\n",
    "from cycler import cycle\n",
    "\n",
    "%matplotlib widget"
   ]
  },
  {
   "cell_type": "markdown",
   "metadata": {
    "deletable": true,
    "editable": true
   },
   "source": [
    "This example uses matplotlib 2.0"
   ]
  },
  {
   "cell_type": "code",
   "execution_count": 2,
   "metadata": {
    "collapsed": false,
    "deletable": true,
    "editable": true,
    "execution": {
     "iopub.execute_input": "2022-08-23T08:21:42.591748Z",
     "iopub.status.busy": "2022-08-23T08:21:42.591460Z",
     "iopub.status.idle": "2022-08-23T08:21:42.597756Z",
     "shell.execute_reply": "2022-08-23T08:21:42.597046Z"
    },
    "jupyter": {
     "outputs_hidden": false
    }
   },
   "outputs": [
    {
     "name": "stdout",
     "output_type": "stream",
     "text": [
      "Python version is 3.10.5 | packaged by conda-forge | (main, Jun 14 2022, 07:04:59) [GCC 10.3.0] \n",
      "\n",
      "Matplotlib version is 3.5.2 \n",
      "\n",
      "Matplotlibrc file is matplotlibrc\n",
      "\n"
     ]
    }
   ],
   "source": [
    "%matplotlib widget\n",
    "import sys\n",
    "print(\"Python version is {} \\n\".format(sys.version))\n",
    "print(\"Matplotlib version is {} \\n\".format(mpl.__version__))\n",
    "print(\"Matplotlibrc file is {}\\n\".format(mpl.matplotlib_fname()))"
   ]
  },
  {
   "cell_type": "markdown",
   "metadata": {
    "deletable": true,
    "editable": true
   },
   "source": [
    "and the matplotlibrc file from \n",
    "https://github.com/mpmdean/matplotlibrc\n",
    "please suggest improvements"
   ]
  },
  {
   "cell_type": "markdown",
   "metadata": {
    "deletable": true,
    "editable": true
   },
   "source": [
    "## A few notes"
   ]
  },
  {
   "cell_type": "markdown",
   "metadata": {
    "deletable": true,
    "editable": true
   },
   "source": [
    "* All fields are using latex by default -- this avoid non-uniformity when using latex in some labels. \n",
    "\n",
    "* Using a uniform style is very important for an attractive manuscript. Try to avoid ad-hoc changes to the settings. \n",
    "\n",
    "* If you feel that there is a desirable change, consider applying it to the whole manuscript, preferably by setting some edits to the rc file right at the start of the script/notebook. e.g. mpl.rc('font', size=10). "
   ]
  },
  {
   "cell_type": "markdown",
   "metadata": {
    "deletable": true,
    "editable": true
   },
   "source": [
    "## Make fake data"
   ]
  },
  {
   "cell_type": "code",
   "execution_count": 3,
   "metadata": {
    "collapsed": false,
    "deletable": true,
    "editable": true,
    "execution": {
     "iopub.execute_input": "2022-08-23T08:21:42.656876Z",
     "iopub.status.busy": "2022-08-23T08:21:42.656608Z",
     "iopub.status.idle": "2022-08-23T08:21:42.663312Z",
     "shell.execute_reply": "2022-08-23T08:21:42.662465Z"
    },
    "jupyter": {
     "outputs_hidden": false
    }
   },
   "outputs": [],
   "source": [
    "Ts = np.linspace(20, 100, 5)\n",
    "x = np.linspace(0, 10, 10)\n",
    "ys = [np.exp(-(x-2)/3) + (np.random.rand(x.size)-0.5)*0.3 for T in Ts]\n",
    "fits = [np.exp(-(x-2)/3) for T in Ts]\n",
    "\n",
    "X, Y = np.meshgrid(x,x)\n",
    "M = np.exp(-np.sqrt((X-2)**2 + (Y-3)**2))\n",
    "M += np.random.rand(*M.shape)*0.1"
   ]
  },
  {
   "cell_type": "markdown",
   "metadata": {
    "deletable": true,
    "editable": true
   },
   "source": [
    "## Create a set of colors and a cyler of markers\n",
    "It's preferable to use color in a meaningful and consistent way throughout a manuscript. For example all data at 20 K is black etc. "
   ]
  },
  {
   "cell_type": "code",
   "execution_count": 4,
   "metadata": {
    "collapsed": false,
    "deletable": true,
    "editable": true,
    "execution": {
     "iopub.execute_input": "2022-08-23T08:21:42.666811Z",
     "iopub.status.busy": "2022-08-23T08:21:42.666052Z",
     "iopub.status.idle": "2022-08-23T08:21:42.670847Z",
     "shell.execute_reply": "2022-08-23T08:21:42.670229Z"
    },
    "jupyter": {
     "outputs_hidden": false
    }
   },
   "outputs": [],
   "source": [
    "colors = mpl.cm.inferno(np.linspace(0, 0.8, len(ys))) # avoid yellow due to visibility\n",
    "markers = cycle(['o', 's', '^', 'v', 'p', '<', '>', 'h'])"
   ]
  },
  {
   "cell_type": "markdown",
   "metadata": {
    "deletable": true,
    "editable": true
   },
   "source": [
    "## Create figure"
   ]
  },
  {
   "cell_type": "markdown",
   "metadata": {
    "deletable": true,
    "editable": true
   },
   "source": [
    "* The width of a figure should always be set to the real physical column width. e.g. 3+3/8 inches for a PRL column. This will mean that fonts appear on the page in the correct size.\n",
    "\n",
    "* Gridspec and subplots_adjust are useful to set the precise location of panels.\n",
    "\n",
    "* Including 2-4 minor ticks per major tick is usually good.\n",
    "\n",
    "* Putting the colorbar on separate axes facilities better control over its location. \n",
    "\n",
    "* Saving in pdf creates vector graphics and fast performance within pdflatex.\n",
    "\n",
    "* It sometimes makes sense to flip the order of legend entries to match the order if which they appear on the plot."
   ]
  },
  {
   "cell_type": "code",
   "execution_count": 5,
   "metadata": {
    "collapsed": false,
    "deletable": true,
    "editable": true,
    "execution": {
     "iopub.execute_input": "2022-08-23T08:21:42.673674Z",
     "iopub.status.busy": "2022-08-23T08:21:42.673432Z",
     "iopub.status.idle": "2022-08-23T08:21:44.374936Z",
     "shell.execute_reply": "2022-08-23T08:21:44.373965Z"
    },
    "jupyter": {
     "outputs_hidden": false
    }
   },
   "outputs": [
    {
     "data": {
      "application/vnd.jupyter.widget-view+json": {
       "model_id": "d9ad0e7f6f954ff0b396a461cd64d9ec",
       "version_major": 2,
       "version_minor": 0
      },
      "image/png": "[encoded data removed]",
      "text/html": [
       "\n",
       "            <div style=\"display: inline-block;\">\n",
       "                <div class=\"jupyter-widgets widget-label\" style=\"text-align: center;\">\n",
       "                    Figure\n",
       "                </div>\n",
       "                <img src='data:image/png;base64,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' width=337.5/>\n",
       "            </div>\n",
       "        "
      ],
      "text/plain": [
       "Canvas(toolbar=Toolbar(toolitems=[('Home', 'Reset original view', 'home', 'home'), ('Back', 'Back to previous …"
      ]
     },
     "metadata": {},
     "output_type": "display_data"
    }
   ],
   "source": [
    "fig = plt.figure(figsize=(3+3/8, 4))\n",
    "\n",
    "gs = GridSpec(3,2, width_ratios=[1.2,0.8], height_ratios=[1,0.1,1])\n",
    "\n",
    "ax0 = plt.subplot(gs[:,0])\n",
    "\n",
    "offsets = np.arange(len(Ts)) * 1\n",
    "for y, fit, T, offset, color, marker in zip(ys, fits, Ts, offsets, colors, markers):\n",
    "    ax0.plot(x, fit + offset, '-', color=color, alpha=0.5)\n",
    "    ax0.plot(x, y + offset, color=color, marker=marker, linestyle='None', label=\"T = {:.0f} K\".format(T))\n",
    "    \n",
    "ax0.set_xlabel(r'$\\tau$ (s)')\n",
    "ax0.set_ylabel(r'$g_2(\\tau)$')\n",
    "\n",
    "ax0.xaxis.set_major_locator(ticker.MultipleLocator(2))\n",
    "ax0.xaxis.set_minor_locator(ticker.AutoMinorLocator(2))\n",
    "ax0.yaxis.set_minor_locator(ticker.AutoMinorLocator(2))\n",
    "\n",
    "\n",
    "ax1 = plt.subplot(gs[0,1])\n",
    "art = ax1.pcolormesh(X, Y, M, vmin=0, vmax=0.5, shading='auto')\n",
    "ax1.set_axis_off()\n",
    "ax1.xaxis.set_minor_locator(ticker.AutoMinorLocator(2))\n",
    "\n",
    "ax2 = plt.subplot(gs[1,1])\n",
    "cb = plt.colorbar(art, cax=ax2, orientation=\"horizontal\")\n",
    "cb.set_label('I  (ADU)')\n",
    "cb.set_ticks(ticker.MultipleLocator(0.2))\n",
    "\n",
    "\n",
    "ax3 = plt.subplot(gs[2,1])\n",
    "handles, labels = ax0.get_legend_handles_labels()\n",
    "ax3.axis('off')\n",
    "ax3.legend(handles[::-1], labels[::-1], bbox_to_anchor=(1.1,0.8))\n",
    "\n",
    "fig.text(0.1, 0.9, '(a)')\n",
    "fig.text(0.65, 0.9, '(b)')\n",
    "\n",
    "fig.subplots_adjust(wspace=0.1, hspace=0.1, left=0.1, right=0.97)\n",
    "\n",
    "fig.savefig('ex_01_multipanel_colorplot.pdf', dpi=1200)"
   ]
  },
  {
   "cell_type": "code",
   "execution_count": null,
   "metadata": {},
   "outputs": [],
   "source": []
  }
 ],
 "metadata": {
  "kernelspec": {
   "display_name": "Python 3",
   "language": "python",
   "name": "python3"
  },
  "language_info": {
   "codemirror_mode": {
    "name": "ipython",
    "version": 3
   },
   "file_extension": ".py",
   "mimetype": "text/x-python",
   "name": "python",
   "nbconvert_exporter": "python",
   "pygments_lexer": "ipython3",
   "version": "3.10.5"
  },
  "widgets": {
   "application/vnd.jupyter.widget-state+json": {
    "state": {
     "1fa2921988964beb85558cc6c225bc81": {
      "model_module": "@jupyter-widgets/base",
      "model_module_version": "1.2.0",
      "model_name": "LayoutModel",
      "state": {
       "_model_module": "@jupyter-widgets/base",
       "_model_module_version": "1.2.0",
       "_model_name": "LayoutModel",
       "_view_count": null,
       "_view_module": "@jupyter-widgets/base",
       "_view_module_version": "1.2.0",
       "_view_name": "LayoutView",
       "align_content": null,
       "align_items": null,
       "align_self": null,
       "border": null,
       "bottom": null,
       "display": null,
       "flex": null,
       "flex_flow": null,
       "grid_area": null,
       "grid_auto_columns": null,
       "grid_auto_flow": null,
       "grid_auto_rows": null,
       "grid_column": null,
       "grid_gap": null,
       "grid_row": null,
       "grid_template_areas": null,
       "grid_template_columns": null,
       "grid_template_rows": null,
       "height": null,
       "justify_content": null,
       "justify_items": null,
       "left": null,
       "margin": null,
       "max_height": null,
       "max_width": null,
       "min_height": null,
       "min_width": null,
       "object_fit": null,
       "object_position": null,
       "order": null,
       "overflow": null,
       "overflow_x": null,
       "overflow_y": null,
       "padding": null,
       "right": null,
       "top": null,
       "visibility": null,
       "width": null
      }
     },
     "570aa71a15b5421384fffe2fbf246f5e": {
      "model_module": "@jupyter-widgets/base",
      "model_module_version": "1.2.0",
      "model_name": "LayoutModel",
      "state": {
       "_model_module": "@jupyter-widgets/base",
       "_model_module_version": "1.2.0",
       "_model_name": "LayoutModel",
       "_view_count": null,
       "_view_module": "@jupyter-widgets/base",
       "_view_module_version": "1.2.0",
       "_view_name": "LayoutView",
       "align_content": null,
       "align_items": null,
       "align_self": null,
       "border": null,
       "bottom": null,
       "display": null,
       "flex": null,
       "flex_flow": null,
       "grid_area": null,
       "grid_auto_columns": null,
       "grid_auto_flow": null,
       "grid_auto_rows": null,
       "grid_column": null,
       "grid_gap": null,
       "grid_row": null,
       "grid_template_areas": null,
       "grid_template_columns": null,
       "grid_template_rows": null,
       "height": null,
       "justify_content": null,
       "justify_items": null,
       "left": null,
       "margin": null,
       "max_height": null,
       "max_width": null,
       "min_height": null,
       "min_width": null,
       "object_fit": null,
       "object_position": null,
       "order": null,
       "overflow": null,
       "overflow_x": null,
       "overflow_y": null,
       "padding": null,
       "right": null,
       "top": null,
       "visibility": null,
       "width": null
      }
     },
     "d9ad0e7f6f954ff0b396a461cd64d9ec": {
      "model_module": "jupyter-matplotlib",
      "model_module_version": "^0.11",
      "model_name": "MPLCanvasModel",
      "state": {
       "_cursor": "pointer",
       "_data_url": "data:image/png;base64,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",
       "_dom_classes": [],
       "_figure_label": "Figure",
       "_image_mode": "full",
       "_message": "",
       "_model_module": "jupyter-matplotlib",
       "_model_module_version": "^0.11",
       "_model_name": "MPLCanvasModel",
       "_rubberband_height": 0,
       "_rubberband_width": 0,
       "_rubberband_x": 0,
       "_rubberband_y": 0,
       "_size": [
        337.5,
        400.0
       ],
       "_view_count": null,
       "_view_module": "jupyter-matplotlib",
       "_view_module_version": "^0.11",
       "_view_name": "MPLCanvasView",
       "capture_scroll": false,
       "footer_visible": true,
       "header_visible": true,
       "layout": "IPY_MODEL_1fa2921988964beb85558cc6c225bc81",
       "pan_zoom_throttle": 33.0,
       "resizable": true,
       "toolbar": "IPY_MODEL_ea121a54a54741c883dd8d7a71350f6c",
       "toolbar_position": "left",
       "toolbar_visible": "fade-in-fade-out"
      }
     },
     "e56b540baf7e4d18a029c751527acd61": {
      "model_module": "jupyter-matplotlib",
      "model_module_version": "^0.11",
      "model_name": "ToolbarModel",
      "state": {
       "_current_action": "",
       "_dom_classes": [],
       "_model_module": "jupyter-matplotlib",
       "_model_module_version": "^0.11",
       "_model_name": "ToolbarModel",
       "_view_count": null,
       "_view_module": "jupyter-matplotlib",
       "_view_module_version": "^0.11",
       "_view_name": "ToolbarView",
       "button_style": "",
       "collapsed": true,
       "layout": "IPY_MODEL_f57bfb2b0fb247d88524214618eab6e7",
       "orientation": "vertical",
       "toolitems": [
        [
         "Home",
         "Reset original view",
         "home",
         "home"
        ],
        [
         "Back",
         "Back to previous view",
         "arrow-left",
         "back"
        ],
        [
         "Forward",
         "Forward to next view",
         "arrow-right",
         "forward"
        ],
        [
         "Pan",
         "Left button pans, Right button zooms\nx/y fixes axis, CTRL fixes aspect",
         "arrows",
         "pan"
        ],
        [
         "Zoom",
         "Zoom to rectangle\nx/y fixes axis",
         "square-o",
         "zoom"
        ],
        [
         "Download",
         "Download plot",
         "floppy-o",
         "save_figure"
        ]
       ]
      }
     },
     "ea121a54a54741c883dd8d7a71350f6c": {
      "model_module": "jupyter-matplotlib",
      "model_module_version": "^0.11",
      "model_name": "ToolbarModel",
      "state": {
       "_current_action": "",
       "_dom_classes": [],
       "_model_module": "jupyter-matplotlib",
       "_model_module_version": "^0.11",
       "_model_name": "ToolbarModel",
       "_view_count": null,
       "_view_module": "jupyter-matplotlib",
       "_view_module_version": "^0.11",
       "_view_name": "ToolbarView",
       "button_style": "",
       "collapsed": true,
       "layout": "IPY_MODEL_570aa71a15b5421384fffe2fbf246f5e",
       "orientation": "vertical",
       "toolitems": [
        [
         "Home",
         "Reset original view",
         "home",
         "home"
        ],
        [
         "Back",
         "Back to previous view",
         "arrow-left",
         "back"
        ],
        [
         "Forward",
         "Forward to next view",
         "arrow-right",
         "forward"
        ],
        [
         "Pan",
         "Left button pans, Right button zooms\nx/y fixes axis, CTRL fixes aspect",
         "arrows",
         "pan"
        ],
        [
         "Zoom",
         "Zoom to rectangle\nx/y fixes axis",
         "square-o",
         "zoom"
        ],
        [
         "Download",
         "Download plot",
         "floppy-o",
         "save_figure"
        ]
       ]
      }
     },
     "f57bfb2b0fb247d88524214618eab6e7": {
      "model_module": "@jupyter-widgets/base",
      "model_module_version": "1.2.0",
      "model_name": "LayoutModel",
      "state": {
       "_model_module": "@jupyter-widgets/base",
       "_model_module_version": "1.2.0",
       "_model_name": "LayoutModel",
       "_view_count": null,
       "_view_module": "@jupyter-widgets/base",
       "_view_module_version": "1.2.0",
       "_view_name": "LayoutView",
       "align_content": null,
       "align_items": null,
       "align_self": null,
       "border": null,
       "bottom": null,
       "display": null,
       "flex": null,
       "flex_flow": null,
       "grid_area": null,
       "grid_auto_columns": null,
       "grid_auto_flow": null,
       "grid_auto_rows": null,
       "grid_column": null,
       "grid_gap": null,
       "grid_row": null,
       "grid_template_areas": null,
       "grid_template_columns": null,
       "grid_template_rows": null,
       "height": null,
       "justify_content": null,
       "justify_items": null,
       "left": null,
       "margin": null,
       "max_height": null,
       "max_width": null,
       "min_height": null,
       "min_width": null,
       "object_fit": null,
       "object_position": null,
       "order": null,
       "overflow": null,
       "overflow_x": null,
       "overflow_y": null,
       "padding": null,
       "right": null,
       "top": null,
       "visibility": null,
       "width": null
      }
     }
    },
    "version_major": 2,
    "version_minor": 0
   }
  }
 },
 "nbformat": 4,
 "nbformat_minor": 4
}
