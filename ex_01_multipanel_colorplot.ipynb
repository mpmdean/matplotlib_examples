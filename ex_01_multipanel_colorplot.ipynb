{
 "cells": [
  {
   "cell_type": "code",
   "execution_count": 1,
   "metadata": {
    "collapsed": false,
    "deletable": true,
    "editable": true,
    "execution": {
     "iopub.execute_input": "2022-11-17T20:21:39.543314Z",
     "iopub.status.busy": "2022-11-17T20:21:39.543008Z",
     "iopub.status.idle": "2022-11-17T20:21:40.357769Z",
     "shell.execute_reply": "2022-11-17T20:21:40.356872Z"
    },
    "jupyter": {
     "outputs_hidden": false
    }
   },
   "outputs": [],
   "source": [
    "import numpy as np\n",
    "import matplotlib as mpl\n",
    "import matplotlib.pyplot as plt\n",
    "from matplotlib.gridspec import GridSpec\n",
    "import matplotlib.ticker as ticker\n",
    "from cycler import cycle\n",
    "\n",
    "%matplotlib widget"
   ]
  },
  {
   "cell_type": "markdown",
   "metadata": {
    "deletable": true,
    "editable": true
   },
   "source": [
    "This example uses matplotlib 2.0"
   ]
  },
  {
   "cell_type": "code",
   "execution_count": 2,
   "metadata": {
    "collapsed": false,
    "deletable": true,
    "editable": true,
    "execution": {
     "iopub.execute_input": "2022-11-17T20:21:40.361732Z",
     "iopub.status.busy": "2022-11-17T20:21:40.361072Z",
     "iopub.status.idle": "2022-11-17T20:21:40.367209Z",
     "shell.execute_reply": "2022-11-17T20:21:40.366738Z"
    },
    "jupyter": {
     "outputs_hidden": false
    }
   },
   "outputs": [
    {
     "name": "stdout",
     "output_type": "stream",
     "text": [
      "Python version is 3.10.5 | packaged by conda-forge | (main, Jun 14 2022, 07:04:59) [GCC 10.3.0] \n",
      "\n",
      "Matplotlib version is 3.5.2 \n",
      "\n",
      "Matplotlibrc file is matplotlibrc\n",
      "\n"
     ]
    }
   ],
   "source": [
    "%matplotlib widget\n",
    "import sys\n",
    "print(\"Python version is {} \\n\".format(sys.version))\n",
    "print(\"Matplotlib version is {} \\n\".format(mpl.__version__))\n",
    "print(\"Matplotlibrc file is {}\\n\".format(mpl.matplotlib_fname()))"
   ]
  },
  {
   "cell_type": "markdown",
   "metadata": {
    "deletable": true,
    "editable": true
   },
   "source": [
    "and the matplotlibrc file from \n",
    "https://github.com/mpmdean/matplotlibrc\n",
    "please suggest improvements"
   ]
  },
  {
   "cell_type": "markdown",
   "metadata": {
    "deletable": true,
    "editable": true
   },
   "source": [
    "## A few notes"
   ]
  },
  {
   "cell_type": "markdown",
   "metadata": {
    "deletable": true,
    "editable": true
   },
   "source": [
    "* All fields are using latex by default -- this avoid non-uniformity when using latex in some labels. \n",
    "\n",
    "* Using a uniform style is very important for an attractive manuscript. Try to avoid ad-hoc changes to the settings. \n",
    "\n",
    "* If you feel that there is a desirable change, consider applying it to the whole manuscript, preferably by setting some edits to the rc file right at the start of the script/notebook. e.g. mpl.rc('font', size=10). "
   ]
  },
  {
   "cell_type": "markdown",
   "metadata": {
    "deletable": true,
    "editable": true
   },
   "source": [
    "## Make fake data"
   ]
  },
  {
   "cell_type": "code",
   "execution_count": 3,
   "metadata": {
    "collapsed": false,
    "deletable": true,
    "editable": true,
    "execution": {
     "iopub.execute_input": "2022-11-17T20:21:40.408942Z",
     "iopub.status.busy": "2022-11-17T20:21:40.408628Z",
     "iopub.status.idle": "2022-11-17T20:21:40.415869Z",
     "shell.execute_reply": "2022-11-17T20:21:40.415065Z"
    },
    "jupyter": {
     "outputs_hidden": false
    }
   },
   "outputs": [],
   "source": [
    "Ts = np.linspace(20, 100, 5)\n",
    "x = np.linspace(0, 10, 10)\n",
    "ys = [np.exp(-(x-2)/3) + (np.random.rand(x.size)-0.5)*0.3 for T in Ts]\n",
    "fits = [np.exp(-(x-2)/3) for T in Ts]\n",
    "\n",
    "X, Y = np.meshgrid(x,x)\n",
    "M = np.exp(-np.sqrt((X-2)**2 + (Y-3)**2))\n",
    "M += np.random.rand(*M.shape)*0.1"
   ]
  },
  {
   "cell_type": "markdown",
   "metadata": {
    "deletable": true,
    "editable": true
   },
   "source": [
    "## Create a set of colors and a cyler of markers\n",
    "It's preferable to use color in a meaningful and consistent way throughout a manuscript. For example all data at 20 K is black etc. "
   ]
  },
  {
   "cell_type": "code",
   "execution_count": 4,
   "metadata": {
    "collapsed": false,
    "deletable": true,
    "editable": true,
    "execution": {
     "iopub.execute_input": "2022-11-17T20:21:40.418994Z",
     "iopub.status.busy": "2022-11-17T20:21:40.418684Z",
     "iopub.status.idle": "2022-11-17T20:21:40.424232Z",
     "shell.execute_reply": "2022-11-17T20:21:40.423514Z"
    },
    "jupyter": {
     "outputs_hidden": false
    }
   },
   "outputs": [],
   "source": [
    "colors = mpl.cm.inferno(np.linspace(0, 0.8, len(ys))) # avoid yellow due to visibility\n",
    "markers = cycle(['o', 's', '^', 'v', 'p', '<', '>', 'h'])"
   ]
  },
  {
   "cell_type": "markdown",
   "metadata": {
    "deletable": true,
    "editable": true
   },
   "source": [
    "## Create figure"
   ]
  },
  {
   "cell_type": "markdown",
   "metadata": {
    "deletable": true,
    "editable": true
   },
   "source": [
    "* The width of a figure should always be set to the real physical column width. e.g. 3+3/8 inches for a PRL column. This will mean that fonts appear on the page in the correct size.\n",
    "\n",
    "* Gridspec and subplots_adjust are useful to set the precise location of panels.\n",
    "\n",
    "* Including 2-4 minor ticks per major tick is usually good.\n",
    "\n",
    "* Putting the colorbar on separate axes facilities better control over its location. \n",
    "\n",
    "* Saving in pdf creates vector graphics and fast performance within pdflatex.\n",
    "\n",
    "* It sometimes makes sense to flip the order of legend entries to match the order if which they appear on the plot."
   ]
  },
  {
   "cell_type": "code",
   "execution_count": 5,
   "metadata": {
    "collapsed": false,
    "deletable": true,
    "editable": true,
    "execution": {
     "iopub.execute_input": "2022-11-17T20:21:40.427776Z",
     "iopub.status.busy": "2022-11-17T20:21:40.426816Z",
     "iopub.status.idle": "2022-11-17T20:21:41.453348Z",
     "shell.execute_reply": "2022-11-17T20:21:41.452606Z"
    },
    "jupyter": {
     "outputs_hidden": false
    }
   },
   "outputs": [
    {
     "data": {
      "application/vnd.jupyter.widget-view+json": {
       "model_id": "d98008f8a02b4f41848d94f89b31be78",
       "version_major": 2,
       "version_minor": 0
      },
      "image/png": "[encoded data removed]",
      "text/html": [
       "\n",
       "            <div style=\"display: inline-block;\">\n",
       "                <div class=\"jupyter-widgets widget-label\" style=\"text-align: center;\">\n",
       "                    Figure\n",
       "                </div>\n",
       "                <img src='data:image/png;base64,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' width=337.5/>\n",
       "            </div>\n",
       "        "
      ],
      "text/plain": [
       "Canvas(toolbar=Toolbar(toolitems=[('Home', 'Reset original view', 'home', 'home'), ('Back', 'Back to previous …"
      ]
     },
     "metadata": {},
     "output_type": "display_data"
    }
   ],
   "source": [
    "fig = plt.figure(figsize=(3+3/8, 4))\n",
    "\n",
    "gs = GridSpec(3,2, width_ratios=[1.2,0.8], height_ratios=[1,0.1,1])\n",
    "\n",
    "ax0 = plt.subplot(gs[:,0])\n",
    "\n",
    "offsets = np.arange(len(Ts)) * 1\n",
    "for y, fit, T, offset, color, marker in zip(ys, fits, Ts, offsets, colors, markers):\n",
    "    ax0.plot(x, fit + offset, '-', color=color, alpha=0.5)\n",
    "    ax0.plot(x, y + offset, color=color, marker=marker, linestyle='None', label=\"T = {:.0f} K\".format(T))\n",
    "    \n",
    "ax0.set_xlabel(r'$\\tau$ (s)')\n",
    "ax0.set_ylabel(r'$g_2(\\tau)$')\n",
    "\n",
    "ax0.xaxis.set_major_locator(ticker.MultipleLocator(2))\n",
    "ax0.xaxis.set_minor_locator(ticker.AutoMinorLocator(2))\n",
    "ax0.yaxis.set_minor_locator(ticker.AutoMinorLocator(2))\n",
    "\n",
    "\n",
    "ax1 = plt.subplot(gs[0,1])\n",
    "art = ax1.pcolormesh(X, Y, M, vmin=0, vmax=0.5, shading='auto')\n",
    "ax1.set_axis_off()\n",
    "ax1.xaxis.set_minor_locator(ticker.AutoMinorLocator(2))\n",
    "\n",
    "ax2 = plt.subplot(gs[1,1])\n",
    "cb = plt.colorbar(art, cax=ax2, orientation=\"horizontal\")\n",
    "cb.set_label('I  (ADU)')\n",
    "cb.set_ticks(ticker.MultipleLocator(0.2))\n",
    "\n",
    "\n",
    "ax3 = plt.subplot(gs[2,1])\n",
    "handles, labels = ax0.get_legend_handles_labels()\n",
    "ax3.axis('off')\n",
    "ax3.legend(handles[::-1], labels[::-1], bbox_to_anchor=(1.1,0.8))\n",
    "\n",
    "fig.text(0.1, 0.9, '(a)')\n",
    "fig.text(0.65, 0.9, '(b)')\n",
    "\n",
    "fig.subplots_adjust(wspace=0.1, hspace=0.1, left=0.1, right=0.97)\n",
    "\n",
    "fig.savefig('ex_01_multipanel_colorplot.pdf', dpi=1200)"
   ]
  },
  {
   "cell_type": "code",
   "execution_count": null,
   "metadata": {},
   "outputs": [],
   "source": []
  }
 ],
 "metadata": {
  "kernelspec": {
   "display_name": "Python 3",
   "language": "python",
   "name": "python3"
  },
  "language_info": {
   "codemirror_mode": {
    "name": "ipython",
    "version": 3
   },
   "file_extension": ".py",
   "mimetype": "text/x-python",
   "name": "python",
   "nbconvert_exporter": "python",
   "pygments_lexer": "ipython3",
   "version": "3.10.5"
  },
  "widgets": {
   "application/vnd.jupyter.widget-state+json": {
    "state": {
     "066a2c3f2a0e4911bd88e55bccb58b61": {
      "model_module": "@jupyter-widgets/base",
      "model_module_version": "1.2.0",
      "model_name": "LayoutModel",
      "state": {
       "_model_module": "@jupyter-widgets/base",
       "_model_module_version": "1.2.0",
       "_model_name": "LayoutModel",
       "_view_count": null,
       "_view_module": "@jupyter-widgets/base",
       "_view_module_version": "1.2.0",
       "_view_name": "LayoutView",
       "align_content": null,
       "align_items": null,
       "align_self": null,
       "border": null,
       "bottom": null,
       "display": null,
       "flex": null,
       "flex_flow": null,
       "grid_area": null,
       "grid_auto_columns": null,
       "grid_auto_flow": null,
       "grid_auto_rows": null,
       "grid_column": null,
       "grid_gap": null,
       "grid_row": null,
       "grid_template_areas": null,
       "grid_template_columns": null,
       "grid_template_rows": null,
       "height": null,
       "justify_content": null,
       "justify_items": null,
       "left": null,
       "margin": null,
       "max_height": null,
       "max_width": null,
       "min_height": null,
       "min_width": null,
       "object_fit": null,
       "object_position": null,
       "order": null,
       "overflow": null,
       "overflow_x": null,
       "overflow_y": null,
       "padding": null,
       "right": null,
       "top": null,
       "visibility": null,
       "width": null
      }
     },
     "697d483fd5b14178afcb49fe9418c77d": {
      "model_module": "@jupyter-widgets/base",
      "model_module_version": "1.2.0",
      "model_name": "LayoutModel",
      "state": {
       "_model_module": "@jupyter-widgets/base",
       "_model_module_version": "1.2.0",
       "_model_name": "LayoutModel",
       "_view_count": null,
       "_view_module": "@jupyter-widgets/base",
       "_view_module_version": "1.2.0",
       "_view_name": "LayoutView",
       "align_content": null,
       "align_items": null,
       "align_self": null,
       "border": null,
       "bottom": null,
       "display": null,
       "flex": null,
       "flex_flow": null,
       "grid_area": null,
       "grid_auto_columns": null,
       "grid_auto_flow": null,
       "grid_auto_rows": null,
       "grid_column": null,
       "grid_gap": null,
       "grid_row": null,
       "grid_template_areas": null,
       "grid_template_columns": null,
       "grid_template_rows": null,
       "height": null,
       "justify_content": null,
       "justify_items": null,
       "left": null,
       "margin": null,
       "max_height": null,
       "max_width": null,
       "min_height": null,
       "min_width": null,
       "object_fit": null,
       "object_position": null,
       "order": null,
       "overflow": null,
       "overflow_x": null,
       "overflow_y": null,
       "padding": null,
       "right": null,
       "top": null,
       "visibility": null,
       "width": null
      }
     },
     "7d1a011e50334aa29f8fd8e581a9a43b": {
      "model_module": "jupyter-matplotlib",
      "model_module_version": "^0.11",
      "model_name": "ToolbarModel",
      "state": {
       "_current_action": "",
       "_dom_classes": [],
       "_model_module": "jupyter-matplotlib",
       "_model_module_version": "^0.11",
       "_model_name": "ToolbarModel",
       "_view_count": null,
       "_view_module": "jupyter-matplotlib",
       "_view_module_version": "^0.11",
       "_view_name": "ToolbarView",
       "button_style": "",
       "collapsed": true,
       "layout": "IPY_MODEL_697d483fd5b14178afcb49fe9418c77d",
       "orientation": "vertical",
       "toolitems": [
        [
         "Home",
         "Reset original view",
         "home",
         "home"
        ],
        [
         "Back",
         "Back to previous view",
         "arrow-left",
         "back"
        ],
        [
         "Forward",
         "Forward to next view",
         "arrow-right",
         "forward"
        ],
        [
         "Pan",
         "Left button pans, Right button zooms\nx/y fixes axis, CTRL fixes aspect",
         "arrows",
         "pan"
        ],
        [
         "Zoom",
         "Zoom to rectangle\nx/y fixes axis",
         "square-o",
         "zoom"
        ],
        [
         "Download",
         "Download plot",
         "floppy-o",
         "save_figure"
        ]
       ]
      }
     },
     "a87831122ea84837b10a0ac648952a10": {
      "model_module": "jupyter-matplotlib",
      "model_module_version": "^0.11",
      "model_name": "ToolbarModel",
      "state": {
       "_current_action": "",
       "_dom_classes": [],
       "_model_module": "jupyter-matplotlib",
       "_model_module_version": "^0.11",
       "_model_name": "ToolbarModel",
       "_view_count": null,
       "_view_module": "jupyter-matplotlib",
       "_view_module_version": "^0.11",
       "_view_name": "ToolbarView",
       "button_style": "",
       "collapsed": true,
       "layout": "IPY_MODEL_bae6c3a52d31493a98ff5c2d4802737c",
       "orientation": "vertical",
       "toolitems": [
        [
         "Home",
         "Reset original view",
         "home",
         "home"
        ],
        [
         "Back",
         "Back to previous view",
         "arrow-left",
         "back"
        ],
        [
         "Forward",
         "Forward to next view",
         "arrow-right",
         "forward"
        ],
        [
         "Pan",
         "Left button pans, Right button zooms\nx/y fixes axis, CTRL fixes aspect",
         "arrows",
         "pan"
        ],
        [
         "Zoom",
         "Zoom to rectangle\nx/y fixes axis",
         "square-o",
         "zoom"
        ],
        [
         "Download",
         "Download plot",
         "floppy-o",
         "save_figure"
        ]
       ]
      }
     },
     "bae6c3a52d31493a98ff5c2d4802737c": {
      "model_module": "@jupyter-widgets/base",
      "model_module_version": "1.2.0",
      "model_name": "LayoutModel",
      "state": {
       "_model_module": "@jupyter-widgets/base",
       "_model_module_version": "1.2.0",
       "_model_name": "LayoutModel",
       "_view_count": null,
       "_view_module": "@jupyter-widgets/base",
       "_view_module_version": "1.2.0",
       "_view_name": "LayoutView",
       "align_content": null,
       "align_items": null,
       "align_self": null,
       "border": null,
       "bottom": null,
       "display": null,
       "flex": null,
       "flex_flow": null,
       "grid_area": null,
       "grid_auto_columns": null,
       "grid_auto_flow": null,
       "grid_auto_rows": null,
       "grid_column": null,
       "grid_gap": null,
       "grid_row": null,
       "grid_template_areas": null,
       "grid_template_columns": null,
       "grid_template_rows": null,
       "height": null,
       "justify_content": null,
       "justify_items": null,
       "left": null,
       "margin": null,
       "max_height": null,
       "max_width": null,
       "min_height": null,
       "min_width": null,
       "object_fit": null,
       "object_position": null,
       "order": null,
       "overflow": null,
       "overflow_x": null,
       "overflow_y": null,
       "padding": null,
       "right": null,
       "top": null,
       "visibility": null,
       "width": null
      }
     },
     "d98008f8a02b4f41848d94f89b31be78": {
      "model_module": "jupyter-matplotlib",
      "model_module_version": "^0.11",
      "model_name": "MPLCanvasModel",
      "state": {
       "_cursor": "pointer",
       "_data_url": "data:image/png;base64,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",
       "_dom_classes": [],
       "_figure_label": "Figure",
       "_image_mode": "full",
       "_message": "",
       "_model_module": "jupyter-matplotlib",
       "_model_module_version": "^0.11",
       "_model_name": "MPLCanvasModel",
       "_rubberband_height": 0,
       "_rubberband_width": 0,
       "_rubberband_x": 0,
       "_rubberband_y": 0,
       "_size": [
        337.5,
        400.0
       ],
       "_view_count": null,
       "_view_module": "jupyter-matplotlib",
       "_view_module_version": "^0.11",
       "_view_name": "MPLCanvasView",
       "capture_scroll": false,
       "footer_visible": true,
       "header_visible": true,
       "layout": "IPY_MODEL_066a2c3f2a0e4911bd88e55bccb58b61",
       "pan_zoom_throttle": 33.0,
       "resizable": true,
       "toolbar": "IPY_MODEL_a87831122ea84837b10a0ac648952a10",
       "toolbar_position": "left",
       "toolbar_visible": "fade-in-fade-out"
      }
     }
    },
    "version_major": 2,
    "version_minor": 0
   }
  }
 },
 "nbformat": 4,
 "nbformat_minor": 4
}
