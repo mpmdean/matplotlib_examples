{
 "cells": [
  {
   "cell_type": "code",
   "execution_count": 1,
   "metadata": {
    "collapsed": false,
    "deletable": true,
    "editable": true,
    "execution": {
     "iopub.execute_input": "2022-08-17T18:39:48.412709Z",
     "iopub.status.busy": "2022-08-17T18:39:48.412345Z",
     "iopub.status.idle": "2022-08-17T18:39:49.193166Z",
     "shell.execute_reply": "2022-08-17T18:39:49.192322Z"
    },
    "jupyter": {
     "outputs_hidden": false
    }
   },
   "outputs": [],
   "source": [
    "import numpy as np\n",
    "import matplotlib as mpl\n",
    "import matplotlib.pyplot as plt\n",
    "from matplotlib.gridspec import GridSpec\n",
    "import matplotlib.ticker as ticker\n",
    "from cycler import cycle\n",
    "\n",
    "%matplotlib widget"
   ]
  },
  {
   "cell_type": "markdown",
   "metadata": {
    "deletable": true,
    "editable": true
   },
   "source": [
    "This example uses matplotlib 2.0"
   ]
  },
  {
   "cell_type": "code",
   "execution_count": 2,
   "metadata": {
    "collapsed": false,
    "deletable": true,
    "editable": true,
    "execution": {
     "iopub.execute_input": "2022-08-17T18:39:49.196429Z",
     "iopub.status.busy": "2022-08-17T18:39:49.196118Z",
     "iopub.status.idle": "2022-08-17T18:39:49.203118Z",
     "shell.execute_reply": "2022-08-17T18:39:49.202159Z"
    },
    "jupyter": {
     "outputs_hidden": false
    }
   },
   "outputs": [
    {
     "name": "stdout",
     "output_type": "stream",
     "text": [
      "Python version is 3.10.5 | packaged by conda-forge | (main, Jun 14 2022, 07:04:59) [GCC 10.3.0] \n",
      "\n",
      "Matplotlib version is 3.5.2 \n",
      "\n",
      "Matplotlibrc file is matplotlibrc\n",
      "\n"
     ]
    }
   ],
   "source": [
    "%matplotlib widget\n",
    "import sys\n",
    "print(\"Python version is {} \\n\".format(sys.version))\n",
    "print(\"Matplotlib version is {} \\n\".format(mpl.__version__))\n",
    "print(\"Matplotlibrc file is {}\\n\".format(mpl.matplotlib_fname()))"
   ]
  },
  {
   "cell_type": "markdown",
   "metadata": {
    "deletable": true,
    "editable": true
   },
   "source": [
    "and the matplotlibrc file from \n",
    "https://github.com/mpmdean/matplotlibrc\n",
    "please suggest improvements"
   ]
  },
  {
   "cell_type": "markdown",
   "metadata": {
    "deletable": true,
    "editable": true
   },
   "source": [
    "## A few notes"
   ]
  },
  {
   "cell_type": "markdown",
   "metadata": {
    "deletable": true,
    "editable": true
   },
   "source": [
    "* All fields are using latex by default -- this avoid non-uniformity when using latex in some labels. \n",
    "\n",
    "* Using a uniform style is very important for an attractive manuscript. Try to avoid ad-hoc changes to the settings. \n",
    "\n",
    "* If you feel that there is a desirable change, consider applying it to the whole manuscript, preferably by setting some edits to the rc file right at the start of the script/notebook. e.g. mpl.rc('font', size=10). "
   ]
  },
  {
   "cell_type": "markdown",
   "metadata": {
    "deletable": true,
    "editable": true
   },
   "source": [
    "## Make fake data"
   ]
  },
  {
   "cell_type": "code",
   "execution_count": 3,
   "metadata": {
    "collapsed": false,
    "deletable": true,
    "editable": true,
    "execution": {
     "iopub.execute_input": "2022-08-17T18:39:49.241077Z",
     "iopub.status.busy": "2022-08-17T18:39:49.240815Z",
     "iopub.status.idle": "2022-08-17T18:39:49.247753Z",
     "shell.execute_reply": "2022-08-17T18:39:49.246682Z"
    },
    "jupyter": {
     "outputs_hidden": false
    }
   },
   "outputs": [],
   "source": [
    "Ts = np.linspace(20, 100, 5)\n",
    "x = np.linspace(0, 10, 10)\n",
    "ys = [np.exp(-(x-2)/3) + (np.random.rand(x.size)-0.5)*0.3 for T in Ts]\n",
    "fits = [np.exp(-(x-2)/3) for T in Ts]\n",
    "\n",
    "X, Y = np.meshgrid(x,x)\n",
    "M = np.exp(-np.sqrt((X-2)**2 + (Y-3)**2))\n",
    "M += np.random.rand(*M.shape)*0.1"
   ]
  },
  {
   "cell_type": "markdown",
   "metadata": {
    "deletable": true,
    "editable": true
   },
   "source": [
    "## Create a set of colors and a cyler of markers\n",
    "It's preferable to use color in a meaningful and consistent way throughout a manuscript. For example all data at 20 K is black etc. "
   ]
  },
  {
   "cell_type": "code",
   "execution_count": 4,
   "metadata": {
    "collapsed": false,
    "deletable": true,
    "editable": true,
    "execution": {
     "iopub.execute_input": "2022-08-17T18:39:49.250849Z",
     "iopub.status.busy": "2022-08-17T18:39:49.250535Z",
     "iopub.status.idle": "2022-08-17T18:39:49.256643Z",
     "shell.execute_reply": "2022-08-17T18:39:49.255721Z"
    },
    "jupyter": {
     "outputs_hidden": false
    }
   },
   "outputs": [],
   "source": [
    "colors = mpl.cm.inferno(np.linspace(0, 0.8, len(ys))) # avoid yellow due to visibility\n",
    "markers = cycle(['o', 's', '^', 'v', 'p', '<', '>', 'h'])"
   ]
  },
  {
   "cell_type": "markdown",
   "metadata": {
    "deletable": true,
    "editable": true
   },
   "source": [
    "## Create figure"
   ]
  },
  {
   "cell_type": "markdown",
   "metadata": {
    "deletable": true,
    "editable": true
   },
   "source": [
    "* The width of a figure should always be set to the real physical column width. e.g. 3+3/8 inches for a PRL column. This will mean that fonts appear on the page in the correct size.\n",
    "\n",
    "* Gridspec and subplots_adjust are useful to set the precise location of panels.\n",
    "\n",
    "* Including 2-4 minor ticks per major tick is usually good.\n",
    "\n",
    "* Putting the colorbar on separate axes facilities better control over its location. \n",
    "\n",
    "* Saving in pdf creates vector graphics and fast performance within pdflatex.\n",
    "\n",
    "* It sometimes makes sense to flip the order of legend entries to match the order if which they appear on the plot."
   ]
  },
  {
   "cell_type": "code",
   "execution_count": 5,
   "metadata": {
    "collapsed": false,
    "deletable": true,
    "editable": true,
    "execution": {
     "iopub.execute_input": "2022-08-17T18:39:49.259869Z",
     "iopub.status.busy": "2022-08-17T18:39:49.259385Z",
     "iopub.status.idle": "2022-08-17T18:39:50.352008Z",
     "shell.execute_reply": "2022-08-17T18:39:50.350480Z"
    },
    "jupyter": {
     "outputs_hidden": false
    }
   },
   "outputs": [
    {
     "data": {
      "application/vnd.jupyter.widget-view+json": {
       "model_id": "befea2e24db84135a0102f58c40ed696",
       "version_major": 2,
       "version_minor": 0
      },
      "image/png": "[encoded data removed]",
      "text/html": [
       "\n",
       "            <div style=\"display: inline-block;\">\n",
       "                <div class=\"jupyter-widgets widget-label\" style=\"text-align: center;\">\n",
       "                    Figure\n",
       "                </div>\n",
       "                <img src='data:image/png;base64,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' width=337.5/>\n",
       "            </div>\n",
       "        "
      ],
      "text/plain": [
       "Canvas(toolbar=Toolbar(toolitems=[('Home', 'Reset original view', 'home', 'home'), ('Back', 'Back to previous …"
      ]
     },
     "metadata": {},
     "output_type": "display_data"
    }
   ],
   "source": [
    "fig = plt.figure(figsize=(3+3/8, 4))\n",
    "\n",
    "gs = GridSpec(3,2, width_ratios=[1.2,0.8], height_ratios=[1,0.1,1])\n",
    "\n",
    "ax0 = plt.subplot(gs[:,0])\n",
    "\n",
    "offsets = np.arange(len(Ts)) * 1\n",
    "for y, fit, T, offset, color, marker in zip(ys, fits, Ts, offsets, colors, markers):\n",
    "    ax0.plot(x, fit + offset, '-', color=color, alpha=0.5)\n",
    "    ax0.plot(x, y + offset, color=color, marker=marker, linestyle='None', label=\"T = {:.0f} K\".format(T))\n",
    "    \n",
    "ax0.set_xlabel(r'$\\tau$ (s)')\n",
    "ax0.set_ylabel(r'$g_2(\\tau)$')\n",
    "\n",
    "ax0.xaxis.set_major_locator(ticker.MultipleLocator(2))\n",
    "ax0.xaxis.set_minor_locator(ticker.AutoMinorLocator(2))\n",
    "ax0.yaxis.set_minor_locator(ticker.AutoMinorLocator(2))\n",
    "\n",
    "\n",
    "ax1 = plt.subplot(gs[0,1])\n",
    "art = ax1.pcolormesh(X, Y, M, vmin=0, vmax=0.5, shading='auto')\n",
    "ax1.set_axis_off()\n",
    "ax1.xaxis.set_minor_locator(ticker.AutoMinorLocator(2))\n",
    "\n",
    "ax2 = plt.subplot(gs[1,1])\n",
    "cb = plt.colorbar(art, cax=ax2, orientation=\"horizontal\")\n",
    "cb.set_label('I  (ADU)')\n",
    "cb.set_ticks(ticker.MultipleLocator(0.2))\n",
    "\n",
    "\n",
    "ax3 = plt.subplot(gs[2,1])\n",
    "handles, labels = ax0.get_legend_handles_labels()\n",
    "ax3.axis('off')\n",
    "ax3.legend(handles[::-1], labels[::-1], bbox_to_anchor=(1.1,0.8))\n",
    "\n",
    "fig.text(0.1, 0.9, '(a)')\n",
    "fig.text(0.65, 0.9, '(b)')\n",
    "\n",
    "fig.subplots_adjust(wspace=0.1, hspace=0.1, left=0.1, right=0.97)\n",
    "\n",
    "fig.savefig('ex_01_multipanel_colorplot.pdf', dpi=1200)"
   ]
  },
  {
   "cell_type": "code",
   "execution_count": null,
   "metadata": {},
   "outputs": [],
   "source": []
  }
 ],
 "metadata": {
  "kernelspec": {
   "display_name": "Python 3",
   "language": "python",
   "name": "python3"
  },
  "language_info": {
   "codemirror_mode": {
    "name": "ipython",
    "version": 3
   },
   "file_extension": ".py",
   "mimetype": "text/x-python",
   "name": "python",
   "nbconvert_exporter": "python",
   "pygments_lexer": "ipython3",
   "version": "3.10.5"
  },
  "widgets": {
   "application/vnd.jupyter.widget-state+json": {
    "state": {
     "16ab5fedd22d4771bfe5ef008fe68791": {
      "model_module": "jupyter-matplotlib",
      "model_module_version": "^0.11",
      "model_name": "ToolbarModel",
      "state": {
       "_current_action": "",
       "_dom_classes": [],
       "_model_module": "jupyter-matplotlib",
       "_model_module_version": "^0.11",
       "_model_name": "ToolbarModel",
       "_view_count": null,
       "_view_module": "jupyter-matplotlib",
       "_view_module_version": "^0.11",
       "_view_name": "ToolbarView",
       "button_style": "",
       "collapsed": true,
       "layout": "IPY_MODEL_ac3b263f6f744de0bb24996a8b04ff41",
       "orientation": "vertical",
       "toolitems": [
        [
         "Home",
         "Reset original view",
         "home",
         "home"
        ],
        [
         "Back",
         "Back to previous view",
         "arrow-left",
         "back"
        ],
        [
         "Forward",
         "Forward to next view",
         "arrow-right",
         "forward"
        ],
        [
         "Pan",
         "Left button pans, Right button zooms\nx/y fixes axis, CTRL fixes aspect",
         "arrows",
         "pan"
        ],
        [
         "Zoom",
         "Zoom to rectangle\nx/y fixes axis",
         "square-o",
         "zoom"
        ],
        [
         "Download",
         "Download plot",
         "floppy-o",
         "save_figure"
        ]
       ]
      }
     },
     "ac3b263f6f744de0bb24996a8b04ff41": {
      "model_module": "@jupyter-widgets/base",
      "model_module_version": "1.2.0",
      "model_name": "LayoutModel",
      "state": {
       "_model_module": "@jupyter-widgets/base",
       "_model_module_version": "1.2.0",
       "_model_name": "LayoutModel",
       "_view_count": null,
       "_view_module": "@jupyter-widgets/base",
       "_view_module_version": "1.2.0",
       "_view_name": "LayoutView",
       "align_content": null,
       "align_items": null,
       "align_self": null,
       "border": null,
       "bottom": null,
       "display": null,
       "flex": null,
       "flex_flow": null,
       "grid_area": null,
       "grid_auto_columns": null,
       "grid_auto_flow": null,
       "grid_auto_rows": null,
       "grid_column": null,
       "grid_gap": null,
       "grid_row": null,
       "grid_template_areas": null,
       "grid_template_columns": null,
       "grid_template_rows": null,
       "height": null,
       "justify_content": null,
       "justify_items": null,
       "left": null,
       "margin": null,
       "max_height": null,
       "max_width": null,
       "min_height": null,
       "min_width": null,
       "object_fit": null,
       "object_position": null,
       "order": null,
       "overflow": null,
       "overflow_x": null,
       "overflow_y": null,
       "padding": null,
       "right": null,
       "top": null,
       "visibility": null,
       "width": null
      }
     },
     "b06650707a684923802dcb1da80991c6": {
      "model_module": "@jupyter-widgets/base",
      "model_module_version": "1.2.0",
      "model_name": "LayoutModel",
      "state": {
       "_model_module": "@jupyter-widgets/base",
       "_model_module_version": "1.2.0",
       "_model_name": "LayoutModel",
       "_view_count": null,
       "_view_module": "@jupyter-widgets/base",
       "_view_module_version": "1.2.0",
       "_view_name": "LayoutView",
       "align_content": null,
       "align_items": null,
       "align_self": null,
       "border": null,
       "bottom": null,
       "display": null,
       "flex": null,
       "flex_flow": null,
       "grid_area": null,
       "grid_auto_columns": null,
       "grid_auto_flow": null,
       "grid_auto_rows": null,
       "grid_column": null,
       "grid_gap": null,
       "grid_row": null,
       "grid_template_areas": null,
       "grid_template_columns": null,
       "grid_template_rows": null,
       "height": null,
       "justify_content": null,
       "justify_items": null,
       "left": null,
       "margin": null,
       "max_height": null,
       "max_width": null,
       "min_height": null,
       "min_width": null,
       "object_fit": null,
       "object_position": null,
       "order": null,
       "overflow": null,
       "overflow_x": null,
       "overflow_y": null,
       "padding": null,
       "right": null,
       "top": null,
       "visibility": null,
       "width": null
      }
     },
     "b7f37f0261854d49a39342921c3fadd8": {
      "model_module": "@jupyter-widgets/base",
      "model_module_version": "1.2.0",
      "model_name": "LayoutModel",
      "state": {
       "_model_module": "@jupyter-widgets/base",
       "_model_module_version": "1.2.0",
       "_model_name": "LayoutModel",
       "_view_count": null,
       "_view_module": "@jupyter-widgets/base",
       "_view_module_version": "1.2.0",
       "_view_name": "LayoutView",
       "align_content": null,
       "align_items": null,
       "align_self": null,
       "border": null,
       "bottom": null,
       "display": null,
       "flex": null,
       "flex_flow": null,
       "grid_area": null,
       "grid_auto_columns": null,
       "grid_auto_flow": null,
       "grid_auto_rows": null,
       "grid_column": null,
       "grid_gap": null,
       "grid_row": null,
       "grid_template_areas": null,
       "grid_template_columns": null,
       "grid_template_rows": null,
       "height": null,
       "justify_content": null,
       "justify_items": null,
       "left": null,
       "margin": null,
       "max_height": null,
       "max_width": null,
       "min_height": null,
       "min_width": null,
       "object_fit": null,
       "object_position": null,
       "order": null,
       "overflow": null,
       "overflow_x": null,
       "overflow_y": null,
       "padding": null,
       "right": null,
       "top": null,
       "visibility": null,
       "width": null
      }
     },
     "befea2e24db84135a0102f58c40ed696": {
      "model_module": "jupyter-matplotlib",
      "model_module_version": "^0.11",
      "model_name": "MPLCanvasModel",
      "state": {
       "_cursor": "pointer",
       "_data_url": "data:image/png;base64,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",
       "_dom_classes": [],
       "_figure_label": "Figure",
       "_image_mode": "full",
       "_message": "",
       "_model_module": "jupyter-matplotlib",
       "_model_module_version": "^0.11",
       "_model_name": "MPLCanvasModel",
       "_rubberband_height": 0,
       "_rubberband_width": 0,
       "_rubberband_x": 0,
       "_rubberband_y": 0,
       "_size": [
        337.5,
        400.0
       ],
       "_view_count": null,
       "_view_module": "jupyter-matplotlib",
       "_view_module_version": "^0.11",
       "_view_name": "MPLCanvasView",
       "capture_scroll": false,
       "footer_visible": true,
       "header_visible": true,
       "layout": "IPY_MODEL_b7f37f0261854d49a39342921c3fadd8",
       "pan_zoom_throttle": 33.0,
       "resizable": true,
       "toolbar": "IPY_MODEL_f5877502c65846c9874da8be3a21fd7a",
       "toolbar_position": "left",
       "toolbar_visible": "fade-in-fade-out"
      }
     },
     "f5877502c65846c9874da8be3a21fd7a": {
      "model_module": "jupyter-matplotlib",
      "model_module_version": "^0.11",
      "model_name": "ToolbarModel",
      "state": {
       "_current_action": "",
       "_dom_classes": [],
       "_model_module": "jupyter-matplotlib",
       "_model_module_version": "^0.11",
       "_model_name": "ToolbarModel",
       "_view_count": null,
       "_view_module": "jupyter-matplotlib",
       "_view_module_version": "^0.11",
       "_view_name": "ToolbarView",
       "button_style": "",
       "collapsed": true,
       "layout": "IPY_MODEL_b06650707a684923802dcb1da80991c6",
       "orientation": "vertical",
       "toolitems": [
        [
         "Home",
         "Reset original view",
         "home",
         "home"
        ],
        [
         "Back",
         "Back to previous view",
         "arrow-left",
         "back"
        ],
        [
         "Forward",
         "Forward to next view",
         "arrow-right",
         "forward"
        ],
        [
         "Pan",
         "Left button pans, Right button zooms\nx/y fixes axis, CTRL fixes aspect",
         "arrows",
         "pan"
        ],
        [
         "Zoom",
         "Zoom to rectangle\nx/y fixes axis",
         "square-o",
         "zoom"
        ],
        [
         "Download",
         "Download plot",
         "floppy-o",
         "save_figure"
        ]
       ]
      }
     }
    },
    "version_major": 2,
    "version_minor": 0
   }
  }
 },
 "nbformat": 4,
 "nbformat_minor": 4
}
