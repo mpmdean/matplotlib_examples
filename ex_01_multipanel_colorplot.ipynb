{
 "cells": [
  {
   "cell_type": "code",
   "execution_count": 1,
   "metadata": {
    "collapsed": false,
    "deletable": true,
    "editable": true,
    "execution": {
     "iopub.execute_input": "2022-06-02T20:22:40.866413Z",
     "iopub.status.busy": "2022-06-02T20:22:40.866154Z",
     "iopub.status.idle": "2022-06-02T20:22:41.748153Z",
     "shell.execute_reply": "2022-06-02T20:22:41.747730Z"
    },
    "jupyter": {
     "outputs_hidden": false
    }
   },
   "outputs": [],
   "source": [
    "import numpy as np\n",
    "import matplotlib as mpl\n",
    "import matplotlib.pyplot as plt\n",
    "from matplotlib.gridspec import GridSpec\n",
    "import matplotlib.ticker as ticker\n",
    "from cycler import cycle\n",
    "\n",
    "%matplotlib widget"
   ]
  },
  {
   "cell_type": "markdown",
   "metadata": {
    "deletable": true,
    "editable": true
   },
   "source": [
    "This example uses matplotlib 2.0"
   ]
  },
  {
   "cell_type": "code",
   "execution_count": 2,
   "metadata": {
    "collapsed": false,
    "deletable": true,
    "editable": true,
    "execution": {
     "iopub.execute_input": "2022-06-02T20:22:41.751182Z",
     "iopub.status.busy": "2022-06-02T20:22:41.750914Z",
     "iopub.status.idle": "2022-06-02T20:22:41.757374Z",
     "shell.execute_reply": "2022-06-02T20:22:41.756958Z"
    },
    "jupyter": {
     "outputs_hidden": false
    }
   },
   "outputs": [
    {
     "name": "stdout",
     "output_type": "stream",
     "text": [
      "Python version is 3.9.10 | packaged by conda-forge | (main, Feb  1 2022, 21:24:11) \n",
      "[GCC 9.4.0] \n",
      "\n",
      "Matplotlib version is 3.5.1 \n",
      "\n",
      "Matplotlibrc file is matplotlibrc\n",
      "\n"
     ]
    }
   ],
   "source": [
    "%matplotlib widget\n",
    "import sys\n",
    "print(\"Python version is {} \\n\".format(sys.version))\n",
    "print(\"Matplotlib version is {} \\n\".format(mpl.__version__))\n",
    "print(\"Matplotlibrc file is {}\\n\".format(mpl.matplotlib_fname()))"
   ]
  },
  {
   "cell_type": "markdown",
   "metadata": {
    "deletable": true,
    "editable": true
   },
   "source": [
    "and the matplotlibrc file from \n",
    "https://github.com/mpmdean/matplotlibrc\n",
    "please suggest improvements"
   ]
  },
  {
   "cell_type": "markdown",
   "metadata": {
    "deletable": true,
    "editable": true
   },
   "source": [
    "## A few notes"
   ]
  },
  {
   "cell_type": "markdown",
   "metadata": {
    "deletable": true,
    "editable": true
   },
   "source": [
    "* All fields are using latex by default -- this avoid non-uniformity when using latex in some labels. \n",
    "\n",
    "* Using a uniform style is very important for an attractive manuscript. Try to avoid ad-hoc changes to the settings. \n",
    "\n",
    "* If you feel that there is a desirable change, consider applying it to the whole manuscript, preferably by setting some edits to the rc file right at the start of the script/notebook. e.g. mpl.rc('font', size=10). "
   ]
  },
  {
   "cell_type": "markdown",
   "metadata": {
    "deletable": true,
    "editable": true
   },
   "source": [
    "## Make fake data"
   ]
  },
  {
   "cell_type": "code",
   "execution_count": 3,
   "metadata": {
    "collapsed": false,
    "deletable": true,
    "editable": true,
    "execution": {
     "iopub.execute_input": "2022-06-02T20:22:41.783181Z",
     "iopub.status.busy": "2022-06-02T20:22:41.782909Z",
     "iopub.status.idle": "2022-06-02T20:22:41.790132Z",
     "shell.execute_reply": "2022-06-02T20:22:41.789422Z"
    },
    "jupyter": {
     "outputs_hidden": false
    }
   },
   "outputs": [],
   "source": [
    "Ts = np.linspace(20, 100, 5)\n",
    "x = np.linspace(0, 10, 10)\n",
    "ys = [np.exp(-(x-2)/3) + (np.random.rand(x.size)-0.5)*0.3 for T in Ts]\n",
    "fits = [np.exp(-(x-2)/3) for T in Ts]\n",
    "\n",
    "X, Y = np.meshgrid(x,x)\n",
    "M = np.exp(-np.sqrt((X-2)**2 + (Y-3)**2))\n",
    "M += np.random.rand(*M.shape)*0.1"
   ]
  },
  {
   "cell_type": "markdown",
   "metadata": {
    "deletable": true,
    "editable": true
   },
   "source": [
    "## Create a set of colors and a cyler of markers\n",
    "It's preferable to use color in a meaningful and consistent way throughout a manuscript. For example all data at 20 K is black etc. "
   ]
  },
  {
   "cell_type": "code",
   "execution_count": 4,
   "metadata": {
    "collapsed": false,
    "deletable": true,
    "editable": true,
    "execution": {
     "iopub.execute_input": "2022-06-02T20:22:41.794031Z",
     "iopub.status.busy": "2022-06-02T20:22:41.793210Z",
     "iopub.status.idle": "2022-06-02T20:22:41.798337Z",
     "shell.execute_reply": "2022-06-02T20:22:41.797416Z"
    },
    "jupyter": {
     "outputs_hidden": false
    }
   },
   "outputs": [],
   "source": [
    "colors = mpl.cm.inferno(np.linspace(0, 0.8, len(ys))) # avoid yellow due to visibility\n",
    "markers = cycle(['o', 's', '^', 'v', 'p', '<', '>', 'h'])"
   ]
  },
  {
   "cell_type": "markdown",
   "metadata": {
    "deletable": true,
    "editable": true
   },
   "source": [
    "## Create figure"
   ]
  },
  {
   "cell_type": "markdown",
   "metadata": {
    "deletable": true,
    "editable": true
   },
   "source": [
    "* The width of a figure should always be set to the real physical column width. e.g. 3+3/8 inches for a PRL column. This will mean that fonts appear on the page in the correct size.\n",
    "\n",
    "* Gridspec and subplots_adjust are useful to set the precise location of panels.\n",
    "\n",
    "* Including 2-4 minor ticks per major tick is usually good.\n",
    "\n",
    "* Putting the colorbar on separate axes facilities better control over its location. \n",
    "\n",
    "* Saving in pdf creates vector graphics and fast performance within pdflatex.\n",
    "\n",
    "* It sometimes makes sense to flip the order of legend entries to match the order if which they appear on the plot."
   ]
  },
  {
   "cell_type": "code",
   "execution_count": 5,
   "metadata": {
    "collapsed": false,
    "deletable": true,
    "editable": true,
    "execution": {
     "iopub.execute_input": "2022-06-02T20:22:41.801282Z",
     "iopub.status.busy": "2022-06-02T20:22:41.801072Z",
     "iopub.status.idle": "2022-06-02T20:22:42.953349Z",
     "shell.execute_reply": "2022-06-02T20:22:42.952339Z"
    },
    "jupyter": {
     "outputs_hidden": false
    }
   },
   "outputs": [
    {
     "data": {
      "application/vnd.jupyter.widget-view+json": {
       "model_id": "3fe19ffcf6744cc288119989ba9f5869",
       "version_major": 2,
       "version_minor": 0
      },
      "image/png": "[encoded data removed]",
      "text/html": [
       "\n",
       "            <div style=\"display: inline-block;\">\n",
       "                <div class=\"jupyter-widgets widget-label\" style=\"text-align: center;\">\n",
       "                    Figure\n",
       "                </div>\n",
       "                <img src='data:image/png;base64,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' width=337.5/>\n",
       "            </div>\n",
       "        "
      ],
      "text/plain": [
       "Canvas(toolbar=Toolbar(toolitems=[('Home', 'Reset original view', 'home', 'home'), ('Back', 'Back to previous …"
      ]
     },
     "metadata": {},
     "output_type": "display_data"
    }
   ],
   "source": [
    "fig = plt.figure(figsize=(3+3/8, 4))\n",
    "\n",
    "gs = GridSpec(3,2, width_ratios=[1.2,0.8], height_ratios=[1,0.1,1])\n",
    "\n",
    "ax0 = plt.subplot(gs[:,0])\n",
    "\n",
    "offsets = np.arange(len(Ts)) * 1\n",
    "for y, fit, T, offset, color, marker in zip(ys, fits, Ts, offsets, colors, markers):\n",
    "    ax0.plot(x, fit + offset, '-', color=color, alpha=0.5)\n",
    "    ax0.plot(x, y + offset, color=color, marker=marker, linestyle='None', label=\"T = {:.0f} K\".format(T))\n",
    "    \n",
    "ax0.set_xlabel(r'$\\tau$ (s)')\n",
    "ax0.set_ylabel(r'$g_2(\\tau)$')\n",
    "\n",
    "ax0.xaxis.set_major_locator(ticker.MultipleLocator(2))\n",
    "ax0.xaxis.set_minor_locator(ticker.AutoMinorLocator(2))\n",
    "ax0.yaxis.set_minor_locator(ticker.AutoMinorLocator(2))\n",
    "\n",
    "\n",
    "ax1 = plt.subplot(gs[0,1])\n",
    "art = ax1.pcolormesh(X, Y, M, vmin=0, vmax=0.5, shading='auto')\n",
    "ax1.set_axis_off()\n",
    "ax1.xaxis.set_minor_locator(ticker.AutoMinorLocator(2))\n",
    "\n",
    "ax2 = plt.subplot(gs[1,1])\n",
    "cb = plt.colorbar(art, cax=ax2, orientation=\"horizontal\")\n",
    "cb.set_label('I  (ADU)')\n",
    "cb.set_ticks(ticker.MultipleLocator(0.2))\n",
    "\n",
    "\n",
    "ax3 = plt.subplot(gs[2,1])\n",
    "handles, labels = ax0.get_legend_handles_labels()\n",
    "ax3.axis('off')\n",
    "ax3.legend(handles[::-1], labels[::-1], bbox_to_anchor=(1.1,0.8))\n",
    "\n",
    "fig.text(0.1, 0.9, '(a)')\n",
    "fig.text(0.65, 0.9, '(b)')\n",
    "\n",
    "fig.subplots_adjust(wspace=0.1, hspace=0.1, left=0.1, right=0.97)\n",
    "\n",
    "fig.savefig('ex_01_multipanel_colorplot.pdf', dpi=1200)"
   ]
  },
  {
   "cell_type": "code",
   "execution_count": null,
   "metadata": {},
   "outputs": [],
   "source": []
  }
 ],
 "metadata": {
  "kernelspec": {
   "display_name": "Python 3",
   "language": "python",
   "name": "python3"
  },
  "language_info": {
   "codemirror_mode": {
    "name": "ipython",
    "version": 3
   },
   "file_extension": ".py",
   "mimetype": "text/x-python",
   "name": "python",
   "nbconvert_exporter": "python",
   "pygments_lexer": "ipython3",
   "version": "3.9.10"
  },
  "widgets": {
   "application/vnd.jupyter.widget-state+json": {
    "state": {
     "3fe19ffcf6744cc288119989ba9f5869": {
      "model_module": "jupyter-matplotlib",
      "model_module_version": "^0.10.5",
      "model_name": "MPLCanvasModel",
      "state": {
       "_cursor": "pointer",
       "_data_url": "data:image/png;base64,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",
       "_dom_classes": [],
       "_figure_label": "Figure",
       "_image_mode": "full",
       "_message": "",
       "_model_module": "jupyter-matplotlib",
       "_model_module_version": "^0.10.5",
       "_model_name": "MPLCanvasModel",
       "_rubberband_height": 0,
       "_rubberband_width": 0,
       "_rubberband_x": 0,
       "_rubberband_y": 0,
       "_size": [
        337.5,
        400.0
       ],
       "_view_count": null,
       "_view_module": "jupyter-matplotlib",
       "_view_module_version": "^0.10.5",
       "_view_name": "MPLCanvasView",
       "capture_scroll": false,
       "footer_visible": true,
       "header_visible": true,
       "layout": "IPY_MODEL_98535eec68cf4b9a803d16ce4d384bc1",
       "pan_zoom_throttle": 33.0,
       "resizable": true,
       "toolbar": "IPY_MODEL_6658d1753bae4c51a92228feab333fc5",
       "toolbar_position": "left",
       "toolbar_visible": "fade-in-fade-out"
      }
     },
     "6658d1753bae4c51a92228feab333fc5": {
      "model_module": "jupyter-matplotlib",
      "model_module_version": "^0.10.5",
      "model_name": "ToolbarModel",
      "state": {
       "_current_action": "",
       "_dom_classes": [],
       "_model_module": "jupyter-matplotlib",
       "_model_module_version": "^0.10.5",
       "_model_name": "ToolbarModel",
       "_view_count": null,
       "_view_module": "jupyter-matplotlib",
       "_view_module_version": "^0.10.5",
       "_view_name": "ToolbarView",
       "button_style": "",
       "collapsed": true,
       "layout": "IPY_MODEL_faeda69ef2dd4b0c842687a685d85e5d",
       "orientation": "vertical",
       "toolitems": [
        [
         "Home",
         "Reset original view",
         "home",
         "home"
        ],
        [
         "Back",
         "Back to previous view",
         "arrow-left",
         "back"
        ],
        [
         "Forward",
         "Forward to next view",
         "arrow-right",
         "forward"
        ],
        [
         "Pan",
         "Left button pans, Right button zooms\nx/y fixes axis, CTRL fixes aspect",
         "arrows",
         "pan"
        ],
        [
         "Zoom",
         "Zoom to rectangle\nx/y fixes axis",
         "square-o",
         "zoom"
        ],
        [
         "Download",
         "Download plot",
         "floppy-o",
         "save_figure"
        ]
       ]
      }
     },
     "98535eec68cf4b9a803d16ce4d384bc1": {
      "model_module": "@jupyter-widgets/base",
      "model_module_version": "1.2.0",
      "model_name": "LayoutModel",
      "state": {
       "_model_module": "@jupyter-widgets/base",
       "_model_module_version": "1.2.0",
       "_model_name": "LayoutModel",
       "_view_count": null,
       "_view_module": "@jupyter-widgets/base",
       "_view_module_version": "1.2.0",
       "_view_name": "LayoutView",
       "align_content": null,
       "align_items": null,
       "align_self": null,
       "border": null,
       "bottom": null,
       "display": null,
       "flex": null,
       "flex_flow": null,
       "grid_area": null,
       "grid_auto_columns": null,
       "grid_auto_flow": null,
       "grid_auto_rows": null,
       "grid_column": null,
       "grid_gap": null,
       "grid_row": null,
       "grid_template_areas": null,
       "grid_template_columns": null,
       "grid_template_rows": null,
       "height": null,
       "justify_content": null,
       "justify_items": null,
       "left": null,
       "margin": null,
       "max_height": null,
       "max_width": null,
       "min_height": null,
       "min_width": null,
       "object_fit": null,
       "object_position": null,
       "order": null,
       "overflow": null,
       "overflow_x": null,
       "overflow_y": null,
       "padding": null,
       "right": null,
       "top": null,
       "visibility": null,
       "width": null
      }
     },
     "c5f88bfb50024d9baa2d60887b95efb4": {
      "model_module": "jupyter-matplotlib",
      "model_module_version": "^0.10.5",
      "model_name": "ToolbarModel",
      "state": {
       "_current_action": "",
       "_dom_classes": [],
       "_model_module": "jupyter-matplotlib",
       "_model_module_version": "^0.10.5",
       "_model_name": "ToolbarModel",
       "_view_count": null,
       "_view_module": "jupyter-matplotlib",
       "_view_module_version": "^0.10.5",
       "_view_name": "ToolbarView",
       "button_style": "",
       "collapsed": true,
       "layout": "IPY_MODEL_fc806739446e46158a39aff94d460c98",
       "orientation": "vertical",
       "toolitems": [
        [
         "Home",
         "Reset original view",
         "home",
         "home"
        ],
        [
         "Back",
         "Back to previous view",
         "arrow-left",
         "back"
        ],
        [
         "Forward",
         "Forward to next view",
         "arrow-right",
         "forward"
        ],
        [
         "Pan",
         "Left button pans, Right button zooms\nx/y fixes axis, CTRL fixes aspect",
         "arrows",
         "pan"
        ],
        [
         "Zoom",
         "Zoom to rectangle\nx/y fixes axis",
         "square-o",
         "zoom"
        ],
        [
         "Download",
         "Download plot",
         "floppy-o",
         "save_figure"
        ]
       ]
      }
     },
     "faeda69ef2dd4b0c842687a685d85e5d": {
      "model_module": "@jupyter-widgets/base",
      "model_module_version": "1.2.0",
      "model_name": "LayoutModel",
      "state": {
       "_model_module": "@jupyter-widgets/base",
       "_model_module_version": "1.2.0",
       "_model_name": "LayoutModel",
       "_view_count": null,
       "_view_module": "@jupyter-widgets/base",
       "_view_module_version": "1.2.0",
       "_view_name": "LayoutView",
       "align_content": null,
       "align_items": null,
       "align_self": null,
       "border": null,
       "bottom": null,
       "display": null,
       "flex": null,
       "flex_flow": null,
       "grid_area": null,
       "grid_auto_columns": null,
       "grid_auto_flow": null,
       "grid_auto_rows": null,
       "grid_column": null,
       "grid_gap": null,
       "grid_row": null,
       "grid_template_areas": null,
       "grid_template_columns": null,
       "grid_template_rows": null,
       "height": null,
       "justify_content": null,
       "justify_items": null,
       "left": null,
       "margin": null,
       "max_height": null,
       "max_width": null,
       "min_height": null,
       "min_width": null,
       "object_fit": null,
       "object_position": null,
       "order": null,
       "overflow": null,
       "overflow_x": null,
       "overflow_y": null,
       "padding": null,
       "right": null,
       "top": null,
       "visibility": null,
       "width": null
      }
     },
     "fc806739446e46158a39aff94d460c98": {
      "model_module": "@jupyter-widgets/base",
      "model_module_version": "1.2.0",
      "model_name": "LayoutModel",
      "state": {
       "_model_module": "@jupyter-widgets/base",
       "_model_module_version": "1.2.0",
       "_model_name": "LayoutModel",
       "_view_count": null,
       "_view_module": "@jupyter-widgets/base",
       "_view_module_version": "1.2.0",
       "_view_name": "LayoutView",
       "align_content": null,
       "align_items": null,
       "align_self": null,
       "border": null,
       "bottom": null,
       "display": null,
       "flex": null,
       "flex_flow": null,
       "grid_area": null,
       "grid_auto_columns": null,
       "grid_auto_flow": null,
       "grid_auto_rows": null,
       "grid_column": null,
       "grid_gap": null,
       "grid_row": null,
       "grid_template_areas": null,
       "grid_template_columns": null,
       "grid_template_rows": null,
       "height": null,
       "justify_content": null,
       "justify_items": null,
       "left": null,
       "margin": null,
       "max_height": null,
       "max_width": null,
       "min_height": null,
       "min_width": null,
       "object_fit": null,
       "object_position": null,
       "order": null,
       "overflow": null,
       "overflow_x": null,
       "overflow_y": null,
       "padding": null,
       "right": null,
       "top": null,
       "visibility": null,
       "width": null
      }
     }
    },
    "version_major": 2,
    "version_minor": 0
   }
  }
 },
 "nbformat": 4,
 "nbformat_minor": 4
}
