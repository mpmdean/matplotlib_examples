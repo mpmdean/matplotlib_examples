{
 "cells": [
  {
   "cell_type": "code",
   "execution_count": 1,
   "metadata": {
    "collapsed": false,
    "deletable": true,
    "editable": true,
    "execution": {
     "iopub.execute_input": "2022-06-02T18:05:57.319170Z",
     "iopub.status.busy": "2022-06-02T18:05:57.318867Z",
     "iopub.status.idle": "2022-06-02T18:05:58.084093Z",
     "shell.execute_reply": "2022-06-02T18:05:58.083419Z"
    },
    "jupyter": {
     "outputs_hidden": false
    }
   },
   "outputs": [],
   "source": [
    "import numpy as np\n",
    "import matplotlib as mpl\n",
    "import matplotlib.pyplot as plt\n",
    "from matplotlib.gridspec import GridSpec\n",
    "import matplotlib.ticker as ticker\n",
    "from cycler import cycle\n",
    "\n",
    "%matplotlib widget"
   ]
  },
  {
   "cell_type": "markdown",
   "metadata": {
    "deletable": true,
    "editable": true
   },
   "source": [
    "This example uses matplotlib 2.0"
   ]
  },
  {
   "cell_type": "code",
   "execution_count": 2,
   "metadata": {
    "collapsed": false,
    "deletable": true,
    "editable": true,
    "execution": {
     "iopub.execute_input": "2022-06-02T18:05:58.087025Z",
     "iopub.status.busy": "2022-06-02T18:05:58.086863Z",
     "iopub.status.idle": "2022-06-02T18:05:58.092464Z",
     "shell.execute_reply": "2022-06-02T18:05:58.091795Z"
    },
    "jupyter": {
     "outputs_hidden": false
    }
   },
   "outputs": [
    {
     "name": "stdout",
     "output_type": "stream",
     "text": [
      "Python version is 3.9.10 | packaged by conda-forge | (main, Feb  1 2022, 21:24:11) \n",
      "[GCC 9.4.0] \n",
      "\n",
      "Matplotlib version is 3.5.1 \n",
      "\n",
      "Matplotlibrc file is matplotlibrc\n",
      "\n"
     ]
    }
   ],
   "source": [
    "%matplotlib widget\n",
    "import sys\n",
    "print(\"Python version is {} \\n\".format(sys.version))\n",
    "print(\"Matplotlib version is {} \\n\".format(mpl.__version__))\n",
    "print(\"Matplotlibrc file is {}\\n\".format(mpl.matplotlib_fname()))"
   ]
  },
  {
   "cell_type": "markdown",
   "metadata": {
    "deletable": true,
    "editable": true
   },
   "source": [
    "and the matplotlibrc file from \n",
    "https://github.com/mpmdean/matplotlibrc\n",
    "please suggest improvements"
   ]
  },
  {
   "cell_type": "markdown",
   "metadata": {
    "deletable": true,
    "editable": true
   },
   "source": [
    "## A few notes"
   ]
  },
  {
   "cell_type": "markdown",
   "metadata": {
    "deletable": true,
    "editable": true
   },
   "source": [
    "* All fields are using latex by default -- this avoid non-uniformity when using latex in some labels. \n",
    "\n",
    "* Using a uniform style is very important for an attractive manuscript. Try to avoid ad-hoc changes to the settings. \n",
    "\n",
    "* If you feel that there is a desirable change, consider applying it to the whole manuscript, preferably by setting some edits to the rc file right at the start of the script/notebook. e.g. mpl.rc('font', size=10). "
   ]
  },
  {
   "cell_type": "markdown",
   "metadata": {
    "deletable": true,
    "editable": true
   },
   "source": [
    "## Make fake data"
   ]
  },
  {
   "cell_type": "code",
   "execution_count": 3,
   "metadata": {
    "collapsed": false,
    "deletable": true,
    "editable": true,
    "execution": {
     "iopub.execute_input": "2022-06-02T18:05:58.115959Z",
     "iopub.status.busy": "2022-06-02T18:05:58.115782Z",
     "iopub.status.idle": "2022-06-02T18:05:58.122105Z",
     "shell.execute_reply": "2022-06-02T18:05:58.121458Z"
    },
    "jupyter": {
     "outputs_hidden": false
    }
   },
   "outputs": [],
   "source": [
    "Ts = np.linspace(20, 100, 5)\n",
    "x = np.linspace(0, 10, 10)\n",
    "ys = [np.exp(-(x-2)/3) + (np.random.rand(x.size)-0.5)*0.3 for T in Ts]\n",
    "fits = [np.exp(-(x-2)/3) for T in Ts]\n",
    "\n",
    "X, Y = np.meshgrid(x,x)\n",
    "M = np.exp(-np.sqrt((X-2)**2 + (Y-3)**2))\n",
    "M += np.random.rand(*M.shape)*0.1"
   ]
  },
  {
   "cell_type": "markdown",
   "metadata": {
    "deletable": true,
    "editable": true
   },
   "source": [
    "## Create a set of colors and a cyler of markers\n",
    "It's preferable to use color in a meaningful and consistent way throughout a manuscript. For example all data at 20 K is black etc. "
   ]
  },
  {
   "cell_type": "code",
   "execution_count": 4,
   "metadata": {
    "collapsed": false,
    "deletable": true,
    "editable": true,
    "execution": {
     "iopub.execute_input": "2022-06-02T18:05:58.124697Z",
     "iopub.status.busy": "2022-06-02T18:05:58.124514Z",
     "iopub.status.idle": "2022-06-02T18:05:58.129134Z",
     "shell.execute_reply": "2022-06-02T18:05:58.128527Z"
    },
    "jupyter": {
     "outputs_hidden": false
    }
   },
   "outputs": [],
   "source": [
    "colors = mpl.cm.inferno(np.linspace(0, 0.8, len(ys))) # avoid yellow due to visibility\n",
    "markers = cycle(['o', 's', '^', 'v', 'p', '<', '>', 'h'])"
   ]
  },
  {
   "cell_type": "markdown",
   "metadata": {
    "deletable": true,
    "editable": true
   },
   "source": [
    "## Create figure"
   ]
  },
  {
   "cell_type": "markdown",
   "metadata": {
    "deletable": true,
    "editable": true
   },
   "source": [
    "* The width of a figure should always be set to the real physical column width. e.g. 3+3/8 inches for a PRL column. This will mean that fonts appear on the page in the correct size.\n",
    "\n",
    "* Gridspec and subplots_adjust are useful to set the precise location of panels.\n",
    "\n",
    "* Including 2-4 minor ticks per major tick is usually good.\n",
    "\n",
    "* Putting the colorbar on separate axes facilities better control over its location. \n",
    "\n",
    "* Saving in pdf creates vector graphics and fast performance within pdflatex.\n",
    "\n",
    "* It sometimes makes sense to flip the order of legend entries to match the order if which they appear on the plot."
   ]
  },
  {
   "cell_type": "code",
   "execution_count": 5,
   "metadata": {
    "collapsed": false,
    "deletable": true,
    "editable": true,
    "execution": {
     "iopub.execute_input": "2022-06-02T18:05:58.131550Z",
     "iopub.status.busy": "2022-06-02T18:05:58.131389Z",
     "iopub.status.idle": "2022-06-02T18:05:59.276611Z",
     "shell.execute_reply": "2022-06-02T18:05:59.276134Z"
    },
    "jupyter": {
     "outputs_hidden": false
    }
   },
   "outputs": [
    {
     "data": {
      "application/vnd.jupyter.widget-view+json": {
       "model_id": "657cb0b8d0b848e5b27cd363f64ebce6",
       "version_major": 2,
       "version_minor": 0
      },
      "image/png": "[encoded data removed]",
      "text/html": [
       "\n",
       "            <div style=\"display: inline-block;\">\n",
       "                <div class=\"jupyter-widgets widget-label\" style=\"text-align: center;\">\n",
       "                    Figure\n",
       "                </div>\n",
       "                <img src='data:image/png;base64,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' width=337.5/>\n",
       "            </div>\n",
       "        "
      ],
      "text/plain": [
       "Canvas(toolbar=Toolbar(toolitems=[('Home', 'Reset original view', 'home', 'home'), ('Back', 'Back to previous …"
      ]
     },
     "metadata": {},
     "output_type": "display_data"
    }
   ],
   "source": [
    "fig = plt.figure(figsize=(3+3/8, 4))\n",
    "\n",
    "gs = GridSpec(3,2, width_ratios=[1.2,0.8], height_ratios=[1,0.1,1])\n",
    "\n",
    "ax0 = plt.subplot(gs[:,0])\n",
    "\n",
    "offsets = np.arange(len(Ts)) * 1\n",
    "for y, fit, T, offset, color, marker in zip(ys, fits, Ts, offsets, colors, markers):\n",
    "    ax0.plot(x, fit + offset, '-', color=color, alpha=0.5)\n",
    "    ax0.plot(x, y + offset, color=color, marker=marker, linestyle='None', label=\"T = {:.0f} K\".format(T))\n",
    "    \n",
    "ax0.set_xlabel(r'$\\tau$ (s)')\n",
    "ax0.set_ylabel(r'$g_2(\\tau)$')\n",
    "\n",
    "ax0.xaxis.set_major_locator(ticker.MultipleLocator(2))\n",
    "ax0.xaxis.set_minor_locator(ticker.AutoMinorLocator(2))\n",
    "ax0.yaxis.set_minor_locator(ticker.AutoMinorLocator(2))\n",
    "\n",
    "\n",
    "ax1 = plt.subplot(gs[0,1])\n",
    "art = ax1.pcolormesh(X, Y, M, vmin=0, vmax=0.5, shading='auto')\n",
    "ax1.set_axis_off()\n",
    "ax1.xaxis.set_minor_locator(ticker.AutoMinorLocator(2))\n",
    "\n",
    "ax2 = plt.subplot(gs[1,1])\n",
    "cb = plt.colorbar(art, cax=ax2, orientation=\"horizontal\")\n",
    "cb.set_label('I  (ADU)')\n",
    "cb.set_ticks(ticker.MultipleLocator(0.2))\n",
    "\n",
    "\n",
    "ax3 = plt.subplot(gs[2,1])\n",
    "handles, labels = ax0.get_legend_handles_labels()\n",
    "ax3.axis('off')\n",
    "ax3.legend(handles[::-1], labels[::-1], bbox_to_anchor=(1.1,0.8))\n",
    "\n",
    "fig.text(0.1, 0.9, '(a)')\n",
    "fig.text(0.65, 0.9, '(b)')\n",
    "\n",
    "fig.subplots_adjust(wspace=0.1, hspace=0.1, left=0.1, right=0.97)\n",
    "\n",
    "fig.savefig('ex_01_multipanel_colorplot.pdf', dpi=1200)"
   ]
  },
  {
   "cell_type": "code",
   "execution_count": null,
   "metadata": {},
   "outputs": [],
   "source": []
  }
 ],
 "metadata": {
  "kernelspec": {
   "display_name": "Python 3",
   "language": "python",
   "name": "python3"
  },
  "language_info": {
   "codemirror_mode": {
    "name": "ipython",
    "version": 3
   },
   "file_extension": ".py",
   "mimetype": "text/x-python",
   "name": "python",
   "nbconvert_exporter": "python",
   "pygments_lexer": "ipython3",
   "version": "3.9.10"
  },
  "widgets": {
   "application/vnd.jupyter.widget-state+json": {
    "state": {
     "04cac3b1ed224db48d55272dd5d59222": {
      "model_module": "jupyter-matplotlib",
      "model_module_version": "^0.10.5",
      "model_name": "ToolbarModel",
      "state": {
       "_current_action": "",
       "_dom_classes": [],
       "_model_module": "jupyter-matplotlib",
       "_model_module_version": "^0.10.5",
       "_model_name": "ToolbarModel",
       "_view_count": null,
       "_view_module": "jupyter-matplotlib",
       "_view_module_version": "^0.10.5",
       "_view_name": "ToolbarView",
       "button_style": "",
       "collapsed": true,
       "layout": "IPY_MODEL_e6fdecea631146ec85f96ff436c7e453",
       "orientation": "vertical",
       "toolitems": [
        [
         "Home",
         "Reset original view",
         "home",
         "home"
        ],
        [
         "Back",
         "Back to previous view",
         "arrow-left",
         "back"
        ],
        [
         "Forward",
         "Forward to next view",
         "arrow-right",
         "forward"
        ],
        [
         "Pan",
         "Left button pans, Right button zooms\nx/y fixes axis, CTRL fixes aspect",
         "arrows",
         "pan"
        ],
        [
         "Zoom",
         "Zoom to rectangle\nx/y fixes axis",
         "square-o",
         "zoom"
        ],
        [
         "Download",
         "Download plot",
         "floppy-o",
         "save_figure"
        ]
       ]
      }
     },
     "657cb0b8d0b848e5b27cd363f64ebce6": {
      "model_module": "jupyter-matplotlib",
      "model_module_version": "^0.10.5",
      "model_name": "MPLCanvasModel",
      "state": {
       "_cursor": "pointer",
       "_data_url": "data:image/png;base64,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",
       "_dom_classes": [],
       "_figure_label": "Figure",
       "_image_mode": "full",
       "_message": "",
       "_model_module": "jupyter-matplotlib",
       "_model_module_version": "^0.10.5",
       "_model_name": "MPLCanvasModel",
       "_rubberband_height": 0,
       "_rubberband_width": 0,
       "_rubberband_x": 0,
       "_rubberband_y": 0,
       "_size": [
        337.5,
        400.0
       ],
       "_view_count": null,
       "_view_module": "jupyter-matplotlib",
       "_view_module_version": "^0.10.5",
       "_view_name": "MPLCanvasView",
       "capture_scroll": false,
       "footer_visible": true,
       "header_visible": true,
       "layout": "IPY_MODEL_7d5e051da906449db555a3d2981ac3a0",
       "pan_zoom_throttle": 33.0,
       "resizable": true,
       "toolbar": "IPY_MODEL_73d67bf65f0f4645893c1b8cec80b637",
       "toolbar_position": "left",
       "toolbar_visible": "fade-in-fade-out"
      }
     },
     "73d67bf65f0f4645893c1b8cec80b637": {
      "model_module": "jupyter-matplotlib",
      "model_module_version": "^0.10.5",
      "model_name": "ToolbarModel",
      "state": {
       "_current_action": "",
       "_dom_classes": [],
       "_model_module": "jupyter-matplotlib",
       "_model_module_version": "^0.10.5",
       "_model_name": "ToolbarModel",
       "_view_count": null,
       "_view_module": "jupyter-matplotlib",
       "_view_module_version": "^0.10.5",
       "_view_name": "ToolbarView",
       "button_style": "",
       "collapsed": true,
       "layout": "IPY_MODEL_a24dd18aef024ebf9ec96695cdd8e1ff",
       "orientation": "vertical",
       "toolitems": [
        [
         "Home",
         "Reset original view",
         "home",
         "home"
        ],
        [
         "Back",
         "Back to previous view",
         "arrow-left",
         "back"
        ],
        [
         "Forward",
         "Forward to next view",
         "arrow-right",
         "forward"
        ],
        [
         "Pan",
         "Left button pans, Right button zooms\nx/y fixes axis, CTRL fixes aspect",
         "arrows",
         "pan"
        ],
        [
         "Zoom",
         "Zoom to rectangle\nx/y fixes axis",
         "square-o",
         "zoom"
        ],
        [
         "Download",
         "Download plot",
         "floppy-o",
         "save_figure"
        ]
       ]
      }
     },
     "7d5e051da906449db555a3d2981ac3a0": {
      "model_module": "@jupyter-widgets/base",
      "model_module_version": "1.2.0",
      "model_name": "LayoutModel",
      "state": {
       "_model_module": "@jupyter-widgets/base",
       "_model_module_version": "1.2.0",
       "_model_name": "LayoutModel",
       "_view_count": null,
       "_view_module": "@jupyter-widgets/base",
       "_view_module_version": "1.2.0",
       "_view_name": "LayoutView",
       "align_content": null,
       "align_items": null,
       "align_self": null,
       "border": null,
       "bottom": null,
       "display": null,
       "flex": null,
       "flex_flow": null,
       "grid_area": null,
       "grid_auto_columns": null,
       "grid_auto_flow": null,
       "grid_auto_rows": null,
       "grid_column": null,
       "grid_gap": null,
       "grid_row": null,
       "grid_template_areas": null,
       "grid_template_columns": null,
       "grid_template_rows": null,
       "height": null,
       "justify_content": null,
       "justify_items": null,
       "left": null,
       "margin": null,
       "max_height": null,
       "max_width": null,
       "min_height": null,
       "min_width": null,
       "object_fit": null,
       "object_position": null,
       "order": null,
       "overflow": null,
       "overflow_x": null,
       "overflow_y": null,
       "padding": null,
       "right": null,
       "top": null,
       "visibility": null,
       "width": null
      }
     },
     "a24dd18aef024ebf9ec96695cdd8e1ff": {
      "model_module": "@jupyter-widgets/base",
      "model_module_version": "1.2.0",
      "model_name": "LayoutModel",
      "state": {
       "_model_module": "@jupyter-widgets/base",
       "_model_module_version": "1.2.0",
       "_model_name": "LayoutModel",
       "_view_count": null,
       "_view_module": "@jupyter-widgets/base",
       "_view_module_version": "1.2.0",
       "_view_name": "LayoutView",
       "align_content": null,
       "align_items": null,
       "align_self": null,
       "border": null,
       "bottom": null,
       "display": null,
       "flex": null,
       "flex_flow": null,
       "grid_area": null,
       "grid_auto_columns": null,
       "grid_auto_flow": null,
       "grid_auto_rows": null,
       "grid_column": null,
       "grid_gap": null,
       "grid_row": null,
       "grid_template_areas": null,
       "grid_template_columns": null,
       "grid_template_rows": null,
       "height": null,
       "justify_content": null,
       "justify_items": null,
       "left": null,
       "margin": null,
       "max_height": null,
       "max_width": null,
       "min_height": null,
       "min_width": null,
       "object_fit": null,
       "object_position": null,
       "order": null,
       "overflow": null,
       "overflow_x": null,
       "overflow_y": null,
       "padding": null,
       "right": null,
       "top": null,
       "visibility": null,
       "width": null
      }
     },
     "e6fdecea631146ec85f96ff436c7e453": {
      "model_module": "@jupyter-widgets/base",
      "model_module_version": "1.2.0",
      "model_name": "LayoutModel",
      "state": {
       "_model_module": "@jupyter-widgets/base",
       "_model_module_version": "1.2.0",
       "_model_name": "LayoutModel",
       "_view_count": null,
       "_view_module": "@jupyter-widgets/base",
       "_view_module_version": "1.2.0",
       "_view_name": "LayoutView",
       "align_content": null,
       "align_items": null,
       "align_self": null,
       "border": null,
       "bottom": null,
       "display": null,
       "flex": null,
       "flex_flow": null,
       "grid_area": null,
       "grid_auto_columns": null,
       "grid_auto_flow": null,
       "grid_auto_rows": null,
       "grid_column": null,
       "grid_gap": null,
       "grid_row": null,
       "grid_template_areas": null,
       "grid_template_columns": null,
       "grid_template_rows": null,
       "height": null,
       "justify_content": null,
       "justify_items": null,
       "left": null,
       "margin": null,
       "max_height": null,
       "max_width": null,
       "min_height": null,
       "min_width": null,
       "object_fit": null,
       "object_position": null,
       "order": null,
       "overflow": null,
       "overflow_x": null,
       "overflow_y": null,
       "padding": null,
       "right": null,
       "top": null,
       "visibility": null,
       "width": null
      }
     }
    },
    "version_major": 2,
    "version_minor": 0
   }
  }
 },
 "nbformat": 4,
 "nbformat_minor": 4
}
