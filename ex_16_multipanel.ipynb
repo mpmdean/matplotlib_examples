{
 "cells": [
  {
   "cell_type": "code",
   "execution_count": null,
   "metadata": {
    "collapsed": false,
    "deletable": true,
    "editable": true,
    "jupyter": {
     "outputs_hidden": false
    }
   },
   "outputs": [],
   "source": [
    "import numpy as np\n",
    "from scipy.signal import wiener\n",
    "import matplotlib as mpl\n",
    "import matplotlib.pyplot as plt\n",
    "from matplotlib.gridspec import GridSpec\n",
    "import matplotlib.ticker as ticker\n",
    "from cycler import cycle\n",
    "\n",
    "%matplotlib inline"
   ]
  },
  {
   "cell_type": "markdown",
   "metadata": {
    "deletable": true,
    "editable": true
   },
   "source": [
    "This example uses matplotlib 2.0"
   ]
  },
  {
   "cell_type": "code",
   "execution_count": 2,
   "metadata": {
    "collapsed": false,
    "deletable": true,
    "editable": true,
    "jupyter": {
     "outputs_hidden": false
    }
   },
   "outputs": [
    {
     "name": "stdout",
     "output_type": "stream",
     "text": [
      "Python version is 3.7.3 (default, Mar 27 2019, 16:54:48) \n",
      "[Clang 4.0.1 (tags/RELEASE_401/final)] \n",
      "\n",
      "Matplotlib version is 3.1.0 \n",
      "\n",
      "Matplotlibrc file is /Users/markdean/Documents/programs/matplotlib_examples/matplotlibrc\n",
      "\n"
     ]
    }
   ],
   "source": [
    "#%matplotlib widget\n",
    "import sys\n",
    "print(\"Python version is {} \\n\".format(sys.version))\n",
    "print(\"Matplotlib version is {} \\n\".format(mpl.__version__))\n",
    "print(\"Matplotlibrc file is {}\\n\".format(mpl.matplotlib_fname()))"
   ]
  },
  {
   "cell_type": "markdown",
   "metadata": {
    "deletable": true,
    "editable": true
   },
   "source": [
    "and the matplotlibrc file from \n",
    "https://github.com/mpmdean/matplotlibrc\n",
    "please suggest improvements"
   ]
  },
  {
   "cell_type": "markdown",
   "metadata": {
    "deletable": true,
    "editable": true
   },
   "source": [
    "## A few notes"
   ]
  },
  {
   "cell_type": "markdown",
   "metadata": {
    "deletable": true,
    "editable": true
   },
   "source": [
    "* All fields are using latex by default -- this avoid non-uniformity when using latex in some labels. \n",
    "\n",
    "* Using a uniform style is very important for an attractive manuscript. Try to avoid ad-hoc changes to the settings. \n",
    "\n",
    "* If you feel that there is a desirable change, consider applying it to the whole manuscript, preferably by setting some edits to the rc file right at the start of the script/notebook. e.g. mpl.rc('font', size=10). "
   ]
  },
  {
   "cell_type": "markdown",
   "metadata": {
    "deletable": true,
    "editable": true
   },
   "source": [
    "## Create figure"
   ]
  },
  {
   "cell_type": "markdown",
   "metadata": {
    "deletable": true,
    "editable": true
   },
   "source": [
    "* The width of a figure should always be set to the real physical column width. e.g. 3+3/8 inches for a PRL column. This will mean that fonts appear on the page in the correct size.\n",
    "\n",
    "* Gridspec and subplots_adjust are useful to set the precise location of panels.\n",
    "\n",
    "* Including 2-4 minor ticks per major tick is usually good.\n",
    "\n",
    "* Saving in pdf creates vector graphics and fast performance within pdflatex."
   ]
  },
  {
   "cell_type": "code",
   "execution_count": 3,
   "metadata": {},
   "outputs": [],
   "source": [
    "def set_minors(ax):\n",
    "    ax.xaxis.set_minor_locator(ticker.AutoMinorLocator(2))\n",
    "    ax.yaxis.set_minor_locator(ticker.AutoMinorLocator(2))\n",
    "\n",
    "x = np.linspace(-0.5, 1.2, 50)\n",
    "\n",
    "y = 9/((x/.1)**2 +1) + 5/(((x-.6)/.2)**2 +1)\n",
    "\n",
    "ys_top_left_off = [y+1*np.random.rand(x.size) for _ in range(6)]\n",
    "ys_top_left_on = [.8*(y+np.random.rand(x.size)) for y in ys_top_left_off]\n",
    "\n",
    "ys_top_left_off_fit = [wiener(y, 5) for y in ys_top_left_off]\n",
    "ys_top_left_on_fit = [wiener(y, 5) for y in ys_top_left_on]"
   ]
  },
  {
   "cell_type": "code",
   "execution_count": 4,
   "metadata": {},
   "outputs": [],
   "source": [
    "plt.rc('lines', markersize=1)\n",
    "plt.rc('font', size=10)\n",
    "plt.rc('legend', numpoints=1)"
   ]
  },
  {
   "cell_type": "code",
   "execution_count": 15,
   "metadata": {},
   "outputs": [],
   "source": [
    "def to_ax_array(gs):\n",
    "    I, J = gs.get_geometry()\n",
    "    return np.array([[plt.subplot(gs[i, j]) for j in range(J)]\n",
    "                     for i in range(I)])"
   ]
  },
  {
   "cell_type": "code",
   "execution_count": null,
   "metadata": {},
   "outputs": [],
   "source": []
  },
  {
   "cell_type": "code",
   "execution_count": 38,
   "metadata": {},
   "outputs": [
    {
     "data": {
      "text/plain": [
       "<matplotlib.legend.Legend at 0x1c1c8f89e8>"
      ]
     },
     "execution_count": 38,
     "metadata": {},
     "output_type": "execute_result"
    },
    {
     "data": {
      "image/png": "[encoded data removed]",
      "text/plain": [
       "<Figure size 486x288 with 11 Axes>"
      ]
     },
     "metadata": {
      "needs_background": "light"
     },
     "output_type": "display_data"
    }
   ],
   "source": [
    "fig = plt.figure(figsize=(6+3/4, 4))\n",
    "\n",
    "gs = plt.GridSpec(2, 2, width_ratios=[.8, .2], hspace=0.3, figure=fig)\n",
    "\n",
    "axs_top_left = to_ax_array(gs[0, 0].subgridspec(2, 3, wspace=0, hspace=0))\n",
    "ax_top_right = plt.subplot(gs[0, 1].subgridspec(2, 1, height_ratios=[.1, .9])[1])\n",
    "axs_bottom_left = to_ax_array(gs[1, 0].subgridspec(1, 3, wspace=0, hspace=0))\n",
    "ax_bottom_right = plt.subplot(gs[1, 1].subgridspec(2, 1, height_ratios=[.1, .9])[1])\n",
    "\n",
    "\n",
    "ax_data = zip(axs_top_left.ravel(), ys_top_left_on, ys_top_left_off,\n",
    "             ys_top_left_on_fit, ys_top_left_off_fit)\n",
    "for ax, y_on, y_off, y_on_fit, y_off_fit  in ax_data:\n",
    "    l = ax.plot(x, y_off, 'o', label='Equil.')\n",
    "    ax.plot(x, y_off_fit, '-', color=l[0].get_color(),\n",
    "            alpha=0.5, zorder=-1)\n",
    "    l = ax.plot(x, y_on, 's', label='t')\n",
    "    ax.plot(x, y_on_fit, '-', color=l[0].get_color(),\n",
    "            alpha=0.5, zorder=-1)\n",
    "    \n",
    "    ax.set_xticks(np.arange(-.5, 1.2, .5))\n",
    "    ax.set_yticks(np.arange(0, 11, 5))\n",
    "    ax.axis([-.4, 1.3, -2, 12])\n",
    "    set_minors(ax)\n",
    "\n",
    "\n",
    "# remove y ticklabels\n",
    "for ax in np.hstack((axs_top_left[:, 1:].ravel(),\n",
    "                     axs_bottom_left[:, 1:].ravel())):\n",
    "    ax.set_yticklabels([])\n",
    "    \n",
    "# add ylabels\n",
    "for ax in np.hstack((axs_top_left[1, :].ravel(),\n",
    "                     axs_bottom_left.ravel(),\n",
    "                     np.array([ax_top_right]),\n",
    "                     np.array([ax_bottom_right]),\n",
    "                    )):\n",
    "    ax.set_xlabel('Energy loss (eV)')\n",
    "    \n",
    "# remove xlabels\n",
    "for ax in axs_top_left[0, :].ravel():\n",
    "    ax.set_xticklabels([])\n",
    "\n",
    "    \n",
    "axs_top_left[0, 0].legend(fontsize=6, frameon=False)"
   ]
  },
  {
   "cell_type": "code",
   "execution_count": 39,
   "metadata": {},
   "outputs": [],
   "source": [
    "fig.savefig('ex_16_multipanel.pdf', dpi=600)"
   ]
  },
  {
   "cell_type": "code",
   "execution_count": null,
   "metadata": {},
   "outputs": [],
   "source": []
  },
  {
   "cell_type": "code",
   "execution_count": null,
   "metadata": {},
   "outputs": [],
   "source": []
  }
 ],
 "metadata": {
  "kernelspec": {
   "display_name": "Python 3",
   "language": "python",
   "name": "python3"
  },
  "language_info": {
   "codemirror_mode": {
    "name": "ipython",
    "version": 3
   },
   "file_extension": ".py",
   "mimetype": "text/x-python",
   "name": "python",
   "nbconvert_exporter": "python",
   "pygments_lexer": "ipython3",
   "version": "3.7.3"
  }
 },
 "nbformat": 4,
 "nbformat_minor": 4
}
