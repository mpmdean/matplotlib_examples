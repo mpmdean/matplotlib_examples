{
 "cells": [
  {
   "cell_type": "code",
   "execution_count": 1,
   "metadata": {},
   "outputs": [],
   "source": [
    "import numpy as np\n",
    "import matplotlib as mpl\n",
    "import matplotlib.pyplot as plt\n",
    "from matplotlib.collections import LineCollection\n",
    "import matplotlib.ticker as ticker\n",
    "from matplotlib.patches import Rectangle\n",
    "\n",
    "%matplotlib widget"
   ]
  },
  {
   "cell_type": "code",
   "execution_count": 2,
   "metadata": {},
   "outputs": [
    {
     "data": {
      "application/vnd.jupyter.widget-view+json": {
       "model_id": "a5a616e59c15447c962d28b96d3a709a",
       "version_major": 2,
       "version_minor": 0
      },
      "text/plain": [
       "Canvas(toolbar=Toolbar(toolitems=[('Home', 'Reset original view', 'home', 'home'), ('Back', 'Back to previous …"
      ]
     },
     "metadata": {},
     "output_type": "display_data"
    }
   ],
   "source": [
    "fig = plt.figure(figsize=(3+3/8, 3.7))\n",
    "# since the subplots are square, the figure height needs to\n",
    "# be adjusted to keep the spacing even.\n",
    "\n",
    "nrows = 2\n",
    "ncols = 3\n",
    "gs = mpl.gridspec.GridSpec(nrows, ncols+1, figure=fig,\n",
    "                           left=0.05, right=0.85, top=0.95, bottom=0.5,\n",
    "                           wspace=0.1, hspace=0.1, \n",
    "                           width_ratios=[1, 1, 1, 0.1])\n",
    "\n",
    "arts = []\n",
    "axs = []\n",
    "\n",
    "for nrow in range(nrows):\n",
    "    for ncol in range(ncols):\n",
    "        ax = plt.subplot(gs[nrow, ncol])\n",
    "        art = ax.imshow(np.exp(10*np.random.rand(50, 50)),\n",
    "                        vmin=1e-2, vmax=np.exp(10),\n",
    "                       norm=mpl.colors.LogNorm(vmin=1e-3, vmax=np.exp(10)))\n",
    "        axs.append(ax)\n",
    "        arts.append(art)\n",
    "    \n",
    "\n",
    "cb = plt.colorbar(arts[0], cax=plt.subplot(gs[:, -1]))\n",
    "cb.set_label('Intensity (photons/s)')\n",
    "\n",
    "for ax in axs:\n",
    "    ax.set_xticks([])\n",
    "    ax.set_yticks([])\n",
    "    height = 2\n",
    "    pos = (ax.get_xlim()[0] + 2, ax.get_ylim()[0] - 2 - height)\n",
    "    ax.add_patch(Rectangle(pos, 20, height, color='w'))\n",
    "\n",
    "fig.savefig('ex_11_array_panels_with_colorbar.pdf', dpi=600)"
   ]
  },
  {
   "cell_type": "code",
   "execution_count": null,
   "metadata": {},
   "outputs": [],
   "source": []
  }
 ],
 "metadata": {
  "kernelspec": {
   "display_name": "Python 3",
   "language": "python",
   "name": "python3"
  },
  "language_info": {
   "codemirror_mode": {
    "name": "ipython",
    "version": 3
   },
   "file_extension": ".py",
   "mimetype": "text/x-python",
   "name": "python",
   "nbconvert_exporter": "python",
   "pygments_lexer": "ipython3",
   "version": "3.7.6"
  }
 },
 "nbformat": 4,
 "nbformat_minor": 4
}
