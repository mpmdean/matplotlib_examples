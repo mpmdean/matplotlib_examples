{
 "cells": [
  {
   "cell_type": "code",
   "execution_count": 1,
   "metadata": {
    "collapsed": false,
    "deletable": true,
    "editable": true,
    "execution": {
     "iopub.execute_input": "2022-06-02T20:25:12.773626Z",
     "iopub.status.busy": "2022-06-02T20:25:12.773106Z",
     "iopub.status.idle": "2022-06-02T20:25:13.632702Z",
     "shell.execute_reply": "2022-06-02T20:25:13.631640Z"
    },
    "jupyter": {
     "outputs_hidden": false
    }
   },
   "outputs": [],
   "source": [
    "import numpy as np\n",
    "import matplotlib as mpl\n",
    "import matplotlib.pyplot as plt\n",
    "from matplotlib.patches import Rectangle\n",
    "from matplotlib.gridspec import GridSpec\n",
    "import matplotlib.ticker as ticker\n",
    "from cycler import cycle\n",
    "\n",
    "%matplotlib inline"
   ]
  },
  {
   "cell_type": "markdown",
   "metadata": {
    "deletable": true,
    "editable": true
   },
   "source": [
    "This example uses matplotlib 2.0"
   ]
  },
  {
   "cell_type": "code",
   "execution_count": 2,
   "metadata": {
    "collapsed": false,
    "deletable": true,
    "editable": true,
    "execution": {
     "iopub.execute_input": "2022-06-02T20:25:13.635719Z",
     "iopub.status.busy": "2022-06-02T20:25:13.635542Z",
     "iopub.status.idle": "2022-06-02T20:25:13.641126Z",
     "shell.execute_reply": "2022-06-02T20:25:13.640457Z"
    },
    "jupyter": {
     "outputs_hidden": false
    }
   },
   "outputs": [
    {
     "name": "stdout",
     "output_type": "stream",
     "text": [
      "Python version is 3.9.10 | packaged by conda-forge | (main, Feb  1 2022, 21:24:11) \n",
      "[GCC 9.4.0] \n",
      "\n",
      "Matplotlib version is 3.5.1 \n",
      "\n",
      "Matplotlibrc file is matplotlibrc\n",
      "\n"
     ]
    }
   ],
   "source": [
    "#%matplotlib widget\n",
    "import sys\n",
    "print(\"Python version is {} \\n\".format(sys.version))\n",
    "print(\"Matplotlib version is {} \\n\".format(mpl.__version__))\n",
    "print(\"Matplotlibrc file is {}\\n\".format(mpl.matplotlib_fname()))"
   ]
  },
  {
   "cell_type": "markdown",
   "metadata": {
    "deletable": true,
    "editable": true
   },
   "source": [
    "and the matplotlibrc file from \n",
    "https://github.com/mpmdean/matplotlibrc\n",
    "please suggest improvements"
   ]
  },
  {
   "cell_type": "markdown",
   "metadata": {
    "deletable": true,
    "editable": true
   },
   "source": [
    "## A few notes"
   ]
  },
  {
   "cell_type": "markdown",
   "metadata": {
    "deletable": true,
    "editable": true
   },
   "source": [
    "* All fields are using latex by default -- this avoid non-uniformity when using latex in some labels. \n",
    "\n",
    "* Using a uniform style is very important for an attractive manuscript. Try to avoid ad-hoc changes to the settings. \n",
    "\n",
    "* If you feel that there is a desirable change, consider applying it to the whole manuscript, preferably by setting some edits to the rc file right at the start of the script/notebook. e.g. mpl.rc('font', size=10). "
   ]
  },
  {
   "cell_type": "markdown",
   "metadata": {
    "deletable": true,
    "editable": true
   },
   "source": [
    "## Create figure"
   ]
  },
  {
   "cell_type": "markdown",
   "metadata": {
    "deletable": true,
    "editable": true
   },
   "source": [
    "* The width of a figure should always be set to the real physical column width. e.g. 3+3/8 inches for a PRL column. This will mean that fonts appear on the page in the correct size.\n",
    "\n",
    "* Gridspec and subplots_adjust are useful to set the precise location of panels.\n",
    "\n",
    "* Including 2-4 minor ticks per major tick is usually good.\n",
    "\n",
    "* Putting the colorbar on separate axes facilities better control over its location. \n",
    "\n",
    "* Saving in pdf creates vector graphics and fast performance within pdflatex."
   ]
  },
  {
   "cell_type": "code",
   "execution_count": 3,
   "metadata": {
    "execution": {
     "iopub.execute_input": "2022-06-02T20:25:13.643948Z",
     "iopub.status.busy": "2022-06-02T20:25:13.643776Z",
     "iopub.status.idle": "2022-06-02T20:25:13.649260Z",
     "shell.execute_reply": "2022-06-02T20:25:13.648593Z"
    }
   },
   "outputs": [],
   "source": [
    "disp214 = np.load('214_dispersion.npz')\n",
    "disp327 = disp214"
   ]
  },
  {
   "cell_type": "code",
   "execution_count": 4,
   "metadata": {
    "execution": {
     "iopub.execute_input": "2022-06-02T20:25:13.651876Z",
     "iopub.status.busy": "2022-06-02T20:25:13.651675Z",
     "iopub.status.idle": "2022-06-02T20:25:13.656217Z",
     "shell.execute_reply": "2022-06-02T20:25:13.655421Z"
    }
   },
   "outputs": [],
   "source": [
    "def set_minors(ax, xtickvals):\n",
    "    ax.xaxis.set_minor_locator((ticker.FixedLocator((xtickvals[:-1] + xtickvals[1:])/2)))\n",
    "    ax.yaxis.set_minor_locator(ticker.AutoMinorLocator(2))\n",
    "    \n"
   ]
  },
  {
   "cell_type": "code",
   "execution_count": 5,
   "metadata": {
    "execution": {
     "iopub.execute_input": "2022-06-02T20:25:13.659117Z",
     "iopub.status.busy": "2022-06-02T20:25:13.658933Z",
     "iopub.status.idle": "2022-06-02T20:25:15.434036Z",
     "shell.execute_reply": "2022-06-02T20:25:15.433417Z"
    }
   },
   "outputs": [
    {
     "data": {
      "image/png": "[encoded data removed]",
      "text/plain": [
       "<Figure size 243x201.6 with 2 Axes>"
      ]
     },
     "metadata": {
      "needs_background": "light"
     },
     "output_type": "display_data"
    }
   ],
   "source": [
    "fig, ax = plt.subplots(figsize=(3+3/8, 2.8))\n",
    "\n",
    "art = ax.pcolorfast(disp214['x_axis'], disp214['omega_eval'], disp214['I_smooth'], cmap='bwr',\n",
    "                    vmax=.2)\n",
    "cb = plt.colorbar(art, ax=ax)\n",
    "cb.set_label('Intensity')\n",
    "ax.set_xlabel('Q')\n",
    "ax.set_ylabel('Energy (meV)')\n",
    "_ = ax.set_xticks(disp214['ticks'])\n",
    "_ = ax.set_xticklabels(disp214['label_list'], fontsize=8) # try not to change fontsizes, but making an exception seems unavoidable here\n",
    "set_minors(ax, disp327['ticks'])\n",
    "\n",
    "    \n",
    "# add box\n",
    "box = mpl.patches.FancyBboxPatch((150, 160), 50, 50, boxstyle='Round, pad=25', edgecolor='w', fill=False, linestyle=':', linewidth=2)\n",
    "ax.add_patch(box)\n",
    "\n",
    "style = \"Simple, tail_width=0.5, head_width=6, head_length=12\"\n",
    "arrow = mpl.patches.FancyArrowPatch((300, 250), (300, 200),\n",
    "                             connectionstyle=\"arc3,rad=.0\", arrowstyle=style, color='green')\n",
    "\n",
    "\n",
    "ax.add_patch(arrow)\n",
    "\n",
    "fig.savefig('ex_18_SWT_highlights.pdf', dpi=1200)"
   ]
  },
  {
   "cell_type": "code",
   "execution_count": null,
   "metadata": {},
   "outputs": [],
   "source": []
  }
 ],
 "metadata": {
  "kernelspec": {
   "display_name": "Python 3",
   "language": "python",
   "name": "python3"
  },
  "language_info": {
   "codemirror_mode": {
    "name": "ipython",
    "version": 3
   },
   "file_extension": ".py",
   "mimetype": "text/x-python",
   "name": "python",
   "nbconvert_exporter": "python",
   "pygments_lexer": "ipython3",
   "version": "3.9.10"
  }
 },
 "nbformat": 4,
 "nbformat_minor": 4
}
