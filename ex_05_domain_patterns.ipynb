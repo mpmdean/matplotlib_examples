{
 "cells": [
  {
   "cell_type": "code",
   "execution_count": 1,
   "metadata": {
    "collapsed": false,
    "deletable": true,
    "editable": true
   },
   "outputs": [],
   "source": [
    "import numpy as np\n",
    "import matplotlib as mpl\n",
    "import matplotlib.pyplot as plt\n",
    "from matplotlib.gridspec import GridSpec\n",
    "import matplotlib.ticker as ticker\n",
    "from cycler import cycle\n",
    "\n",
    "from gradient_fill import gradient_fill\n",
    "\n",
    "%matplotlib widget"
   ]
  },
  {
   "cell_type": "markdown",
   "metadata": {
    "deletable": true,
    "editable": true
   },
   "source": [
    "## Create random patterns as a test"
   ]
  },
  {
   "cell_type": "code",
   "execution_count": 2,
   "metadata": {
    "collapsed": false,
    "deletable": true,
    "editable": true
   },
   "outputs": [],
   "source": [
    "patterns = [np.random.rand(20, 20) for n in range(6)]"
   ]
  },
  {
   "cell_type": "markdown",
   "metadata": {
    "deletable": true,
    "editable": true
   },
   "source": [
    "Ths using matplotlibrc file from \n",
    "https://github.com/mpmdean/matplotlibrc\n",
    "All fields are using latex by default -- this avoid non-uniformity when using latex in some labels. "
   ]
  },
  {
   "cell_type": "code",
   "execution_count": 3,
   "metadata": {
    "collapsed": false,
    "deletable": true,
    "editable": true
   },
   "outputs": [
    {
     "name": "stdout",
     "output_type": "stream",
     "text": [
      "Python version is 3.7.2 (default, Dec 29 2018, 00:00:04) \n",
      "[Clang 4.0.1 (tags/RELEASE_401/final)] \n",
      "\n",
      "Matplotlib version is 3.0.2 \n",
      "\n",
      "Matplotlibrc file is /Users/markdean/Documents/programs/matplotlib_examples/matplotlibrc\n",
      "\n"
     ]
    }
   ],
   "source": [
    "%matplotlib widget\n",
    "import sys\n",
    "print(\"Python version is {} \\n\".format(sys.version))\n",
    "print(\"Matplotlib version is {} \\n\".format(mpl.__version__))\n",
    "print(\"Matplotlibrc file is {}\\n\".format(mpl.matplotlib_fname()))"
   ]
  },
  {
   "cell_type": "markdown",
   "metadata": {
    "deletable": true,
    "editable": true
   },
   "source": [
    "## Create figure"
   ]
  },
  {
   "cell_type": "code",
   "execution_count": 4,
   "metadata": {
    "collapsed": false,
    "deletable": true,
    "editable": true
   },
   "outputs": [
    {
     "data": {
      "application/vnd.jupyter.widget-view+json": {
       "model_id": "2c21554cedcd41c3a6b26dc8dd5d155f",
       "version_major": 2,
       "version_minor": 0
      },
      "text/plain": [
       "FigureCanvasNbAgg()"
      ]
     },
     "metadata": {},
     "output_type": "display_data"
    }
   ],
   "source": [
    "fig, axs = plt.subplots(2, 3, figsize=(6, 4))\n",
    "\n",
    "color = 'k'\n",
    "for ax, pattern, label in zip(axs.ravel(), patterns, 'abcdef'):\n",
    "    ax.imshow(pattern)\n",
    "    ax.text(0.11, 0.9, '({})'.format(label), verticalalignment='center',\n",
    "            horizontalalignment='center', transform=ax.transAxes,\n",
    "           bbox={'facecolor':'w', 'alpha':0.9}) #, 'pad':10\n",
    "    ax.xaxis.set_minor_locator(ticker.AutoMinorLocator(2))\n",
    "    ax.yaxis.set_minor_locator(ticker.AutoMinorLocator(2))\n",
    "\n",
    "lab1 = axs[0,0].set_ylabel('Pixels')\n",
    "lab2 = axs[1,0].set_ylabel('Pixels')\n",
    "\n",
    "axs[0,0].set_title('$\\sigma=4 \\pm 2$ pixels')\n",
    "axs[0,1].set_title('$\\sigma=8 \\pm 4$ pixels')\n",
    "axs[0,2].set_title('$\\sigma=10 \\pm 2$ pixels')\n",
    "\n",
    "for ax in axs[:,1:].ravel():\n",
    "    ax.set_yticklabels([])\n",
    "\n",
    "for ax in axs[:,1:].ravel():\n",
    "    ax.set_yticklabels([])\n",
    "\n",
    "for ax in axs[1,:]:\n",
    "    ax.set_xlabel('Pixels')\n",
    "\n",
    "fig.suptitle('Domain size', x=0.8)\n",
    "totalax = fig.add_axes([0, 0, 1, 1])\n",
    "totalax.text(0, 0.8, 'CDW domains', rotation='vertical')\n",
    "totalax.text(0, 0.4, 'Speckle pattern', rotation='vertical')\n",
    "totalax.axis('off')\n",
    "\n",
    "\n",
    "totalax.arrow(0.2, 0.97, 0.45, 0,\n",
    "              head_width=0.03, head_length=0.05, fc='k', ec='k')\n",
    "fig.subplots_adjust(wspace=0, hspace=0)#, left=0.05, right=0.97, bottom=0.15, top=0.95)\n",
    "\n",
    "fig.savefig('ex_05_domain_patterns.pdf', dpi=600)"
   ]
  }
 ],
 "metadata": {
  "kernelspec": {
   "display_name": "Python 3",
   "language": "python",
   "name": "python3"
  },
  "language_info": {
   "codemirror_mode": {
    "name": "ipython",
    "version": 3
   },
   "file_extension": ".py",
   "mimetype": "text/x-python",
   "name": "python",
   "nbconvert_exporter": "python",
   "pygments_lexer": "ipython3",
   "version": "3.7.2"
  }
 },
 "nbformat": 4,
 "nbformat_minor": 2
}
