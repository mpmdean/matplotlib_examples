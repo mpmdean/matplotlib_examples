{
 "cells": [
  {
   "cell_type": "code",
   "execution_count": 1,
   "metadata": {
    "collapsed": false,
    "deletable": true,
    "editable": true,
    "execution": {
     "iopub.execute_input": "2021-10-11T18:39:42.365526Z",
     "iopub.status.busy": "2021-10-11T18:39:42.364680Z",
     "iopub.status.idle": "2021-10-11T18:39:42.764959Z",
     "shell.execute_reply": "2021-10-11T18:39:42.764221Z"
    },
    "jupyter": {
     "outputs_hidden": false
    }
   },
   "outputs": [],
   "source": [
    "import numpy as np\n",
    "import matplotlib as mpl\n",
    "import matplotlib.pyplot as plt\n",
    "from matplotlib.gridspec import GridSpec\n",
    "import matplotlib.ticker as ticker\n",
    "from cycler import cycle\n",
    "\n",
    "from gradient_fill import gradient_fill\n",
    "\n",
    "%matplotlib widget"
   ]
  },
  {
   "cell_type": "markdown",
   "metadata": {
    "deletable": true,
    "editable": true
   },
   "source": [
    "## Create random patterns as a test"
   ]
  },
  {
   "cell_type": "code",
   "execution_count": 2,
   "metadata": {
    "collapsed": false,
    "deletable": true,
    "editable": true,
    "execution": {
     "iopub.execute_input": "2021-10-11T18:39:42.770149Z",
     "iopub.status.busy": "2021-10-11T18:39:42.769581Z",
     "iopub.status.idle": "2021-10-11T18:39:42.771963Z",
     "shell.execute_reply": "2021-10-11T18:39:42.771293Z"
    },
    "jupyter": {
     "outputs_hidden": false
    }
   },
   "outputs": [],
   "source": [
    "patterns = [np.random.rand(20, 20) for n in range(6)]"
   ]
  },
  {
   "cell_type": "markdown",
   "metadata": {
    "deletable": true,
    "editable": true
   },
   "source": [
    "Ths using matplotlibrc file from \n",
    "https://github.com/mpmdean/matplotlibrc\n",
    "All fields are using latex by default -- this avoid non-uniformity when using latex in some labels. "
   ]
  },
  {
   "cell_type": "code",
   "execution_count": 3,
   "metadata": {
    "collapsed": false,
    "deletable": true,
    "editable": true,
    "execution": {
     "iopub.execute_input": "2021-10-11T18:39:42.778307Z",
     "iopub.status.busy": "2021-10-11T18:39:42.777780Z",
     "iopub.status.idle": "2021-10-11T18:39:42.781969Z",
     "shell.execute_reply": "2021-10-11T18:39:42.781273Z"
    },
    "jupyter": {
     "outputs_hidden": false
    }
   },
   "outputs": [
    {
     "name": "stdout",
     "output_type": "stream",
     "text": [
      "Python version is 3.9.2 | packaged by conda-forge | (default, Feb 21 2021, 05:02:46) \n",
      "[GCC 9.3.0] \n",
      "\n",
      "Matplotlib version is 3.4.2 \n",
      "\n",
      "Matplotlibrc file is matplotlibrc\n",
      "\n"
     ]
    }
   ],
   "source": [
    "%matplotlib widget\n",
    "import sys\n",
    "print(\"Python version is {} \\n\".format(sys.version))\n",
    "print(\"Matplotlib version is {} \\n\".format(mpl.__version__))\n",
    "print(\"Matplotlibrc file is {}\\n\".format(mpl.matplotlib_fname()))"
   ]
  },
  {
   "cell_type": "markdown",
   "metadata": {
    "deletable": true,
    "editable": true
   },
   "source": [
    "## Create figure"
   ]
  },
  {
   "cell_type": "code",
   "execution_count": 4,
   "metadata": {
    "collapsed": false,
    "deletable": true,
    "editable": true,
    "execution": {
     "iopub.execute_input": "2021-10-11T18:39:42.802228Z",
     "iopub.status.busy": "2021-10-11T18:39:42.792055Z",
     "iopub.status.idle": "2021-10-11T18:39:44.320858Z",
     "shell.execute_reply": "2021-10-11T18:39:44.320284Z"
    },
    "jupyter": {
     "outputs_hidden": false
    }
   },
   "outputs": [
    {
     "data": {
      "application/vnd.jupyter.widget-view+json": {
       "model_id": "3a26c88b13c04cd38d5bbd6b736815ce",
       "version_major": 2,
       "version_minor": 0
      },
      "text/plain": [
       "Canvas(toolbar=Toolbar(toolitems=[('Home', 'Reset original view', 'home', 'home'), ('Back', 'Back to previous …"
      ]
     },
     "metadata": {},
     "output_type": "display_data"
    }
   ],
   "source": [
    "fig, axs = plt.subplots(2, 3, figsize=(6, 4))\n",
    "\n",
    "color = 'k'\n",
    "for ax, pattern, label in zip(axs.ravel(), patterns, 'abcdef'):\n",
    "    ax.imshow(pattern)\n",
    "    ax.text(0.11, 0.9, '({})'.format(label), verticalalignment='center',\n",
    "            horizontalalignment='center', transform=ax.transAxes,\n",
    "           bbox={'facecolor':'w', 'alpha':0.9}) #, 'pad':10\n",
    "    ax.xaxis.set_minor_locator(ticker.AutoMinorLocator(2))\n",
    "    ax.yaxis.set_minor_locator(ticker.AutoMinorLocator(2))\n",
    "\n",
    "lab1 = axs[0,0].set_ylabel('Pixels')\n",
    "lab2 = axs[1,0].set_ylabel('Pixels')\n",
    "\n",
    "axs[0,0].set_title('$\\sigma=4 \\pm 2$ pixels')\n",
    "axs[0,1].set_title('$\\sigma=8 \\pm 4$ pixels')\n",
    "axs[0,2].set_title('$\\sigma=10 \\pm 2$ pixels')\n",
    "\n",
    "for ax in axs[:,1:].ravel():\n",
    "    ax.set_yticklabels([])\n",
    "\n",
    "for ax in axs[:,1:].ravel():\n",
    "    ax.set_yticklabels([])\n",
    "\n",
    "for ax in axs[1,:]:\n",
    "    ax.set_xlabel('Pixels')\n",
    "\n",
    "fig.suptitle('Domain size', x=0.8)\n",
    "totalax = fig.add_axes([0, 0, 1, 1])\n",
    "totalax.text(0, 0.8, 'CDW domains', rotation='vertical')\n",
    "totalax.text(0, 0.4, 'Speckle pattern', rotation='vertical')\n",
    "totalax.axis('off')\n",
    "\n",
    "\n",
    "fig.subplots_adjust(wspace=0, hspace=0)#, left=0.05, right=0.97, bottom=0.15, top=0.95)\n",
    "\n",
    "fig.savefig('ex_05_domain_patterns.pdf', dpi=600)"
   ]
  },
  {
   "cell_type": "code",
   "execution_count": null,
   "metadata": {},
   "outputs": [],
   "source": []
  }
 ],
 "metadata": {
  "kernelspec": {
   "display_name": "Python 3",
   "language": "python",
   "name": "python3"
  },
  "language_info": {
   "codemirror_mode": {
    "name": "ipython",
    "version": 3
   },
   "file_extension": ".py",
   "mimetype": "text/x-python",
   "name": "python",
   "nbconvert_exporter": "python",
   "pygments_lexer": "ipython3",
   "version": "3.9.2"
  },
  "widgets": {
   "application/vnd.jupyter.widget-state+json": {
    "state": {
     "1117e6864f2444ad8e7bb6160e5ed7a0": {
      "model_module": "@jupyter-widgets/base",
      "model_module_version": "1.2.0",
      "model_name": "LayoutModel",
      "state": {
       "_model_module": "@jupyter-widgets/base",
       "_model_module_version": "1.2.0",
       "_model_name": "LayoutModel",
       "_view_count": null,
       "_view_module": "@jupyter-widgets/base",
       "_view_module_version": "1.2.0",
       "_view_name": "LayoutView",
       "align_content": null,
       "align_items": null,
       "align_self": null,
       "border": null,
       "bottom": null,
       "display": null,
       "flex": null,
       "flex_flow": null,
       "grid_area": null,
       "grid_auto_columns": null,
       "grid_auto_flow": null,
       "grid_auto_rows": null,
       "grid_column": null,
       "grid_gap": null,
       "grid_row": null,
       "grid_template_areas": null,
       "grid_template_columns": null,
       "grid_template_rows": null,
       "height": null,
       "justify_content": null,
       "justify_items": null,
       "left": null,
       "margin": null,
       "max_height": null,
       "max_width": null,
       "min_height": null,
       "min_width": null,
       "object_fit": null,
       "object_position": null,
       "order": null,
       "overflow": null,
       "overflow_x": null,
       "overflow_y": null,
       "padding": null,
       "right": null,
       "top": null,
       "visibility": null,
       "width": null
      }
     },
     "3a26c88b13c04cd38d5bbd6b736815ce": {
      "model_module": "jupyter-matplotlib",
      "model_module_version": "^0.9.0",
      "model_name": "MPLCanvasModel",
      "state": {
       "_cursor": "pointer",
       "_dom_classes": [],
       "_figure_label": "Figure",
       "_height": 0,
       "_image_mode": "full",
       "_message": "",
       "_model_module": "jupyter-matplotlib",
       "_model_module_version": "^0.9.0",
       "_model_name": "MPLCanvasModel",
       "_rubberband_height": 0,
       "_rubberband_width": 0,
       "_rubberband_x": 0,
       "_rubberband_y": 0,
       "_view_count": null,
       "_view_module": "jupyter-matplotlib",
       "_view_module_version": "^0.9.0",
       "_view_name": "MPLCanvasView",
       "_width": 0,
       "capture_scroll": false,
       "footer_visible": true,
       "header_visible": true,
       "layout": "IPY_MODEL_1117e6864f2444ad8e7bb6160e5ed7a0",
       "resizable": true,
       "toolbar": "IPY_MODEL_5ad3533f26474ee9935d70cd95670e0a",
       "toolbar_position": "left",
       "toolbar_visible": true
      }
     },
     "5ad3533f26474ee9935d70cd95670e0a": {
      "model_module": "jupyter-matplotlib",
      "model_module_version": "^0.9.0",
      "model_name": "ToolbarModel",
      "state": {
       "_current_action": "",
       "_dom_classes": [],
       "_model_module": "jupyter-matplotlib",
       "_model_module_version": "^0.9.0",
       "_model_name": "ToolbarModel",
       "_view_count": null,
       "_view_module": "jupyter-matplotlib",
       "_view_module_version": "^0.9.0",
       "_view_name": "ToolbarView",
       "button_style": "",
       "collapsed": true,
       "layout": "IPY_MODEL_8901e81a310b40a6bfeb5952839cec12",
       "orientation": "vertical",
       "toolitems": [
        [
         "Home",
         "Reset original view",
         "home",
         "home"
        ],
        [
         "Back",
         "Back to previous view",
         "arrow-left",
         "back"
        ],
        [
         "Forward",
         "Forward to next view",
         "arrow-right",
         "forward"
        ],
        [
         "Pan",
         "Left button pans, Right button zooms\nx/y fixes axis, CTRL fixes aspect",
         "arrows",
         "pan"
        ],
        [
         "Zoom",
         "Zoom to rectangle\nx/y fixes axis, CTRL fixes aspect",
         "square-o",
         "zoom"
        ],
        [
         "Download",
         "Download plot",
         "floppy-o",
         "save_figure"
        ]
       ]
      }
     },
     "8901e81a310b40a6bfeb5952839cec12": {
      "model_module": "@jupyter-widgets/base",
      "model_module_version": "1.2.0",
      "model_name": "LayoutModel",
      "state": {
       "_model_module": "@jupyter-widgets/base",
       "_model_module_version": "1.2.0",
       "_model_name": "LayoutModel",
       "_view_count": null,
       "_view_module": "@jupyter-widgets/base",
       "_view_module_version": "1.2.0",
       "_view_name": "LayoutView",
       "align_content": null,
       "align_items": null,
       "align_self": null,
       "border": null,
       "bottom": null,
       "display": null,
       "flex": null,
       "flex_flow": null,
       "grid_area": null,
       "grid_auto_columns": null,
       "grid_auto_flow": null,
       "grid_auto_rows": null,
       "grid_column": null,
       "grid_gap": null,
       "grid_row": null,
       "grid_template_areas": null,
       "grid_template_columns": null,
       "grid_template_rows": null,
       "height": null,
       "justify_content": null,
       "justify_items": null,
       "left": null,
       "margin": null,
       "max_height": null,
       "max_width": null,
       "min_height": null,
       "min_width": null,
       "object_fit": null,
       "object_position": null,
       "order": null,
       "overflow": null,
       "overflow_x": null,
       "overflow_y": null,
       "padding": null,
       "right": null,
       "top": null,
       "visibility": null,
       "width": null
      }
     }
    },
    "version_major": 2,
    "version_minor": 0
   }
  }
 },
 "nbformat": 4,
 "nbformat_minor": 4
}
