{
 "cells": [
  {
   "cell_type": "code",
   "execution_count": 1,
   "metadata": {
    "collapsed": false,
    "deletable": true,
    "editable": true,
    "execution": {
     "iopub.execute_input": "2022-04-16T20:27:20.918786Z",
     "iopub.status.busy": "2022-04-16T20:27:20.918279Z",
     "iopub.status.idle": "2022-04-16T20:27:22.048438Z",
     "shell.execute_reply": "2022-04-16T20:27:22.046757Z"
    },
    "jupyter": {
     "outputs_hidden": false
    }
   },
   "outputs": [],
   "source": [
    "import numpy as np\n",
    "from scipy.special import erf\n",
    "import matplotlib as mpl\n",
    "from matplotlib.gridspec import GridSpec\n",
    "import matplotlib.pyplot as plt\n",
    "import matplotlib.ticker as ticker\n",
    "import matplotlib.patches as patches\n",
    "\n",
    "%matplotlib inline"
   ]
  },
  {
   "cell_type": "markdown",
   "metadata": {
    "deletable": true,
    "editable": true
   },
   "source": [
    "Using matplotlibrc file from \n",
    "https://github.com/mpmdean/matplotlibrc\n",
    "All fields are using latex by default -- this avoid non-uniformity when using latex in some labels. "
   ]
  },
  {
   "cell_type": "code",
   "execution_count": 2,
   "metadata": {
    "collapsed": false,
    "deletable": true,
    "editable": true,
    "execution": {
     "iopub.execute_input": "2022-04-16T20:27:22.054082Z",
     "iopub.status.busy": "2022-04-16T20:27:22.053748Z",
     "iopub.status.idle": "2022-04-16T20:27:22.061864Z",
     "shell.execute_reply": "2022-04-16T20:27:22.060788Z"
    },
    "jupyter": {
     "outputs_hidden": false
    }
   },
   "outputs": [
    {
     "name": "stdout",
     "output_type": "stream",
     "text": [
      "Python version is 3.9.10 | packaged by conda-forge | (main, Feb  1 2022, 21:24:11) \n",
      "[GCC 9.4.0] \n",
      "\n",
      "Matplotlib version is 3.5.1 \n",
      "\n",
      "Matplotlibrc file is matplotlibrc\n",
      "\n"
     ]
    }
   ],
   "source": [
    "import sys\n",
    "print(\"Python version is {} \\n\".format(sys.version))\n",
    "print(\"Matplotlib version is {} \\n\".format(mpl.__version__))\n",
    "print(\"Matplotlibrc file is {}\\n\".format(mpl.matplotlib_fname()))"
   ]
  },
  {
   "cell_type": "code",
   "execution_count": 3,
   "metadata": {
    "collapsed": false,
    "deletable": true,
    "editable": true,
    "execution": {
     "iopub.execute_input": "2022-04-16T20:27:22.068519Z",
     "iopub.status.busy": "2022-04-16T20:27:22.068120Z",
     "iopub.status.idle": "2022-04-16T20:27:22.076445Z",
     "shell.execute_reply": "2022-04-16T20:27:22.075059Z"
    },
    "jupyter": {
     "outputs_hidden": false
    }
   },
   "outputs": [],
   "source": [
    "colors = [f'C{i}' for i in range(10)]"
   ]
  },
  {
   "cell_type": "markdown",
   "metadata": {
    "deletable": true,
    "editable": true
   },
   "source": [
    "## Make fake data"
   ]
  },
  {
   "cell_type": "code",
   "execution_count": 4,
   "metadata": {
    "collapsed": false,
    "deletable": true,
    "editable": true,
    "execution": {
     "iopub.execute_input": "2022-04-16T20:27:22.084075Z",
     "iopub.status.busy": "2022-04-16T20:27:22.082375Z",
     "iopub.status.idle": "2022-04-16T20:27:22.095357Z",
     "shell.execute_reply": "2022-04-16T20:27:22.093928Z"
    },
    "jupyter": {
     "outputs_hidden": false
    }
   },
   "outputs": [],
   "source": [
    "Tcen = 250\n",
    "width = .001\n",
    "c = 0.2\n",
    "a = 0.7\n",
    "width = 20\n",
    "\n",
    "x = np.linspace(0, 350, 20)\n",
    "y = a*(erf((-x+Tcen)/width)+1)/2 + c\n",
    "\n",
    "xi = y + (np.random.rand(x.size) - 0.5) * 0.4\n",
    "xi_err = 0.02+0.01*np.random.rand(x.size)\n",
    "\n",
    "xfit = np.linspace(x.min(), x.max(), 5000)\n",
    "yfit = a*(erf((-xfit+Tcen)/width)+1)/2 + c\n",
    "\n",
    "M = np.min(np.diff(yfit)/np.diff(xfit))\n",
    "C = c+a/2-M*Tcen\n"
   ]
  },
  {
   "cell_type": "markdown",
   "metadata": {
    "deletable": true,
    "editable": true
   },
   "source": [
    "## Create figure"
   ]
  },
  {
   "cell_type": "code",
   "execution_count": 5,
   "metadata": {
    "collapsed": false,
    "deletable": true,
    "editable": true,
    "execution": {
     "iopub.execute_input": "2022-04-16T20:27:22.099577Z",
     "iopub.status.busy": "2022-04-16T20:27:22.099341Z",
     "iopub.status.idle": "2022-04-16T20:27:22.933309Z",
     "shell.execute_reply": "2022-04-16T20:27:22.931807Z"
    },
    "jupyter": {
     "outputs_hidden": false
    }
   },
   "outputs": [
    {
     "data": {
      "image/png": "[encoded data removed]",
      "text/plain": [
       "<Figure size 288x216 with 1 Axes>"
      ]
     },
     "metadata": {
      "needs_background": "light"
     },
     "output_type": "display_data"
    }
   ],
   "source": [
    "fig, ax = plt.subplots(figsize=(4, 3))\n",
    "\n",
    "ax.errorbar(x, xi, xi_err, fmt='o', color=colors[0])\n",
    "ax.plot(xfit, yfit, '-', color=colors[0])\n",
    "\n",
    "ax.plot(xfit, np.full(xfit.shape, c+a), alpha=0.5, lw=4, color=colors[1])\n",
    "ax.plot(xfit, M*xfit+C, alpha=0.5, lw=4, color=colors[2])\n",
    "\n",
    "ax.xaxis.set_minor_locator(ticker.AutoMinorLocator(2))\n",
    "ax.yaxis.set_minor_locator(ticker.AutoMinorLocator(2))\n",
    "ax.set_xlabel('T (K)')\n",
    "ax.set_ylabel('Cross correlation')\n",
    "\n",
    "\n",
    "ax.set_ylim([0, 1.2])\n",
    "\n",
    "fig.subplots_adjust(bottom=0.15)\n",
    "fig.savefig('ex_08_error_function_fit.pdf', dpi=600)\n"
   ]
  },
  {
   "cell_type": "code",
   "execution_count": null,
   "metadata": {
    "deletable": true,
    "editable": true
   },
   "outputs": [],
   "source": []
  },
  {
   "cell_type": "code",
   "execution_count": null,
   "metadata": {
    "deletable": true,
    "editable": true
   },
   "outputs": [],
   "source": []
  }
 ],
 "metadata": {
  "kernelspec": {
   "display_name": "Python 3",
   "language": "python",
   "name": "python3"
  },
  "language_info": {
   "codemirror_mode": {
    "name": "ipython",
    "version": 3
   },
   "file_extension": ".py",
   "mimetype": "text/x-python",
   "name": "python",
   "nbconvert_exporter": "python",
   "pygments_lexer": "ipython3",
   "version": "3.9.10"
  }
 },
 "nbformat": 4,
 "nbformat_minor": 4
}
