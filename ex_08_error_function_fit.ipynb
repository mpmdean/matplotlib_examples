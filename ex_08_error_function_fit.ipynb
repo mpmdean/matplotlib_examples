{
 "cells": [
  {
   "cell_type": "code",
   "execution_count": 1,
   "metadata": {
    "collapsed": false,
    "deletable": true,
    "editable": true,
    "execution": {
     "iopub.execute_input": "2022-08-23T08:23:00.791337Z",
     "iopub.status.busy": "2022-08-23T08:23:00.790973Z",
     "iopub.status.idle": "2022-08-23T08:23:01.523412Z",
     "shell.execute_reply": "2022-08-23T08:23:01.522489Z"
    },
    "jupyter": {
     "outputs_hidden": false
    }
   },
   "outputs": [],
   "source": [
    "import numpy as np\n",
    "from scipy.special import erf\n",
    "import matplotlib as mpl\n",
    "from matplotlib.gridspec import GridSpec\n",
    "import matplotlib.pyplot as plt\n",
    "import matplotlib.ticker as ticker\n",
    "import matplotlib.patches as patches\n",
    "\n",
    "%matplotlib inline"
   ]
  },
  {
   "cell_type": "markdown",
   "metadata": {
    "deletable": true,
    "editable": true
   },
   "source": [
    "Using matplotlibrc file from \n",
    "https://github.com/mpmdean/matplotlibrc\n",
    "All fields are using latex by default -- this avoid non-uniformity when using latex in some labels. "
   ]
  },
  {
   "cell_type": "code",
   "execution_count": 2,
   "metadata": {
    "collapsed": false,
    "deletable": true,
    "editable": true,
    "execution": {
     "iopub.execute_input": "2022-08-23T08:23:01.527753Z",
     "iopub.status.busy": "2022-08-23T08:23:01.526804Z",
     "iopub.status.idle": "2022-08-23T08:23:01.532070Z",
     "shell.execute_reply": "2022-08-23T08:23:01.531320Z"
    },
    "jupyter": {
     "outputs_hidden": false
    }
   },
   "outputs": [
    {
     "name": "stdout",
     "output_type": "stream",
     "text": [
      "Python version is 3.10.5 | packaged by conda-forge | (main, Jun 14 2022, 07:04:59) [GCC 10.3.0] \n",
      "\n",
      "Matplotlib version is 3.5.2 \n",
      "\n",
      "Matplotlibrc file is matplotlibrc\n",
      "\n"
     ]
    }
   ],
   "source": [
    "import sys\n",
    "print(\"Python version is {} \\n\".format(sys.version))\n",
    "print(\"Matplotlib version is {} \\n\".format(mpl.__version__))\n",
    "print(\"Matplotlibrc file is {}\\n\".format(mpl.matplotlib_fname()))"
   ]
  },
  {
   "cell_type": "code",
   "execution_count": 3,
   "metadata": {
    "collapsed": false,
    "deletable": true,
    "editable": true,
    "execution": {
     "iopub.execute_input": "2022-08-23T08:23:01.534841Z",
     "iopub.status.busy": "2022-08-23T08:23:01.534522Z",
     "iopub.status.idle": "2022-08-23T08:23:01.538596Z",
     "shell.execute_reply": "2022-08-23T08:23:01.537896Z"
    },
    "jupyter": {
     "outputs_hidden": false
    }
   },
   "outputs": [],
   "source": [
    "colors = [f'C{i}' for i in range(10)]"
   ]
  },
  {
   "cell_type": "markdown",
   "metadata": {
    "deletable": true,
    "editable": true
   },
   "source": [
    "## Make fake data"
   ]
  },
  {
   "cell_type": "code",
   "execution_count": 4,
   "metadata": {
    "collapsed": false,
    "deletable": true,
    "editable": true,
    "execution": {
     "iopub.execute_input": "2022-08-23T08:23:01.541471Z",
     "iopub.status.busy": "2022-08-23T08:23:01.540995Z",
     "iopub.status.idle": "2022-08-23T08:23:01.548157Z",
     "shell.execute_reply": "2022-08-23T08:23:01.547470Z"
    },
    "jupyter": {
     "outputs_hidden": false
    }
   },
   "outputs": [],
   "source": [
    "Tcen = 250\n",
    "width = .001\n",
    "c = 0.2\n",
    "a = 0.7\n",
    "width = 20\n",
    "\n",
    "x = np.linspace(0, 350, 20)\n",
    "y = a*(erf((-x+Tcen)/width)+1)/2 + c\n",
    "\n",
    "xi = y + (np.random.rand(x.size) - 0.5) * 0.4\n",
    "xi_err = 0.02+0.01*np.random.rand(x.size)\n",
    "\n",
    "xfit = np.linspace(x.min(), x.max(), 5000)\n",
    "yfit = a*(erf((-xfit+Tcen)/width)+1)/2 + c\n",
    "\n",
    "M = np.min(np.diff(yfit)/np.diff(xfit))\n",
    "C = c+a/2-M*Tcen\n"
   ]
  },
  {
   "cell_type": "markdown",
   "metadata": {
    "deletable": true,
    "editable": true
   },
   "source": [
    "## Create figure"
   ]
  },
  {
   "cell_type": "code",
   "execution_count": 5,
   "metadata": {
    "collapsed": false,
    "deletable": true,
    "editable": true,
    "execution": {
     "iopub.execute_input": "2022-08-23T08:23:01.551262Z",
     "iopub.status.busy": "2022-08-23T08:23:01.550984Z",
     "iopub.status.idle": "2022-08-23T08:23:02.126470Z",
     "shell.execute_reply": "2022-08-23T08:23:02.125726Z"
    },
    "jupyter": {
     "outputs_hidden": false
    }
   },
   "outputs": [
    {
     "data": {
      "image/png": "[encoded data removed]",
      "text/plain": [
       "<Figure size 288x216 with 1 Axes>"
      ]
     },
     "metadata": {
      "needs_background": "light"
     },
     "output_type": "display_data"
    }
   ],
   "source": [
    "fig, ax = plt.subplots(figsize=(4, 3))\n",
    "\n",
    "ax.errorbar(x, xi, xi_err, fmt='o', color=colors[0])\n",
    "ax.plot(xfit, yfit, '-', color=colors[0])\n",
    "\n",
    "ax.plot(xfit, np.full(xfit.shape, c+a), alpha=0.5, lw=4, color=colors[1])\n",
    "ax.plot(xfit, M*xfit+C, alpha=0.5, lw=4, color=colors[2])\n",
    "\n",
    "ax.xaxis.set_minor_locator(ticker.AutoMinorLocator(2))\n",
    "ax.yaxis.set_minor_locator(ticker.AutoMinorLocator(2))\n",
    "ax.set_xlabel('T (K)')\n",
    "ax.set_ylabel('Cross correlation')\n",
    "\n",
    "\n",
    "ax.set_ylim([0, 1.2])\n",
    "\n",
    "fig.subplots_adjust(bottom=0.15)\n",
    "fig.savefig('ex_08_error_function_fit.pdf', dpi=600)\n"
   ]
  },
  {
   "cell_type": "code",
   "execution_count": null,
   "metadata": {
    "deletable": true,
    "editable": true
   },
   "outputs": [],
   "source": []
  },
  {
   "cell_type": "code",
   "execution_count": null,
   "metadata": {
    "deletable": true,
    "editable": true
   },
   "outputs": [],
   "source": []
  }
 ],
 "metadata": {
  "kernelspec": {
   "display_name": "Python 3",
   "language": "python",
   "name": "python3"
  },
  "language_info": {
   "codemirror_mode": {
    "name": "ipython",
    "version": 3
   },
   "file_extension": ".py",
   "mimetype": "text/x-python",
   "name": "python",
   "nbconvert_exporter": "python",
   "pygments_lexer": "ipython3",
   "version": "3.10.5"
  }
 },
 "nbformat": 4,
 "nbformat_minor": 4
}
