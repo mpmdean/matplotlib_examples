{
 "cells": [
  {
   "cell_type": "code",
   "execution_count": 1,
   "metadata": {
    "collapsed": false,
    "deletable": true,
    "editable": true,
    "execution": {
     "iopub.execute_input": "2023-02-13T14:24:27.724070Z",
     "iopub.status.busy": "2023-02-13T14:24:27.722877Z",
     "iopub.status.idle": "2023-02-13T14:24:28.238066Z",
     "shell.execute_reply": "2023-02-13T14:24:28.237092Z"
    },
    "jupyter": {
     "outputs_hidden": false
    }
   },
   "outputs": [],
   "source": [
    "import numpy as np\n",
    "from scipy.special import erf\n",
    "import matplotlib as mpl\n",
    "from matplotlib.gridspec import GridSpec\n",
    "import matplotlib.pyplot as plt\n",
    "import matplotlib.ticker as ticker\n",
    "import matplotlib.patches as patches\n",
    "\n",
    "%matplotlib inline"
   ]
  },
  {
   "cell_type": "markdown",
   "metadata": {
    "deletable": true,
    "editable": true
   },
   "source": [
    "## Make fake data"
   ]
  },
  {
   "cell_type": "code",
   "execution_count": 2,
   "metadata": {
    "collapsed": false,
    "deletable": true,
    "editable": true,
    "execution": {
     "iopub.execute_input": "2023-02-13T14:24:28.242900Z",
     "iopub.status.busy": "2023-02-13T14:24:28.242133Z",
     "iopub.status.idle": "2023-02-13T14:24:28.251032Z",
     "shell.execute_reply": "2023-02-13T14:24:28.250049Z"
    },
    "jupyter": {
     "outputs_hidden": false
    }
   },
   "outputs": [],
   "source": [
    "Tcen = 250\n",
    "width = .001\n",
    "c = 0.2\n",
    "a = 0.7\n",
    "width = 20\n",
    "\n",
    "x = np.linspace(0, 350, 20)\n",
    "y = a*(erf((-x+Tcen)/width)+1)/2 + c\n",
    "\n",
    "xi = y + (np.random.rand(x.size) - 0.5) * 0.4\n",
    "xi_err = 0.02+0.01*np.random.rand(x.size)\n",
    "\n",
    "xfit = np.linspace(x.min(), x.max(), 5000)\n",
    "yfit = a*(erf((-xfit+Tcen)/width)+1)/2 + c\n",
    "\n",
    "M = np.min(np.diff(yfit)/np.diff(xfit))\n",
    "C = c+a/2-M*Tcen\n"
   ]
  },
  {
   "cell_type": "markdown",
   "metadata": {
    "deletable": true,
    "editable": true
   },
   "source": [
    "## Create figure"
   ]
  },
  {
   "cell_type": "code",
   "execution_count": 3,
   "metadata": {
    "collapsed": false,
    "deletable": true,
    "editable": true,
    "execution": {
     "iopub.execute_input": "2023-02-13T14:24:28.254221Z",
     "iopub.status.busy": "2023-02-13T14:24:28.253982Z",
     "iopub.status.idle": "2023-02-13T14:24:28.645585Z",
     "shell.execute_reply": "2023-02-13T14:24:28.644662Z"
    },
    "jupyter": {
     "outputs_hidden": false
    },
    "tags": []
   },
   "outputs": [
    {
     "data": {
      "image/png": "[encoded data removed]",
      "text/plain": [
       "<Figure size 400x300 with 1 Axes>"
      ]
     },
     "metadata": {},
     "output_type": "display_data"
    }
   ],
   "source": [
    "fig, ax = plt.subplots(figsize=(4, 3))\n",
    "\n",
    "ax.errorbar(x, xi, xi_err, fmt='o', color='C0')\n",
    "ax.plot(xfit, yfit, '-', color='C0')\n",
    "\n",
    "ax.plot(xfit, np.full(xfit.shape, c+a), alpha=0.5, lw=4, color='C1')\n",
    "ax.plot(xfit, M*xfit+C, alpha=0.5, lw=4, color='C2')\n",
    "\n",
    "ax.xaxis.set_minor_locator(ticker.AutoMinorLocator(2))\n",
    "ax.yaxis.set_minor_locator(ticker.AutoMinorLocator(2))\n",
    "ax.set_xlabel('T (K)')\n",
    "ax.set_ylabel('Cross correlation')\n",
    "\n",
    "\n",
    "ax.set_ylim([0, 1.2])\n",
    "\n",
    "fig.subplots_adjust(bottom=0.15)\n",
    "fig.savefig('ex_08_error_function_fit.pdf', dpi=600)\n"
   ]
  },
  {
   "cell_type": "code",
   "execution_count": null,
   "metadata": {
    "deletable": true,
    "editable": true
   },
   "outputs": [],
   "source": []
  },
  {
   "cell_type": "code",
   "execution_count": null,
   "metadata": {
    "deletable": true,
    "editable": true
   },
   "outputs": [],
   "source": []
  }
 ],
 "metadata": {
  "kernelspec": {
   "display_name": "Python 3 (ipykernel)",
   "language": "python",
   "name": "python3"
  },
  "language_info": {
   "codemirror_mode": {
    "name": "ipython",
    "version": 3
   },
   "file_extension": ".py",
   "mimetype": "text/x-python",
   "name": "python",
   "nbconvert_exporter": "python",
   "pygments_lexer": "ipython3",
   "version": "3.10.6"
  }
 },
 "nbformat": 4,
 "nbformat_minor": 4
}
