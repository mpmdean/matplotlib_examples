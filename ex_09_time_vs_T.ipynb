{
 "cells": [
  {
   "cell_type": "code",
   "execution_count": 1,
   "metadata": {
    "collapsed": false,
    "deletable": true,
    "editable": true,
    "jupyter": {
     "outputs_hidden": false
    }
   },
   "outputs": [],
   "source": [
    "import numpy as np\n",
    "from scipy.special import erf\n",
    "import matplotlib as mpl\n",
    "from matplotlib import gridspec\n",
    "from matplotlib.path import Path\n",
    "import matplotlib.pyplot as plt\n",
    "import matplotlib.ticker as ticker\n",
    "import matplotlib.patches as patches\n",
    "\n",
    "#from mpl_toolkits.axes_grid import inset_locator\n",
    "from mpl_toolkits.axes_grid1 import inset_locator\n",
    "\n",
    "%matplotlib widget"
   ]
  },
  {
   "cell_type": "markdown",
   "metadata": {
    "deletable": true,
    "editable": true
   },
   "source": [
    "Implementation of this plot is not ideal and should be worked on more. "
   ]
  },
  {
   "cell_type": "markdown",
   "metadata": {
    "deletable": true,
    "editable": true
   },
   "source": [
    "Using matplotlibrc file from \n",
    "https://github.com/mpmdean/matplotlibrc\n",
    "All fields are using latex by default -- this avoid non-uniformity when using latex in some labels. "
   ]
  },
  {
   "cell_type": "code",
   "execution_count": 2,
   "metadata": {
    "collapsed": false,
    "deletable": true,
    "editable": true,
    "jupyter": {
     "outputs_hidden": false
    }
   },
   "outputs": [
    {
     "name": "stdout",
     "output_type": "stream",
     "text": [
      "Python version is 3.7.6 | packaged by conda-forge | (default, Mar  5 2020, 15:27:18) \n",
      "[GCC 7.3.0] \n",
      "\n",
      "Matplotlib version is 3.1.3 \n",
      "\n",
      "Matplotlibrc file is /home/jovyan/matplotlibrc\n",
      "\n"
     ]
    }
   ],
   "source": [
    "import sys\n",
    "print(\"Python version is {} \\n\".format(sys.version))\n",
    "print(\"Matplotlib version is {} \\n\".format(mpl.__version__))\n",
    "print(\"Matplotlibrc file is {}\\n\".format(mpl.matplotlib_fname()))"
   ]
  },
  {
   "cell_type": "markdown",
   "metadata": {
    "deletable": true,
    "editable": true
   },
   "source": [
    "## Use matlotlib colors"
   ]
  },
  {
   "cell_type": "code",
   "execution_count": 3,
   "metadata": {
    "collapsed": false,
    "deletable": true,
    "editable": true,
    "jupyter": {
     "outputs_hidden": false
    }
   },
   "outputs": [],
   "source": [
    "colors = [c['color'] for c in mpl.rcParams['axes.prop_cycle']]"
   ]
  },
  {
   "cell_type": "markdown",
   "metadata": {
    "deletable": true,
    "editable": true
   },
   "source": [
    "## Make fake data"
   ]
  },
  {
   "cell_type": "code",
   "execution_count": 4,
   "metadata": {
    "collapsed": false,
    "deletable": true,
    "editable": true,
    "jupyter": {
     "outputs_hidden": false
    }
   },
   "outputs": [],
   "source": [
    "T = np.arange(10, 300, 20)\n",
    "Tc = 200\n",
    "t = (Tc-T)/Tc\n",
    "t[t<0] = 0\n",
    "r = 0.7*np.sqrt(t)\n",
    "r += 0.05*np.random.rand(T.size)\n",
    "\n",
    "r_error = 0.03 + 0.01*np.random.rand(T.size)\n",
    "\n",
    "fwhm = 0.04*erf( (T-Tc)/10 ) + 0.002*np.random.rand(T.size)\n",
    "\n",
    "fwhm_error = 0.005 + 0.001*np.random.rand(T.size)\n",
    "\n",
    "X, Y = np.meshgrid(np.arange(50), np.arange(50))\n",
    "\n",
    "M1 = np.exp( -( ((X-20)/5)**2 + ((Y-30)/10)**2) )\n"
   ]
  },
  {
   "cell_type": "markdown",
   "metadata": {
    "deletable": true,
    "editable": true
   },
   "source": [
    "## Create figure"
   ]
  },
  {
   "cell_type": "code",
   "execution_count": 5,
   "metadata": {
    "collapsed": false,
    "deletable": true,
    "editable": true,
    "jupyter": {
     "outputs_hidden": false
    }
   },
   "outputs": [
    {
     "data": {
      "application/vnd.jupyter.widget-view+json": {
       "model_id": "0eff09beccee41209c6459e383e887f4",
       "version_major": 2,
       "version_minor": 0
      },
      "text/plain": [
       "Canvas(toolbar=Toolbar(toolitems=[('Home', 'Reset original view', 'home', 'home'), ('Back', 'Back to previous …"
      ]
     },
     "metadata": {},
     "output_type": "display_data"
    }
   ],
   "source": [
    "fig = plt.figure(figsize=(3+3/8, 5))\n",
    "\n",
    "gs_main = gridspec.GridSpec(2, 1, height_ratios=[1,2], hspace=0, wspace=0,\n",
    "                            left=0.14, right=0.8,\n",
    "                           bottom=0.075, top=0.95)\n",
    "\n",
    "axtop = fig.add_subplot(gs_main[0])\n",
    "axbottom = fig.add_subplot(gs_main[1])\n",
    "\n",
    "images = 5\n",
    "gap = 0.03\n",
    "width = 0.3\n",
    "xlim=[-40, 300]\n",
    "axbottom.set_xlim(xlim)\n",
    "gs1 = gridspec.GridSpecFromSubplotSpec(images*2+1, 3, subplot_spec=gs_main[1],\n",
    "                                      width_ratios=[-0.08, 0.4, 0.6], wspace=0., hspace=0.,\n",
    "                                      height_ratios=[gap]+ [width, gap]*images)\n",
    "\n",
    "inset_axes = [fig.add_subplot(gs1[row, 1]) for row in range(1, images*2+1, 2)]\n",
    "\n",
    "[inset_ax.axis('off') for inset_ax in inset_axes]\n",
    "\n",
    "## Top panel\n",
    "axtop.errorbar(T, r, r_error, fmt='o', color=colors[0])\n",
    "\n",
    "axtop_right = axtop.twinx()\n",
    "axtop_right.errorbar(T, fwhm, fwhm_error, fmt='s', color=colors[1])\n",
    "\n",
    "axtop.set_xlabel('T (K)')\n",
    "axtop.set_ylabel('r', color=colors[0])\n",
    "axtop_right.set_ylabel(r'$\\xi$ (\\AA{}$^{-1}$) FWHM', color=colors[1])\n",
    "axtop_right.yaxis.set_minor_locator(ticker.AutoMinorLocator(2))\n",
    "\n",
    "\n",
    "for ax, color in zip([axtop, axtop_right], colors):\n",
    "    for t in ax.get_yticklabels():\n",
    "        t.set_color(color)\n",
    "\n",
    "axtop.set_xlim(xlim)\n",
    "axtop.xaxis.set_major_locator(ticker.MultipleLocator(50))\n",
    "axtop.xaxis.set_minor_locator(ticker.AutoMinorLocator(2))\n",
    "\n",
    "axtop.yaxis.set_minor_locator(ticker.AutoMinorLocator(2))\n",
    "\n",
    "axtop.xaxis.set_ticklabels([])\n",
    "\n",
    "# Add arrows\n",
    "arrow_l = patches.FancyArrowPatch(\n",
    "        (50, 0.55),\n",
    "        (7, 0.3),\n",
    "        connectionstyle='arc3, rad=-0.3',\n",
    "        mutation_scale=20, \n",
    "    facecolor=colors[0],\n",
    "    edgecolor='w', \n",
    "    )\n",
    "\n",
    "arrow_r = patches.FancyArrowPatch(\n",
    "        (260, 0.65),\n",
    "        (295, 0.45),\n",
    "        connectionstyle='arc3, rad=0.3',\n",
    "        mutation_scale=20, \n",
    "    facecolor=colors[1],\n",
    "    edgecolor='w', \n",
    "    )\n",
    "\n",
    "[axtop.add_patch(arr) for arr in [arrow_l, arrow_r]]\n",
    "\n",
    "## Bottom panel\n",
    "axbottom.set_ylim([0, 6.5])\n",
    "axbottom.yaxis.set_ticks([])\n",
    "axbottom.set_xlim(xlim)\n",
    "axbottom.xaxis.set_major_locator(ticker.MultipleLocator(50))\n",
    "axbottom.xaxis.set_minor_locator(ticker.AutoMinorLocator(2))\n",
    "\n",
    "axbottom.set_xlabel('Temperature [K]')\n",
    "axbottom.set_ylabel('Time')\n",
    "\n",
    "# add insets \n",
    "\n",
    "for inset_ax in inset_axes:\n",
    "    inset_ax.imshow(M1)\n",
    "\n",
    "axtop.set_ylim(top=1.3)\n",
    "axtop_right.set_ylim(top=0.12)\n",
    "axpics = []\n",
    "for x, scale, filename in zip([0.16, 0.45, 0.69], [0.00013, 0.00012, 0.00011],\n",
    "                              ['LTT.png', 'LTO.png', 'HTT.png']):\n",
    "    im = plt.imread(filename)\n",
    "    h = scale * im.shape[0]\n",
    "    w = scale * im.shape[1]\n",
    "    axpic = fig.add_axes([x, 0.825, w, h])\n",
    "    axpic.imshow(im)\n",
    "    axpic.axis('off')\n",
    "    axpics.append(axpics)\n",
    "    \n",
    "\n",
    "# Mark temperatures\n",
    "axtop.axvline(x=55, linestyle=':', color='k')\n",
    "axtop.axvline(x=240, linestyle=':', color='k')\n",
    "axbottom.axvline(x=55, linestyle=':', color='k')\n",
    "axbottom.axvline(x=240, linestyle=':', color='k')\n",
    "    \n",
    "# add Tcycle arrows \n",
    "\n",
    "axbottom_for_arrows = fig.add_subplot(gs_main[1], alpha=0.5)\n",
    "axbottom_for_arrows.axis(axbottom.axis())\n",
    "axbottom_for_arrows.axes.get_xaxis().set_visible(False)\n",
    "axbottom_for_arrows.axes.get_yaxis().set_visible(False)\n",
    "axbottom_for_arrows.patch.set_alpha(0)\n",
    "\n",
    "locs = np.arange(5.7, 1, -1.3) # start points of arrows\n",
    "#[5.7, 4.5, 3.3, 2.1] \n",
    "Tcycles = np.array([150, 240, 260, 90]) * 1.75\n",
    "jump = -1.1\n",
    "arrowstyle = patches.ArrowStyle(\"Fancy\", head_length=1.5, head_width=1,\n",
    "                                tail_width=0.3)\n",
    "\n",
    "for loc, Tcycle in zip(locs, Tcycles):\n",
    "    verts = [\n",
    "        [24, loc],  # P0\n",
    "        [Tcycle, loc+jump/2], # P1\n",
    "        [24, loc+jump], # P3\n",
    "        ]\n",
    "\n",
    "    codes = [Path.MOVETO,\n",
    "             Path.CURVE3,\n",
    "             Path.CURVE3,\n",
    "             ]\n",
    "\n",
    "    arrow_path = Path(verts, codes)\n",
    "    \n",
    "\n",
    "    arrow = patches.FancyArrowPatch(path=arrow_path,\n",
    "                      facecolor='k', edgecolor='k',\n",
    "                      arrowstyle=arrowstyle, mutation_scale=5)\n",
    "    axbottom_for_arrows.add_patch(arrow)\n",
    "\n",
    "\n",
    "fig.savefig('ex_09_time_vs_T.pdf', dpi=600)"
   ]
  }
 ],
 "metadata": {
  "kernelspec": {
   "display_name": "Python 3",
   "language": "python",
   "name": "python3"
  },
  "language_info": {
   "codemirror_mode": {
    "name": "ipython",
    "version": 3
   },
   "file_extension": ".py",
   "mimetype": "text/x-python",
   "name": "python",
   "nbconvert_exporter": "python",
   "pygments_lexer": "ipython3",
   "version": "3.7.6"
  }
 },
 "nbformat": 4,
 "nbformat_minor": 4
}
