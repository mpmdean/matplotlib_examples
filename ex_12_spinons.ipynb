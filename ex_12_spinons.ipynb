{
 "cells": [
  {
   "cell_type": "code",
   "execution_count": 1,
   "metadata": {
    "collapsed": false,
    "deletable": true,
    "editable": true,
    "execution": {
     "iopub.execute_input": "2022-12-03T21:51:26.739459Z",
     "iopub.status.busy": "2022-12-03T21:51:26.738905Z",
     "iopub.status.idle": "2022-12-03T21:51:27.274109Z",
     "shell.execute_reply": "2022-12-03T21:51:27.273163Z"
    },
    "jupyter": {
     "outputs_hidden": false
    }
   },
   "outputs": [],
   "source": [
    "import numpy as np\n",
    "import matplotlib as mpl\n",
    "import matplotlib.pyplot as plt\n",
    "from matplotlib.gridspec import GridSpec\n",
    "import matplotlib.ticker as ticker\n",
    "from cycler import cycle\n",
    "\n",
    "from gradient_fill import gradient_fill\n",
    "\n",
    "%matplotlib inline"
   ]
  },
  {
   "cell_type": "markdown",
   "metadata": {
    "deletable": true,
    "editable": true
   },
   "source": [
    "Ths using matplotlibrc file from \n",
    "https://github.com/mpmdean/matplotlibrc\n",
    "All fields are using latex by default -- this avoid non-uniformity when using latex in some labels. "
   ]
  },
  {
   "cell_type": "code",
   "execution_count": 2,
   "metadata": {
    "collapsed": false,
    "deletable": true,
    "editable": true,
    "execution": {
     "iopub.execute_input": "2022-12-03T21:51:27.277651Z",
     "iopub.status.busy": "2022-12-03T21:51:27.277278Z",
     "iopub.status.idle": "2022-12-03T21:51:27.283493Z",
     "shell.execute_reply": "2022-12-03T21:51:27.282498Z"
    },
    "jupyter": {
     "outputs_hidden": false
    }
   },
   "outputs": [
    {
     "name": "stdout",
     "output_type": "stream",
     "text": [
      "Python version is 3.10.6 | packaged by conda-forge | (main, Aug 22 2022, 20:36:39) [GCC 10.4.0] \n",
      "\n",
      "Matplotlib version is 3.6.0 \n",
      "\n",
      "Matplotlibrc file is matplotlibrc\n",
      "\n"
     ]
    }
   ],
   "source": [
    "import sys\n",
    "print(\"Python version is {} \\n\".format(sys.version))\n",
    "print(\"Matplotlib version is {} \\n\".format(mpl.__version__))\n",
    "print(\"Matplotlibrc file is {}\\n\".format(mpl.matplotlib_fname()))"
   ]
  },
  {
   "cell_type": "markdown",
   "metadata": {
    "deletable": true,
    "editable": true
   },
   "source": [
    "In this case, I think smaller markers are better. So set this at the top and copy this between scripts for other figures. \n"
   ]
  },
  {
   "cell_type": "markdown",
   "metadata": {
    "deletable": true,
    "editable": true
   },
   "source": [
    "## Make fake data"
   ]
  },
  {
   "cell_type": "code",
   "execution_count": 3,
   "metadata": {
    "collapsed": false,
    "deletable": true,
    "editable": true,
    "execution": {
     "iopub.execute_input": "2022-12-03T21:51:27.286966Z",
     "iopub.status.busy": "2022-12-03T21:51:27.286709Z",
     "iopub.status.idle": "2022-12-03T21:51:27.292682Z",
     "shell.execute_reply": "2022-12-03T21:51:27.291764Z"
    },
    "jupyter": {
     "outputs_hidden": false
    }
   },
   "outputs": [],
   "source": [
    "K = np.linspace(0, 1, 1000)\n",
    "J = 66\n",
    "lower = np.abs(np.pi*J/2 * np.sin(K*2*np.pi))\n",
    "upper = np.pi * J * np.sin(K*np.pi)"
   ]
  },
  {
   "cell_type": "markdown",
   "metadata": {
    "deletable": true,
    "editable": true
   },
   "source": [
    "## Create a set of colors and a cyler of markers\n",
    "The default matplotlib colors are often nice to use and can be accessed via"
   ]
  },
  {
   "cell_type": "code",
   "execution_count": 4,
   "metadata": {
    "deletable": true,
    "editable": true,
    "execution": {
     "iopub.execute_input": "2022-12-03T21:51:27.295961Z",
     "iopub.status.busy": "2022-12-03T21:51:27.295703Z",
     "iopub.status.idle": "2022-12-03T21:51:27.300405Z",
     "shell.execute_reply": "2022-12-03T21:51:27.299533Z"
    }
   },
   "outputs": [],
   "source": [
    "colors = [c['color'] for c in mpl.rcParams['axes.prop_cycle']]"
   ]
  },
  {
   "cell_type": "markdown",
   "metadata": {
    "deletable": true,
    "editable": true
   },
   "source": [
    "## Create figure"
   ]
  },
  {
   "cell_type": "code",
   "execution_count": 5,
   "metadata": {
    "collapsed": false,
    "deletable": true,
    "editable": true,
    "execution": {
     "iopub.execute_input": "2022-12-03T21:51:27.304005Z",
     "iopub.status.busy": "2022-12-03T21:51:27.303748Z",
     "iopub.status.idle": "2022-12-03T21:51:30.906871Z",
     "shell.execute_reply": "2022-12-03T21:51:30.905970Z"
    },
    "jupyter": {
     "outputs_hidden": false
    }
   },
   "outputs": [
    {
     "data": {
      "image/png": "[encoded data removed]",
      "text/plain": [
       "<Figure size 640x480 with 1 Axes>"
      ]
     },
     "metadata": {},
     "output_type": "display_data"
    }
   ],
   "source": [
    "fig, ax = plt.subplots()\n",
    "\n",
    "\n",
    "gradient_fill(K, upper, fill_color=colors[0], ax=ax, zorder=1, reverse=True)\n",
    "ax.fill_between(K, lower*0.95, color='w', zorder=10)\n",
    "\n",
    "ax.xaxis.set_minor_locator(ticker.AutoMinorLocator(2))\n",
    "ax.yaxis.set_minor_locator(ticker.AutoMinorLocator(2))\n",
    "ax.set_ylim(bottom=-5)\n",
    "ax.set_xlabel('K (r.l.u.)')\n",
    "ax.set_ylabel('E (meV)')\n",
    "    \n",
    "#fig.subplots_adjust(wspace=0, hspace=0, left=0.05, right=0.97, bottom=0.15, top=0.95)\n",
    "\n",
    "fig.savefig('exx_12_spinons.pdf', dpi=600)"
   ]
  },
  {
   "cell_type": "code",
   "execution_count": null,
   "metadata": {
    "deletable": true,
    "editable": true
   },
   "outputs": [],
   "source": []
  }
 ],
 "metadata": {
  "kernelspec": {
   "display_name": "Python 3",
   "language": "python",
   "name": "python3"
  },
  "language_info": {
   "codemirror_mode": {
    "name": "ipython",
    "version": 3
   },
   "file_extension": ".py",
   "mimetype": "text/x-python",
   "name": "python",
   "nbconvert_exporter": "python",
   "pygments_lexer": "ipython3",
   "version": "3.10.6"
  }
 },
 "nbformat": 4,
 "nbformat_minor": 4
}
