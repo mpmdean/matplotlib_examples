{
 "cells": [
  {
   "cell_type": "code",
   "execution_count": 1,
   "metadata": {
    "collapsed": false,
    "deletable": true,
    "editable": true,
    "jupyter": {
     "outputs_hidden": false
    }
   },
   "outputs": [],
   "source": [
    "import numpy as np\n",
    "import matplotlib as mpl\n",
    "import matplotlib.pyplot as plt\n",
    "from matplotlib.gridspec import GridSpec\n",
    "import matplotlib.ticker as ticker\n",
    "from cycler import cycle\n",
    "\n",
    "from mpl_toolkits.mplot3d import Axes3D\n",
    "from matplotlib.colors import LightSource\n",
    "\n",
    "%matplotlib widget"
   ]
  },
  {
   "cell_type": "markdown",
   "metadata": {
    "deletable": true,
    "editable": true
   },
   "source": [
    "Ths using matplotlibrc file from \n",
    "https://github.com/mpmdean/matplotlibrc\n",
    "All fields are using latex by default -- this avoid non-uniformity when using latex in some labels. "
   ]
  },
  {
   "cell_type": "code",
   "execution_count": 2,
   "metadata": {
    "collapsed": false,
    "deletable": true,
    "editable": true,
    "jupyter": {
     "outputs_hidden": false
    }
   },
   "outputs": [
    {
     "name": "stdout",
     "output_type": "stream",
     "text": [
      "Python version is 3.7.6 | packaged by conda-forge | (default, Mar  5 2020, 15:27:18) \n",
      "[GCC 7.3.0] \n",
      "\n",
      "Matplotlib version is 3.1.3 \n",
      "\n",
      "Matplotlibrc file is /home/jovyan/matplotlibrc\n",
      "\n"
     ]
    }
   ],
   "source": [
    "import sys\n",
    "print(\"Python version is {} \\n\".format(sys.version))\n",
    "print(\"Matplotlib version is {} \\n\".format(mpl.__version__))\n",
    "print(\"Matplotlibrc file is {}\\n\".format(mpl.matplotlib_fname()))"
   ]
  },
  {
   "cell_type": "markdown",
   "metadata": {
    "deletable": true,
    "editable": true
   },
   "source": [
    "## Make fake data"
   ]
  },
  {
   "cell_type": "code",
   "execution_count": 3,
   "metadata": {
    "collapsed": false,
    "deletable": true,
    "editable": true,
    "jupyter": {
     "outputs_hidden": false
    }
   },
   "outputs": [],
   "source": [
    "qx = np.linspace(-np.pi, np.pi, 50)\n",
    "qy = np.linspace(-np.pi, np.pi, 50)\n",
    "QX, QY = np.meshgrid(qx, qy)\n",
    "\n",
    "B = 0.5* (np.cos(QX) + np.cos(QY))\n",
    "\n",
    "E = np.sqrt(1-B**2)"
   ]
  },
  {
   "cell_type": "markdown",
   "metadata": {
    "deletable": true,
    "editable": true
   },
   "source": [
    "## Labels need to be moved"
   ]
  },
  {
   "cell_type": "code",
   "execution_count": 4,
   "metadata": {
    "collapsed": false,
    "deletable": true,
    "editable": true,
    "jupyter": {
     "outputs_hidden": false
    }
   },
   "outputs": [],
   "source": [
    "mpl.rcParams['xtick.major.pad'] = 0 \n",
    "mpl.rcParams['ytick.major.pad'] = 0 \n",
    "mpl.rcParams['axes.labelpad'] = 0 "
   ]
  },
  {
   "cell_type": "code",
   "execution_count": 5,
   "metadata": {
    "collapsed": false,
    "deletable": true,
    "editable": true,
    "jupyter": {
     "outputs_hidden": false
    }
   },
   "outputs": [
    {
     "data": {
      "application/vnd.jupyter.widget-view+json": {
       "model_id": "635d7377fc544fd692b549e8e53fe647",
       "version_major": 2,
       "version_minor": 0
      },
      "text/plain": [
       "Canvas(toolbar=Toolbar(toolitems=[('Home', 'Reset original view', 'home', 'home'), ('Back', 'Back to previous …"
      ]
     },
     "metadata": {},
     "output_type": "display_data"
    }
   ],
   "source": [
    "fig = plt.figure(figsize=(3+3/8, 2.5))\n",
    "ax = fig.gca(projection='3d')\n",
    "\n",
    "\n",
    "# create light source object.\n",
    "ls = LightSource(azdeg=0, altdeg=25)\n",
    "# shade data, creating an rgb array.\n",
    "shade = ls.shade(E, plt.cm.hot)\n",
    "surf = ax.plot_surface(QX, QY, E, rstride=1, cstride=1, linewidth=0,\n",
    "                       antialiased=False, facecolors=shade)\n",
    "\n",
    "\n",
    "ax.axis([-np.pi, np.pi, -np.pi, np.pi])\n",
    "\n",
    "ax.set_xticks(np.linspace(-np.pi, np.pi, 5))\n",
    "ax.set_xticklabels(['$(-\\pi, \\pi)$', '', '$(0, 0)$', '', '$(\\pi, \\pi)$'])\n",
    "ax.set_yticks(np.linspace(-np.pi, np.pi, 5))\n",
    "ax.set_yticklabels(['', '', '$(0, 0)$', '', '$(\\pi, -\\pi)$'])\n",
    "\n",
    "ax.set_zticks(np.linspace(0, 1, 6))\n",
    "\n",
    "ax.set_xlabel('$q_x$')\n",
    "ax.set_ylabel('$q_y$')\n",
    "ax.set_zlabel('E (eV)')\n",
    "\n",
    "fig.savefig('ex_03_surface.pdf')"
   ]
  },
  {
   "cell_type": "code",
   "execution_count": null,
   "metadata": {},
   "outputs": [],
   "source": []
  }
 ],
 "metadata": {
  "kernelspec": {
   "display_name": "Python 3",
   "language": "python",
   "name": "python3"
  },
  "language_info": {
   "codemirror_mode": {
    "name": "ipython",
    "version": 3
   },
   "file_extension": ".py",
   "mimetype": "text/x-python",
   "name": "python",
   "nbconvert_exporter": "python",
   "pygments_lexer": "ipython3",
   "version": "3.7.6"
  }
 },
 "nbformat": 4,
 "nbformat_minor": 4
}
