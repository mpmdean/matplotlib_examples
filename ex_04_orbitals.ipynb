{
 "cells": [
  {
   "cell_type": "code",
   "execution_count": 1,
   "metadata": {
    "deletable": true,
    "editable": true
   },
   "outputs": [],
   "source": [
    "import numpy as np\n",
    "from scipy.special import sph_harm\n",
    "\n",
    "from matplotlib import pyplot as plt\n",
    "from mpl_toolkits.mplot3d import Axes3D\n",
    "from mpl_toolkits.mplot3d import proj3d\n",
    "from matplotlib.patches import FancyArrowPatch\n",
    "\n",
    "%matplotlib widget"
   ]
  },
  {
   "cell_type": "markdown",
   "metadata": {
    "deletable": true,
    "editable": true
   },
   "source": [
    "Define Spherical Harmoics Y using familiar compact notations "
   ]
  },
  {
   "cell_type": "code",
   "execution_count": 2,
   "metadata": {
    "collapsed": false,
    "deletable": true,
    "editable": true,
    "jupyter": {
     "outputs_hidden": false
    }
   },
   "outputs": [],
   "source": [
    "def Ylm(l, m, T, P):\n",
    "    return sph_harm(m, l, T, P)\n",
    "\n",
    "def spherical_to_cart(R, T, P):\n",
    "    X = R*np.sin(P)*np.cos(T)\n",
    "    Y = R*np.sin(P)*np.sin(T)\n",
    "    Z = R*np.cos(P)\n",
    "    return X, Y, Z\n",
    "\n",
    "\n",
    "def plot(ax, R, T, P, **kwargs):\n",
    "    X, Y, Z = spherical_to_cart(R, T, P)\n",
    "    # remove last two arguments for faster execution\n",
    "    surface = ax.plot_surface(X, Y, Z, **kwargs, antialiased=True, rcount=200, ccount=200)\n",
    "    return surface"
   ]
  },
  {
   "cell_type": "code",
   "execution_count": 3,
   "metadata": {
    "collapsed": false,
    "deletable": true,
    "editable": true,
    "jupyter": {
     "outputs_hidden": false
    }
   },
   "outputs": [
    {
     "data": {
      "application/vnd.jupyter.widget-view+json": {
       "model_id": "667cc989657849d0a3700cd276b95f23",
       "version_major": 2,
       "version_minor": 0
      },
      "text/plain": [
       "Canvas(toolbar=Toolbar(toolitems=[('Home', 'Reset original view', 'home', 'home'), ('Back', 'Back to previous …"
      ]
     },
     "metadata": {},
     "output_type": "display_data"
    }
   ],
   "source": [
    "theta = np.linspace(0, np.pi, 90*2)\n",
    "phi   = np.linspace(-np.pi, np.pi, 180)\n",
    "T, P = np.meshgrid(theta, phi)\n",
    "\n",
    "tiny = np.finfo(float).eps\n",
    "\n",
    "l = 2\n",
    "lz0 = -1j/np.sqrt(2)*(Ylm(l, 2, T, P) - Ylm(l, -2, T, P))\n",
    "lz1 = -1j*Ylm(2, 1, T, P)\n",
    "\n",
    "C = np.abs(lz0)/(np.abs(lz1) + np.abs(lz0) + tiny)\n",
    "isoupfacecolors=plt.cm.get_cmap(\"coolwarm\")(C)\n",
    "\n",
    "C = np.abs(lz1)/(np.abs(lz1) + np.abs(lz0) + tiny)\n",
    "isodownfacecolors=plt.cm.get_cmap(\"coolwarm\")(C)\n",
    "\n",
    "redblue = plt.cm.get_cmap(\"coolwarm\")(np.linspace(0, 1, 2))\n",
    "red = redblue[0]\n",
    "blue = redblue[1]\n",
    "\n",
    "fig = plt.figure()\n",
    "axs = [fig.add_subplot(2, 2, n, projection='3d') for n in range(1, 4+1)]\n",
    "\n",
    "# lz0\n",
    "R = np.abs(lz0)\n",
    "plot(axs[0], R, T, P, color=blue)\n",
    "axs[0].set_title('$L_z=0$')\n",
    "\n",
    "# lz1\n",
    "R = np.abs(lz1)\n",
    "plot(axs[1], R, T, P, color=red)\n",
    "axs[1].set_title('$L_z=1$')\n",
    "\n",
    "# iso up\n",
    "R = np.abs(lz0) + np.abs(lz1)\n",
    "plot(axs[2], R, T, P, facecolors=isoupfacecolors)\n",
    "axs[2].set_title('Isospin Up')\n",
    "\n",
    "\n",
    "# iso down\n",
    "R = np.abs(lz0) + np.abs(lz1)\n",
    "plot(axs[3], R, T, P, facecolors=isodownfacecolors)\n",
    "axs[3].set_title('Isospin Down')\n",
    "\n",
    "for ax in axs:\n",
    "    ax.axis('off')\n",
    "\n",
    "\n",
    "fig.savefig('ex_04_orbitals.pdf')"
   ]
  },
  {
   "cell_type": "code",
   "execution_count": 4,
   "metadata": {
    "collapsed": false,
    "deletable": true,
    "editable": true,
    "jupyter": {
     "outputs_hidden": false
    }
   },
   "outputs": [
    {
     "data": {
      "application/vnd.jupyter.widget-view+json": {
       "model_id": "d4abf7568121429088ed800bc549c8e9",
       "version_major": 2,
       "version_minor": 0
      },
      "text/plain": [
       "Canvas(toolbar=Toolbar(toolitems=[('Home', 'Reset original view', 'home', 'home'), ('Back', 'Back to previous …"
      ]
     },
     "metadata": {},
     "output_type": "display_data"
    }
   ],
   "source": [
    "theta = np.linspace(0,   np.pi,  90*2)\n",
    "phi   = np.linspace(-np.pi, np.pi, 180)\n",
    "T, P = np.meshgrid(theta, phi)\n",
    "\n",
    "tiny = np.finfo(float).eps\n",
    "\n",
    "l = 2\n",
    "lz0 = -1j / np.sqrt(2) * ( Ylm(l,2,T,P) - Ylm(l,-2,T,P))\n",
    "lz1 = -1j * Ylm(2,1, T, P)\n",
    "\n",
    "C = np.abs(lz0)/(np.abs(lz1) + np.abs(lz0) + tiny)\n",
    "isoupfacecolors=plt.cm.get_cmap(\"coolwarm\")(C)\n",
    "\n",
    "C = np.abs(lz1)/(np.abs(lz1) + np.abs(lz0) + tiny)\n",
    "isodownfacecolors=plt.cm.get_cmap(\"coolwarm\")(C)\n",
    "\n",
    "redblue = plt.cm.get_cmap(\"coolwarm\")(np.linspace(0, 1, 2))\n",
    "red = redblue[0]\n",
    "blue = redblue[1]\n",
    "\n",
    "#l=1\n",
    "#pm32 = Ylm(l,-1,T,P) \n",
    "#pm12 = np.sqrt(1/3)*Ylm(l,-1,T,P) + np.sqrt(2/3)*Ylm(l,0,T,P) \n",
    "#p12 = np.sqrt(2/3)*Ylm(l,0,T,P) + np.sqrt(1/3)*Ylm(l,1,T,P) \n",
    "#p32 = Ylm(l,1,T,P) \n",
    "\n",
    "fig = plt.figure()\n",
    "axs = [fig.add_subplot(2, 2, n, projection='3d') for n in range(1,4+1)]\n",
    "\n",
    "# iso up\n",
    "R = np.abs(lz0) + np.abs(lz1)\n",
    "plot(axs[0], R, T, P, facecolors=isoupfacecolors)\n",
    "axs[0].set_title('Isospin Up')\n",
    "\n",
    "# iso down\n",
    "R = np.abs(lz0) + np.abs(lz1)\n",
    "plot(axs[1], R, T, P, facecolors=isodownfacecolors)\n",
    "axs[1].set_title('Isospin Down')\n",
    "\n",
    "# intermediate\n",
    "R = np.abs(lz0) + np.abs(lz1)\n",
    "plot(axs[2], R, T, P, color=(red+blue)/2)\n",
    "axs[2].set_title('Intermediate')\n",
    "\n",
    "# core\n",
    "R = np.abs(np.sin(T)*np.sin(P)) + np.abs(np.cos(T)) + np.abs(np.sin(T)*np.cos(P))\n",
    "plot(axs[3], R, T, P, color='g')\n",
    "axs[3].set_title('Core')\n",
    "\n",
    "for ax in axs:\n",
    "    ax.axis('off')\n",
    "\n",
    "fig.savefig('RIXS.pdf')"
   ]
  },
  {
   "cell_type": "code",
   "execution_count": null,
   "metadata": {
    "deletable": true,
    "editable": true
   },
   "outputs": [],
   "source": []
  }
 ],
 "metadata": {
  "kernelspec": {
   "display_name": "Python 3",
   "language": "python",
   "name": "python3"
  },
  "language_info": {
   "codemirror_mode": {
    "name": "ipython",
    "version": 3
   },
   "file_extension": ".py",
   "mimetype": "text/x-python",
   "name": "python",
   "nbconvert_exporter": "python",
   "pygments_lexer": "ipython3",
   "version": "3.7.6"
  }
 },
 "nbformat": 4,
 "nbformat_minor": 4
}
